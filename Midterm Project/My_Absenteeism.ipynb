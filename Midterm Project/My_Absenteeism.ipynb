{
 "cells": [
  {
   "cell_type": "markdown",
   "metadata": {},
   "source": [
    "<p style=\"font-family: Arial; font-size:3.75em; font-style:bold\"><br>\n",
    "Absenteeism time in hours</p><br>"
   ]
  },
  {
   "cell_type": "markdown",
   "metadata": {},
   "source": [
    "# Data Exploration "
   ]
  },
  {
   "cell_type": "markdown",
   "metadata": {},
   "source": [
    "This dataset consists of **740 observations** and **21 features** with:\n",
    "*  **8 Categorical features**: Reason for absence,Month of Absence, Day of the week, Seasons, Disciplinary failure,Education,Social drinker and Social smoker \n",
    "\n",
    "*  **13 numerical features**: ID, Transportation Expense , Distance from Residence to Work,Service time, Age , Work load , Hit target , Son, Pet, Weight, Height, Body mass index and Absenteeism time in hours "
   ]
  },
  {
   "cell_type": "code",
   "execution_count": 2,
   "metadata": {},
   "outputs": [],
   "source": [
    "import pandas as pd\n",
    "import numpy as np \n",
    "import matplotlib.pyplot as plt\n",
    "import scipy.stats as stats\n",
    "import seaborn as sns\n",
    "from sklearn.preprocessing import StandardScaler,MinMaxScaler\n",
    "from sklearn.decomposition import PCA\n",
    "from sklearn.preprocessing import StandardScaler\n",
    "from sklearn.cluster import KMeans\n",
    "from scipy.stats import chi2_contingency\n",
    "%matplotlib inline"
   ]
  },
  {
   "cell_type": "code",
   "execution_count": 3,
   "metadata": {},
   "outputs": [
    {
     "name": "stdout",
     "output_type": "stream",
     "text": [
      "<class 'pandas.core.frame.DataFrame'>\n"
     ]
    },
    {
     "data": {
      "text/html": [
       "<div>\n",
       "<style scoped>\n",
       "    .dataframe tbody tr th:only-of-type {\n",
       "        vertical-align: middle;\n",
       "    }\n",
       "\n",
       "    .dataframe tbody tr th {\n",
       "        vertical-align: top;\n",
       "    }\n",
       "\n",
       "    .dataframe thead th {\n",
       "        text-align: right;\n",
       "    }\n",
       "</style>\n",
       "<table border=\"1\" class=\"dataframe\">\n",
       "  <thead>\n",
       "    <tr style=\"text-align: right;\">\n",
       "      <th></th>\n",
       "      <th>ID</th>\n",
       "      <th>Reason for absence</th>\n",
       "      <th>Month of absence</th>\n",
       "      <th>Day of the week</th>\n",
       "      <th>Seasons</th>\n",
       "      <th>Transportation expense</th>\n",
       "      <th>Distance from Residence to Work</th>\n",
       "      <th>Service time</th>\n",
       "      <th>Age</th>\n",
       "      <th>Work load Average/day</th>\n",
       "      <th>...</th>\n",
       "      <th>Disciplinary failure</th>\n",
       "      <th>Education</th>\n",
       "      <th>Son</th>\n",
       "      <th>Social drinker</th>\n",
       "      <th>Social smoker</th>\n",
       "      <th>Pet</th>\n",
       "      <th>Weight</th>\n",
       "      <th>Height</th>\n",
       "      <th>Body mass index</th>\n",
       "      <th>Absenteeism time in hours</th>\n",
       "    </tr>\n",
       "  </thead>\n",
       "  <tbody>\n",
       "    <tr>\n",
       "      <th>0</th>\n",
       "      <td>11</td>\n",
       "      <td>26</td>\n",
       "      <td>7</td>\n",
       "      <td>3</td>\n",
       "      <td>1</td>\n",
       "      <td>289</td>\n",
       "      <td>36</td>\n",
       "      <td>13</td>\n",
       "      <td>33</td>\n",
       "      <td>239,554</td>\n",
       "      <td>...</td>\n",
       "      <td>0</td>\n",
       "      <td>1</td>\n",
       "      <td>2</td>\n",
       "      <td>1</td>\n",
       "      <td>0</td>\n",
       "      <td>1</td>\n",
       "      <td>90</td>\n",
       "      <td>172</td>\n",
       "      <td>30</td>\n",
       "      <td>4</td>\n",
       "    </tr>\n",
       "    <tr>\n",
       "      <th>1</th>\n",
       "      <td>36</td>\n",
       "      <td>0</td>\n",
       "      <td>7</td>\n",
       "      <td>3</td>\n",
       "      <td>1</td>\n",
       "      <td>118</td>\n",
       "      <td>13</td>\n",
       "      <td>18</td>\n",
       "      <td>50</td>\n",
       "      <td>239,554</td>\n",
       "      <td>...</td>\n",
       "      <td>1</td>\n",
       "      <td>1</td>\n",
       "      <td>1</td>\n",
       "      <td>1</td>\n",
       "      <td>0</td>\n",
       "      <td>0</td>\n",
       "      <td>98</td>\n",
       "      <td>178</td>\n",
       "      <td>31</td>\n",
       "      <td>0</td>\n",
       "    </tr>\n",
       "    <tr>\n",
       "      <th>2</th>\n",
       "      <td>3</td>\n",
       "      <td>23</td>\n",
       "      <td>7</td>\n",
       "      <td>4</td>\n",
       "      <td>1</td>\n",
       "      <td>179</td>\n",
       "      <td>51</td>\n",
       "      <td>18</td>\n",
       "      <td>38</td>\n",
       "      <td>239,554</td>\n",
       "      <td>...</td>\n",
       "      <td>0</td>\n",
       "      <td>1</td>\n",
       "      <td>0</td>\n",
       "      <td>1</td>\n",
       "      <td>0</td>\n",
       "      <td>0</td>\n",
       "      <td>89</td>\n",
       "      <td>170</td>\n",
       "      <td>31</td>\n",
       "      <td>2</td>\n",
       "    </tr>\n",
       "    <tr>\n",
       "      <th>3</th>\n",
       "      <td>7</td>\n",
       "      <td>7</td>\n",
       "      <td>7</td>\n",
       "      <td>5</td>\n",
       "      <td>1</td>\n",
       "      <td>279</td>\n",
       "      <td>5</td>\n",
       "      <td>14</td>\n",
       "      <td>39</td>\n",
       "      <td>239,554</td>\n",
       "      <td>...</td>\n",
       "      <td>0</td>\n",
       "      <td>1</td>\n",
       "      <td>2</td>\n",
       "      <td>1</td>\n",
       "      <td>1</td>\n",
       "      <td>0</td>\n",
       "      <td>68</td>\n",
       "      <td>168</td>\n",
       "      <td>24</td>\n",
       "      <td>4</td>\n",
       "    </tr>\n",
       "    <tr>\n",
       "      <th>4</th>\n",
       "      <td>11</td>\n",
       "      <td>23</td>\n",
       "      <td>7</td>\n",
       "      <td>5</td>\n",
       "      <td>1</td>\n",
       "      <td>289</td>\n",
       "      <td>36</td>\n",
       "      <td>13</td>\n",
       "      <td>33</td>\n",
       "      <td>239,554</td>\n",
       "      <td>...</td>\n",
       "      <td>0</td>\n",
       "      <td>1</td>\n",
       "      <td>2</td>\n",
       "      <td>1</td>\n",
       "      <td>0</td>\n",
       "      <td>1</td>\n",
       "      <td>90</td>\n",
       "      <td>172</td>\n",
       "      <td>30</td>\n",
       "      <td>2</td>\n",
       "    </tr>\n",
       "  </tbody>\n",
       "</table>\n",
       "<p>5 rows × 21 columns</p>\n",
       "</div>"
      ],
      "text/plain": [
       "   ID  Reason for absence  Month of absence  Day of the week  Seasons  \\\n",
       "0  11                  26                 7                3        1   \n",
       "1  36                   0                 7                3        1   \n",
       "2   3                  23                 7                4        1   \n",
       "3   7                   7                 7                5        1   \n",
       "4  11                  23                 7                5        1   \n",
       "\n",
       "   Transportation expense  Distance from Residence to Work  Service time  Age  \\\n",
       "0                     289                               36            13   33   \n",
       "1                     118                               13            18   50   \n",
       "2                     179                               51            18   38   \n",
       "3                     279                                5            14   39   \n",
       "4                     289                               36            13   33   \n",
       "\n",
       "  Work load Average/day   ...  Disciplinary failure  Education  Son  \\\n",
       "0                239,554  ...                     0          1    2   \n",
       "1                239,554  ...                     1          1    1   \n",
       "2                239,554  ...                     0          1    0   \n",
       "3                239,554  ...                     0          1    2   \n",
       "4                239,554  ...                     0          1    2   \n",
       "\n",
       "   Social drinker  Social smoker  Pet  Weight  Height  Body mass index  \\\n",
       "0               1              0    1      90     172               30   \n",
       "1               1              0    0      98     178               31   \n",
       "2               1              0    0      89     170               31   \n",
       "3               1              1    0      68     168               24   \n",
       "4               1              0    1      90     172               30   \n",
       "\n",
       "   Absenteeism time in hours  \n",
       "0                          4  \n",
       "1                          0  \n",
       "2                          2  \n",
       "3                          4  \n",
       "4                          2  \n",
       "\n",
       "[5 rows x 21 columns]"
      ]
     },
     "execution_count": 3,
     "metadata": {},
     "output_type": "execute_result"
    }
   ],
   "source": [
    "absent=pd.read_csv('./Absenteeism_at_work.csv',sep=',')\n",
    "print (type(absent))\n",
    "absent.head()"
   ]
  },
  {
   "cell_type": "code",
   "execution_count": 4,
   "metadata": {},
   "outputs": [
    {
     "data": {
      "image/png": "[encoded data removed]",
      "text/plain": [
       "<Figure size 800x800 with 1 Axes>"
      ]
     },
     "metadata": {},
     "output_type": "display_data"
    }
   ],
   "source": [
    "# Calculate percentage distribution of reasons for absence\n",
    "reason_counts = absent['Reason for absence'].value_counts(normalize=True) * 100\n",
    "\n",
    "# Plot the pie chart\n",
    "plt.figure(figsize=(8, 8))\n",
    "plt.pie(\n",
    "    reason_counts, \n",
    "    labels=reason_counts.index, \n",
    "    autopct='%1.1f%%', \n",
    "    startangle=90, \n",
    "    colors=plt.cm.tab20.colors,  # Use a colormap for diverse colors\n",
    "    textprops={'fontsize': 12}  # Font size for better readability\n",
    ")\n",
    "\n",
    "# Add a title\n",
    "plt.title('Percentage Distribution of Reasons for Absence', fontsize=16)\n",
    "plt.tight_layout()\n",
    "plt.show()\n"
   ]
  },
  {
   "cell_type": "code",
   "execution_count": 5,
   "metadata": {},
   "outputs": [
    {
     "name": "stderr",
     "output_type": "stream",
     "text": [
      "\n",
      "[notice] A new release of pip available: 22.3.1 -> 24.3.1\n",
      "[notice] To update, run: python.exe -m pip install --upgrade pip\n"
     ]
    },
    {
     "name": "stdout",
     "output_type": "stream",
     "text": [
      "Requirement already satisfied: plotly in c:\\users\\user\\appdata\\local\\programs\\python\\python311\\lib\\site-packages (5.24.1)\n",
      "Requirement already satisfied: tenacity>=6.2.0 in c:\\users\\user\\appdata\\local\\programs\\python\\python311\\lib\\site-packages (from plotly) (9.0.0)\n",
      "Requirement already satisfied: packaging in c:\\users\\user\\appdata\\local\\programs\\python\\python311\\lib\\site-packages (from plotly) (23.2)\n",
      "Note: you may need to restart the kernel to use updated packages.\n"
     ]
    }
   ],
   "source": [
    "%pip install plotly\n",
    "import plotly.express as px"
   ]
  },
  {
   "cell_type": "code",
   "execution_count": 6,
   "metadata": {},
   "outputs": [
    {
     "data": {
      "application/vnd.plotly.v1+json": {
       "config": {
        "plotlyServerURL": "https://plot.ly"
       },
       "data": [
        {
         "branchvalues": "total",
         "customdata": [
          [
           1
          ],
          [
           2
          ],
          [
           3
          ],
          [
           4
          ],
          [
           1
          ],
          [
           2
          ],
          [
           3
          ],
          [
           4
          ],
          [
           4
          ],
          [
           2
          ],
          [
           4
          ],
          [
           1
          ],
          [
           3
          ],
          [
           1
          ],
          [
           2
          ],
          [
           3
          ],
          [
           4
          ],
          [
           1
          ],
          [
           2
          ],
          [
           3
          ],
          [
           4
          ],
          [
           1
          ],
          [
           2
          ],
          [
           3
          ],
          [
           4
          ],
          [
           1
          ],
          [
           4
          ],
          [
           1
          ],
          [
           2
          ],
          [
           3
          ],
          [
           4
          ],
          [
           1
          ],
          [
           2
          ],
          [
           3
          ],
          [
           4
          ],
          [
           2
          ],
          [
           3
          ],
          [
           4
          ],
          [
           1
          ],
          [
           2
          ],
          [
           3
          ],
          [
           4
          ],
          [
           1
          ],
          [
           2
          ],
          [
           3
          ],
          [
           4
          ],
          [
           1
          ],
          [
           4
          ],
          [
           3
          ],
          [
           2
          ],
          [
           1
          ],
          [
           2
          ],
          [
           3
          ],
          [
           4
          ],
          [
           1
          ],
          [
           2
          ],
          [
           3
          ],
          [
           4
          ],
          [
           1
          ],
          [
           2
          ],
          [
           4
          ],
          [
           1
          ],
          [
           2
          ],
          [
           3
          ],
          [
           4
          ],
          [
           1
          ],
          [
           2
          ],
          [
           3
          ],
          [
           4
          ],
          [
           1
          ],
          [
           4
          ],
          [
           1
          ],
          [
           2
          ],
          [
           3
          ],
          [
           4
          ],
          [
           1
          ],
          [
           2
          ],
          [
           3
          ],
          [
           4
          ],
          [
           2
          ],
          [
           3
          ],
          [
           4
          ],
          [
           1
          ],
          [
           2
          ],
          [
           3
          ],
          [
           4
          ],
          [
           1
          ],
          [
           2
          ],
          [
           3
          ],
          [
           4
          ]
         ],
         "domain": {
          "x": [
           0,
           1
          ],
          "y": [
           0,
           1
          ]
         },
         "hovertemplate": "labels=%{label}<br>Count=%{value}<br>parent=%{parent}<br>id=%{id}<br>Seasons=%{color}<extra></extra>",
         "ids": [
          "1/0",
          "2/0",
          "3/0",
          "4/0",
          "1/1",
          "2/1",
          "3/1",
          "4/1",
          "4/2",
          "2/3",
          "4/4",
          "1/5",
          "3/5",
          "1/6",
          "2/6",
          "3/6",
          "4/6",
          "1/7",
          "2/7",
          "3/7",
          "4/7",
          "1/8",
          "2/8",
          "3/8",
          "4/8",
          "1/9",
          "4/9",
          "1/10",
          "2/10",
          "3/10",
          "4/10",
          "1/11",
          "2/11",
          "3/11",
          "4/11",
          "2/12",
          "3/12",
          "4/12",
          "1/13",
          "2/13",
          "3/13",
          "4/13",
          "1/14",
          "2/14",
          "3/14",
          "4/14",
          "1/15",
          "4/15",
          "3/16",
          "2/17",
          "1/18",
          "2/18",
          "3/18",
          "4/18",
          "1/19",
          "2/19",
          "3/19",
          "4/19",
          "1/21",
          "2/21",
          "4/21",
          "1/22",
          "2/22",
          "3/22",
          "4/22",
          "1/23",
          "2/23",
          "3/23",
          "4/23",
          "1/24",
          "4/24",
          "1/25",
          "2/25",
          "3/25",
          "4/25",
          "1/26",
          "2/26",
          "3/26",
          "4/26",
          "2/27",
          "3/27",
          "4/27",
          "1/28",
          "2/28",
          "3/28",
          "4/28",
          "1",
          "2",
          "3",
          "4"
         ],
         "labels": [
          "0",
          "0",
          "0",
          "0",
          "1",
          "1",
          "1",
          "1",
          "2",
          "3",
          "4",
          "5",
          "5",
          "6",
          "6",
          "6",
          "6",
          "7",
          "7",
          "7",
          "7",
          "8",
          "8",
          "8",
          "8",
          "9",
          "9",
          "10",
          "10",
          "10",
          "10",
          "11",
          "11",
          "11",
          "11",
          "12",
          "12",
          "12",
          "13",
          "13",
          "13",
          "13",
          "14",
          "14",
          "14",
          "14",
          "15",
          "15",
          "16",
          "17",
          "18",
          "18",
          "18",
          "18",
          "19",
          "19",
          "19",
          "19",
          "21",
          "21",
          "21",
          "22",
          "22",
          "22",
          "22",
          "23",
          "23",
          "23",
          "23",
          "24",
          "24",
          "25",
          "25",
          "25",
          "25",
          "26",
          "26",
          "26",
          "26",
          "27",
          "27",
          "27",
          "28",
          "28",
          "28",
          "28",
          "1",
          "2",
          "3",
          "4"
         ],
         "marker": {
          "coloraxis": "coloraxis",
          "colors": [
           1,
           2,
           3,
           4,
           1,
           2,
           3,
           4,
           4,
           2,
           4,
           1,
           3,
           1,
           2,
           3,
           4,
           1,
           2,
           3,
           4,
           1,
           2,
           3,
           4,
           1,
           4,
           1,
           2,
           3,
           4,
           1,
           2,
           3,
           4,
           2,
           3,
           4,
           1,
           2,
           3,
           4,
           1,
           2,
           3,
           4,
           1,
           4,
           3,
           2,
           1,
           2,
           3,
           4,
           1,
           2,
           3,
           4,
           1,
           2,
           4,
           1,
           2,
           3,
           4,
           1,
           2,
           3,
           4,
           1,
           4,
           1,
           2,
           3,
           4,
           1,
           2,
           3,
           4,
           2,
           3,
           4,
           1,
           2,
           3,
           4,
           1,
           2,
           3,
           4
          ]
         },
         "name": "",
         "parents": [
          "1",
          "2",
          "3",
          "4",
          "1",
          "2",
          "3",
          "4",
          "4",
          "2",
          "4",
          "1",
          "3",
          "1",
          "2",
          "3",
          "4",
          "1",
          "2",
          "3",
          "4",
          "1",
          "2",
          "3",
          "4",
          "1",
          "4",
          "1",
          "2",
          "3",
          "4",
          "1",
          "2",
          "3",
          "4",
          "2",
          "3",
          "4",
          "1",
          "2",
          "3",
          "4",
          "1",
          "2",
          "3",
          "4",
          "1",
          "4",
          "3",
          "2",
          "1",
          "2",
          "3",
          "4",
          "1",
          "2",
          "3",
          "4",
          "1",
          "2",
          "4",
          "1",
          "2",
          "3",
          "4",
          "1",
          "2",
          "3",
          "4",
          "1",
          "4",
          "1",
          "2",
          "3",
          "4",
          "1",
          "2",
          "3",
          "4",
          "2",
          "3",
          "4",
          "1",
          "2",
          "3",
          "4",
          "",
          "",
          "",
          ""
         ],
         "textinfo": "label+percent entry",
         "type": "sunburst",
         "values": [
          6,
          2,
          14,
          21,
          5,
          4,
          1,
          6,
          1,
          1,
          2,
          2,
          1,
          3,
          1,
          1,
          3,
          2,
          4,
          5,
          4,
          2,
          1,
          2,
          1,
          3,
          1,
          2,
          4,
          12,
          7,
          9,
          4,
          9,
          4,
          4,
          2,
          2,
          8,
          14,
          22,
          11,
          3,
          3,
          6,
          7,
          1,
          1,
          3,
          1,
          7,
          8,
          2,
          4,
          10,
          10,
          16,
          4,
          2,
          1,
          3,
          11,
          9,
          11,
          7,
          43,
          27,
          22,
          57,
          1,
          2,
          11,
          14,
          3,
          3,
          11,
          6,
          5,
          11,
          56,
          12,
          1,
          28,
          18,
          34,
          32,
          170,
          192,
          183,
          195
         ]
        }
       ],
       "layout": {
        "coloraxis": {
         "colorbar": {
          "title": {
           "text": "Seasons"
          }
         },
         "colorscale": [
          [
           0,
           "#0d0887"
          ],
          [
           0.1111111111111111,
           "#46039f"
          ],
          [
           0.2222222222222222,
           "#7201a8"
          ],
          [
           0.3333333333333333,
           "#9c179e"
          ],
          [
           0.4444444444444444,
           "#bd3786"
          ],
          [
           0.5555555555555556,
           "#d8576b"
          ],
          [
           0.6666666666666666,
           "#ed7953"
          ],
          [
           0.7777777777777778,
           "#fb9f3a"
          ],
          [
           0.8888888888888888,
           "#fdca26"
          ],
          [
           1,
           "#f0f921"
          ]
         ]
        },
        "legend": {
         "tracegroupgap": 0
        },
        "sunburstcolorway": [
         "rgb(141,211,199)",
         "rgb(255,255,179)",
         "rgb(190,186,218)",
         "rgb(251,128,114)",
         "rgb(128,177,211)",
         "rgb(253,180,98)",
         "rgb(179,222,105)",
         "rgb(252,205,229)",
         "rgb(217,217,217)",
         "rgb(188,128,189)",
         "rgb(204,235,197)",
         "rgb(255,237,111)"
        ],
        "template": {
         "data": {
          "bar": [
           {
            "error_x": {
             "color": "#2a3f5f"
            },
            "error_y": {
             "color": "#2a3f5f"
            },
            "marker": {
             "line": {
              "color": "#E5ECF6",
              "width": 0.5
             },
             "pattern": {
              "fillmode": "overlay",
              "size": 10,
              "solidity": 0.2
             }
            },
            "type": "bar"
           }
          ],
          "barpolar": [
           {
            "marker": {
             "line": {
              "color": "#E5ECF6",
              "width": 0.5
             },
             "pattern": {
              "fillmode": "overlay",
              "size": 10,
              "solidity": 0.2
             }
            },
            "type": "barpolar"
           }
          ],
          "carpet": [
           {
            "aaxis": {
             "endlinecolor": "#2a3f5f",
             "gridcolor": "white",
             "linecolor": "white",
             "minorgridcolor": "white",
             "startlinecolor": "#2a3f5f"
            },
            "baxis": {
             "endlinecolor": "#2a3f5f",
             "gridcolor": "white",
             "linecolor": "white",
             "minorgridcolor": "white",
             "startlinecolor": "#2a3f5f"
            },
            "type": "carpet"
           }
          ],
          "choropleth": [
           {
            "colorbar": {
             "outlinewidth": 0,
             "ticks": ""
            },
            "type": "choropleth"
           }
          ],
          "contour": [
           {
            "colorbar": {
             "outlinewidth": 0,
             "ticks": ""
            },
            "colorscale": [
             [
              0,
              "#0d0887"
             ],
             [
              0.1111111111111111,
              "#46039f"
             ],
             [
              0.2222222222222222,
              "#7201a8"
             ],
             [
              0.3333333333333333,
              "#9c179e"
             ],
             [
              0.4444444444444444,
              "#bd3786"
             ],
             [
              0.5555555555555556,
              "#d8576b"
             ],
             [
              0.6666666666666666,
              "#ed7953"
             ],
             [
              0.7777777777777778,
              "#fb9f3a"
             ],
             [
              0.8888888888888888,
              "#fdca26"
             ],
             [
              1,
              "#f0f921"
             ]
            ],
            "type": "contour"
           }
          ],
          "contourcarpet": [
           {
            "colorbar": {
             "outlinewidth": 0,
             "ticks": ""
            },
            "type": "contourcarpet"
           }
          ],
          "heatmap": [
           {
            "colorbar": {
             "outlinewidth": 0,
             "ticks": ""
            },
            "colorscale": [
             [
              0,
              "#0d0887"
             ],
             [
              0.1111111111111111,
              "#46039f"
             ],
             [
              0.2222222222222222,
              "#7201a8"
             ],
             [
              0.3333333333333333,
              "#9c179e"
             ],
             [
              0.4444444444444444,
              "#bd3786"
             ],
             [
              0.5555555555555556,
              "#d8576b"
             ],
             [
              0.6666666666666666,
              "#ed7953"
             ],
             [
              0.7777777777777778,
              "#fb9f3a"
             ],
             [
              0.8888888888888888,
              "#fdca26"
             ],
             [
              1,
              "#f0f921"
             ]
            ],
            "type": "heatmap"
           }
          ],
          "heatmapgl": [
           {
            "colorbar": {
             "outlinewidth": 0,
             "ticks": ""
            },
            "colorscale": [
             [
              0,
              "#0d0887"
             ],
             [
              0.1111111111111111,
              "#46039f"
             ],
             [
              0.2222222222222222,
              "#7201a8"
             ],
             [
              0.3333333333333333,
              "#9c179e"
             ],
             [
              0.4444444444444444,
              "#bd3786"
             ],
             [
              0.5555555555555556,
              "#d8576b"
             ],
             [
              0.6666666666666666,
              "#ed7953"
             ],
             [
              0.7777777777777778,
              "#fb9f3a"
             ],
             [
              0.8888888888888888,
              "#fdca26"
             ],
             [
              1,
              "#f0f921"
             ]
            ],
            "type": "heatmapgl"
           }
          ],
          "histogram": [
           {
            "marker": {
             "pattern": {
              "fillmode": "overlay",
              "size": 10,
              "solidity": 0.2
             }
            },
            "type": "histogram"
           }
          ],
          "histogram2d": [
           {
            "colorbar": {
             "outlinewidth": 0,
             "ticks": ""
            },
            "colorscale": [
             [
              0,
              "#0d0887"
             ],
             [
              0.1111111111111111,
              "#46039f"
             ],
             [
              0.2222222222222222,
              "#7201a8"
             ],
             [
              0.3333333333333333,
              "#9c179e"
             ],
             [
              0.4444444444444444,
              "#bd3786"
             ],
             [
              0.5555555555555556,
              "#d8576b"
             ],
             [
              0.6666666666666666,
              "#ed7953"
             ],
             [
              0.7777777777777778,
              "#fb9f3a"
             ],
             [
              0.8888888888888888,
              "#fdca26"
             ],
             [
              1,
              "#f0f921"
             ]
            ],
            "type": "histogram2d"
           }
          ],
          "histogram2dcontour": [
           {
            "colorbar": {
             "outlinewidth": 0,
             "ticks": ""
            },
            "colorscale": [
             [
              0,
              "#0d0887"
             ],
             [
              0.1111111111111111,
              "#46039f"
             ],
             [
              0.2222222222222222,
              "#7201a8"
             ],
             [
              0.3333333333333333,
              "#9c179e"
             ],
             [
              0.4444444444444444,
              "#bd3786"
             ],
             [
              0.5555555555555556,
              "#d8576b"
             ],
             [
              0.6666666666666666,
              "#ed7953"
             ],
             [
              0.7777777777777778,
              "#fb9f3a"
             ],
             [
              0.8888888888888888,
              "#fdca26"
             ],
             [
              1,
              "#f0f921"
             ]
            ],
            "type": "histogram2dcontour"
           }
          ],
          "mesh3d": [
           {
            "colorbar": {
             "outlinewidth": 0,
             "ticks": ""
            },
            "type": "mesh3d"
           }
          ],
          "parcoords": [
           {
            "line": {
             "colorbar": {
              "outlinewidth": 0,
              "ticks": ""
             }
            },
            "type": "parcoords"
           }
          ],
          "pie": [
           {
            "automargin": true,
            "type": "pie"
           }
          ],
          "scatter": [
           {
            "fillpattern": {
             "fillmode": "overlay",
             "size": 10,
             "solidity": 0.2
            },
            "type": "scatter"
           }
          ],
          "scatter3d": [
           {
            "line": {
             "colorbar": {
              "outlinewidth": 0,
              "ticks": ""
             }
            },
            "marker": {
             "colorbar": {
              "outlinewidth": 0,
              "ticks": ""
             }
            },
            "type": "scatter3d"
           }
          ],
          "scattercarpet": [
           {
            "marker": {
             "colorbar": {
              "outlinewidth": 0,
              "ticks": ""
             }
            },
            "type": "scattercarpet"
           }
          ],
          "scattergeo": [
           {
            "marker": {
             "colorbar": {
              "outlinewidth": 0,
              "ticks": ""
             }
            },
            "type": "scattergeo"
           }
          ],
          "scattergl": [
           {
            "marker": {
             "colorbar": {
              "outlinewidth": 0,
              "ticks": ""
             }
            },
            "type": "scattergl"
           }
          ],
          "scattermapbox": [
           {
            "marker": {
             "colorbar": {
              "outlinewidth": 0,
              "ticks": ""
             }
            },
            "type": "scattermapbox"
           }
          ],
          "scatterpolar": [
           {
            "marker": {
             "colorbar": {
              "outlinewidth": 0,
              "ticks": ""
             }
            },
            "type": "scatterpolar"
           }
          ],
          "scatterpolargl": [
           {
            "marker": {
             "colorbar": {
              "outlinewidth": 0,
              "ticks": ""
             }
            },
            "type": "scatterpolargl"
           }
          ],
          "scatterternary": [
           {
            "marker": {
             "colorbar": {
              "outlinewidth": 0,
              "ticks": ""
             }
            },
            "type": "scatterternary"
           }
          ],
          "surface": [
           {
            "colorbar": {
             "outlinewidth": 0,
             "ticks": ""
            },
            "colorscale": [
             [
              0,
              "#0d0887"
             ],
             [
              0.1111111111111111,
              "#46039f"
             ],
             [
              0.2222222222222222,
              "#7201a8"
             ],
             [
              0.3333333333333333,
              "#9c179e"
             ],
             [
              0.4444444444444444,
              "#bd3786"
             ],
             [
              0.5555555555555556,
              "#d8576b"
             ],
             [
              0.6666666666666666,
              "#ed7953"
             ],
             [
              0.7777777777777778,
              "#fb9f3a"
             ],
             [
              0.8888888888888888,
              "#fdca26"
             ],
             [
              1,
              "#f0f921"
             ]
            ],
            "type": "surface"
           }
          ],
          "table": [
           {
            "cells": {
             "fill": {
              "color": "#EBF0F8"
             },
             "line": {
              "color": "white"
             }
            },
            "header": {
             "fill": {
              "color": "#C8D4E3"
             },
             "line": {
              "color": "white"
             }
            },
            "type": "table"
           }
          ]
         },
         "layout": {
          "annotationdefaults": {
           "arrowcolor": "#2a3f5f",
           "arrowhead": 0,
           "arrowwidth": 1
          },
          "autotypenumbers": "strict",
          "coloraxis": {
           "colorbar": {
            "outlinewidth": 0,
            "ticks": ""
           }
          },
          "colorscale": {
           "diverging": [
            [
             0,
             "#8e0152"
            ],
            [
             0.1,
             "#c51b7d"
            ],
            [
             0.2,
             "#de77ae"
            ],
            [
             0.3,
             "#f1b6da"
            ],
            [
             0.4,
             "#fde0ef"
            ],
            [
             0.5,
             "#f7f7f7"
            ],
            [
             0.6,
             "#e6f5d0"
            ],
            [
             0.7,
             "#b8e186"
            ],
            [
             0.8,
             "#7fbc41"
            ],
            [
             0.9,
             "#4d9221"
            ],
            [
             1,
             "#276419"
            ]
           ],
           "sequential": [
            [
             0,
             "#0d0887"
            ],
            [
             0.1111111111111111,
             "#46039f"
            ],
            [
             0.2222222222222222,
             "#7201a8"
            ],
            [
             0.3333333333333333,
             "#9c179e"
            ],
            [
             0.4444444444444444,
             "#bd3786"
            ],
            [
             0.5555555555555556,
             "#d8576b"
            ],
            [
             0.6666666666666666,
             "#ed7953"
            ],
            [
             0.7777777777777778,
             "#fb9f3a"
            ],
            [
             0.8888888888888888,
             "#fdca26"
            ],
            [
             1,
             "#f0f921"
            ]
           ],
           "sequentialminus": [
            [
             0,
             "#0d0887"
            ],
            [
             0.1111111111111111,
             "#46039f"
            ],
            [
             0.2222222222222222,
             "#7201a8"
            ],
            [
             0.3333333333333333,
             "#9c179e"
            ],
            [
             0.4444444444444444,
             "#bd3786"
            ],
            [
             0.5555555555555556,
             "#d8576b"
            ],
            [
             0.6666666666666666,
             "#ed7953"
            ],
            [
             0.7777777777777778,
             "#fb9f3a"
            ],
            [
             0.8888888888888888,
             "#fdca26"
            ],
            [
             1,
             "#f0f921"
            ]
           ]
          },
          "colorway": [
           "#636efa",
           "#EF553B",
           "#00cc96",
           "#ab63fa",
           "#FFA15A",
           "#19d3f3",
           "#FF6692",
           "#B6E880",
           "#FF97FF",
           "#FECB52"
          ],
          "font": {
           "color": "#2a3f5f"
          },
          "geo": {
           "bgcolor": "white",
           "lakecolor": "white",
           "landcolor": "#E5ECF6",
           "showlakes": true,
           "showland": true,
           "subunitcolor": "white"
          },
          "hoverlabel": {
           "align": "left"
          },
          "hovermode": "closest",
          "mapbox": {
           "style": "light"
          },
          "paper_bgcolor": "white",
          "plot_bgcolor": "#E5ECF6",
          "polar": {
           "angularaxis": {
            "gridcolor": "white",
            "linecolor": "white",
            "ticks": ""
           },
           "bgcolor": "#E5ECF6",
           "radialaxis": {
            "gridcolor": "white",
            "linecolor": "white",
            "ticks": ""
           }
          },
          "scene": {
           "xaxis": {
            "backgroundcolor": "#E5ECF6",
            "gridcolor": "white",
            "gridwidth": 2,
            "linecolor": "white",
            "showbackground": true,
            "ticks": "",
            "zerolinecolor": "white"
           },
           "yaxis": {
            "backgroundcolor": "#E5ECF6",
            "gridcolor": "white",
            "gridwidth": 2,
            "linecolor": "white",
            "showbackground": true,
            "ticks": "",
            "zerolinecolor": "white"
           },
           "zaxis": {
            "backgroundcolor": "#E5ECF6",
            "gridcolor": "white",
            "gridwidth": 2,
            "linecolor": "white",
            "showbackground": true,
            "ticks": "",
            "zerolinecolor": "white"
           }
          },
          "shapedefaults": {
           "line": {
            "color": "#2a3f5f"
           }
          },
          "ternary": {
           "aaxis": {
            "gridcolor": "white",
            "linecolor": "white",
            "ticks": ""
           },
           "baxis": {
            "gridcolor": "white",
            "linecolor": "white",
            "ticks": ""
           },
           "bgcolor": "#E5ECF6",
           "caxis": {
            "gridcolor": "white",
            "linecolor": "white",
            "ticks": ""
           }
          },
          "title": {
           "x": 0.05
          },
          "xaxis": {
           "automargin": true,
           "gridcolor": "white",
           "linecolor": "white",
           "ticks": "",
           "title": {
            "standoff": 15
           },
           "zerolinecolor": "white",
           "zerolinewidth": 2
          },
          "yaxis": {
           "automargin": true,
           "gridcolor": "white",
           "linecolor": "white",
           "ticks": "",
           "title": {
            "standoff": 15
           },
           "zerolinecolor": "white",
           "zerolinewidth": 2
          }
         }
        },
        "title": {
         "text": "Reasons for Absence by Season"
        }
       }
      }
     },
     "metadata": {},
     "output_type": "display_data"
    }
   ],
   "source": [
    "# Prepare the data for the sunburst chart\n",
    "sunburst_data = absent[['Reason for absence', 'Seasons']].copy()\n",
    "sunburst_data['Count'] = 1\n",
    "\n",
    "# Create the sunburst chart\n",
    "fig = px.sunburst(sunburst_data, path=['Seasons', 'Reason for absence'], values='Count',\n",
    "                  title='Reasons for Absence by Season', color='Seasons',\n",
    "                  color_discrete_sequence=px.colors.qualitative.Set3)\n",
    "fig.update_traces(textinfo='label+percent entry')\n",
    "fig.show()"
   ]
  },
  {
   "cell_type": "markdown",
   "metadata": {},
   "source": [
    "### Visualize Absenteeism time distribution by Reasons"
   ]
  },
  {
   "cell_type": "code",
   "execution_count": 7,
   "metadata": {},
   "outputs": [
    {
     "data": {
      "application/vnd.plotly.v1+json": {
       "config": {
        "plotlyServerURL": "https://plot.ly"
       },
       "data": [
        {
         "alignmentgroup": "True",
         "hovertemplate": "Seasons=1<br>Reason for absence=%{x}<br>Absenteeism time in hours=%{y}<extra></extra>",
         "legendgroup": "1",
         "marker": {
          "color": "#636efa"
         },
         "name": "1",
         "notched": false,
         "offsetgroup": "1",
         "orientation": "v",
         "showlegend": true,
         "type": "box",
         "x": [
          26,
          0,
          23,
          7,
          23,
          23,
          22,
          23,
          19,
          22,
          1,
          1,
          11,
          11,
          23,
          14,
          23,
          21,
          11,
          23,
          10,
          11,
          13,
          28,
          18,
          25,
          23,
          28,
          18,
          23,
          18,
          18,
          23,
          18,
          23,
          23,
          24,
          11,
          28,
          23,
          23,
          23,
          23,
          19,
          23,
          23,
          23,
          23,
          22,
          28,
          28,
          19,
          1,
          5,
          26,
          26,
          18,
          25,
          1,
          1,
          25,
          22,
          26,
          26,
          19,
          19,
          0,
          19,
          19,
          23,
          18,
          13,
          14,
          28,
          23,
          23,
          11,
          23,
          13,
          25,
          23,
          23,
          19,
          8,
          6,
          11,
          23,
          19,
          0,
          9,
          28,
          0,
          0,
          13,
          9,
          23,
          28,
          28,
          28,
          23,
          23,
          5,
          21,
          28,
          11,
          13,
          23,
          25,
          13,
          7,
          25,
          26,
          26,
          28,
          15,
          23,
          28,
          9,
          28,
          23,
          22,
          22,
          26,
          28,
          28,
          23,
          25,
          25,
          28,
          28,
          26,
          26,
          28,
          25,
          25,
          23,
          23,
          28,
          28,
          28,
          28,
          28,
          28,
          28,
          23,
          28,
          23,
          23,
          23,
          23,
          23,
          13,
          25,
          22,
          8,
          10,
          22,
          26,
          19,
          6,
          28,
          6,
          22,
          23,
          22,
          22,
          13,
          14,
          11,
          0
         ],
         "x0": " ",
         "xaxis": "x",
         "y": [
          4,
          0,
          2,
          4,
          2,
          2,
          8,
          4,
          40,
          8,
          8,
          8,
          8,
          1,
          4,
          8,
          2,
          8,
          8,
          2,
          8,
          1,
          40,
          4,
          8,
          7,
          1,
          4,
          8,
          2,
          8,
          8,
          4,
          8,
          2,
          1,
          8,
          4,
          8,
          4,
          2,
          4,
          4,
          8,
          2,
          3,
          3,
          4,
          8,
          2,
          2,
          16,
          8,
          8,
          4,
          8,
          8,
          2,
          8,
          8,
          3,
          8,
          8,
          8,
          32,
          8,
          0,
          8,
          3,
          1,
          8,
          1,
          2,
          4,
          4,
          1,
          8,
          1,
          3,
          2,
          1,
          1,
          8,
          8,
          8,
          8,
          3,
          24,
          0,
          16,
          3,
          0,
          0,
          8,
          32,
          1,
          4,
          4,
          2,
          2,
          2,
          8,
          2,
          2,
          1,
          8,
          2,
          4,
          8,
          8,
          8,
          8,
          4,
          8,
          8,
          1,
          2,
          112,
          1,
          1,
          8,
          8,
          8,
          2,
          1,
          2,
          4,
          1,
          4,
          4,
          8,
          8,
          4,
          4,
          8,
          16,
          4,
          1,
          5,
          2,
          3,
          1,
          1,
          3,
          2,
          2,
          8,
          1,
          4,
          1,
          2,
          3,
          3,
          8,
          2,
          3,
          3,
          4,
          2,
          8,
          4,
          120,
          16,
          2,
          8,
          8,
          80,
          8,
          4,
          0
         ],
         "y0": " ",
         "yaxis": "y"
        },
        {
         "alignmentgroup": "True",
         "hovertemplate": "Seasons=4<br>Reason for absence=%{x}<br>Absenteeism time in hours=%{y}<extra></extra>",
         "legendgroup": "4",
         "marker": {
          "color": "#EF553B"
         },
         "name": "4",
         "notched": false,
         "offsetgroup": "4",
         "orientation": "v",
         "showlegend": true,
         "type": "box",
         "x": [
          14,
          0,
          0,
          23,
          23,
          0,
          0,
          18,
          23,
          0,
          23,
          23,
          23,
          23,
          23,
          0,
          23,
          23,
          23,
          23,
          23,
          23,
          23,
          23,
          23,
          19,
          14,
          28,
          26,
          23,
          28,
          23,
          23,
          13,
          21,
          23,
          10,
          22,
          14,
          23,
          6,
          23,
          21,
          13,
          28,
          28,
          28,
          7,
          23,
          23,
          19,
          23,
          26,
          23,
          26,
          19,
          22,
          28,
          28,
          23,
          22,
          27,
          26,
          28,
          0,
          28,
          7,
          13,
          24,
          26,
          26,
          22,
          0,
          0,
          1,
          7,
          22,
          28,
          1,
          0,
          19,
          28,
          0,
          23,
          23,
          28,
          28,
          23,
          28,
          10,
          0,
          0,
          0,
          1,
          7,
          23,
          11,
          23,
          6,
          28,
          23,
          1,
          11,
          26,
          0,
          18,
          11,
          25,
          28,
          13,
          12,
          13,
          28,
          10,
          15,
          0,
          0,
          23,
          12,
          28,
          28,
          23,
          28,
          28,
          4,
          28,
          28,
          23,
          25,
          25,
          28,
          23,
          22,
          4,
          11,
          26,
          14,
          28,
          23,
          23,
          23,
          23,
          23,
          23,
          23,
          26,
          28,
          1,
          23,
          10,
          13,
          10,
          10,
          23,
          6,
          10,
          0,
          13,
          21,
          28,
          2,
          28,
          9,
          24,
          1,
          23,
          22,
          28,
          13,
          14,
          28,
          23,
          8,
          23,
          0,
          0,
          14,
          0,
          23,
          26,
          28,
          13,
          28,
          23,
          13,
          23,
          23,
          14,
          18,
          26,
          18,
          13,
          23,
          23,
          23
         ],
         "x0": " ",
         "xaxis": "x",
         "y": [
          32,
          0,
          0,
          2,
          2,
          0,
          0,
          3,
          3,
          0,
          1,
          3,
          4,
          3,
          3,
          0,
          1,
          3,
          3,
          3,
          2,
          2,
          5,
          8,
          3,
          16,
          8,
          2,
          8,
          1,
          3,
          1,
          1,
          8,
          8,
          5,
          32,
          8,
          40,
          1,
          8,
          3,
          8,
          3,
          4,
          1,
          3,
          24,
          3,
          1,
          64,
          2,
          8,
          2,
          8,
          56,
          8,
          3,
          3,
          2,
          8,
          2,
          8,
          1,
          0,
          3,
          40,
          8,
          8,
          4,
          8,
          8,
          0,
          0,
          8,
          3,
          8,
          1,
          64,
          0,
          16,
          3,
          0,
          2,
          2,
          1,
          4,
          16,
          1,
          8,
          0,
          0,
          0,
          5,
          5,
          1,
          8,
          2,
          8,
          3,
          1,
          8,
          120,
          8,
          0,
          1,
          3,
          2,
          3,
          8,
          4,
          8,
          1,
          8,
          8,
          0,
          0,
          1,
          3,
          2,
          1,
          3,
          1,
          4,
          8,
          1,
          1,
          1,
          8,
          2,
          1,
          8,
          8,
          1,
          3,
          8,
          3,
          2,
          2,
          2,
          1,
          2,
          8,
          3,
          4,
          8,
          3,
          1,
          1,
          8,
          1,
          8,
          3,
          8,
          8,
          8,
          0,
          3,
          1,
          3,
          24,
          1,
          8,
          8,
          8,
          4,
          8,
          2,
          2,
          3,
          1,
          8,
          8,
          2,
          0,
          0,
          4,
          0,
          2,
          8,
          2,
          32,
          1,
          3,
          1,
          3,
          3,
          4,
          2,
          8,
          8,
          16,
          2,
          3,
          2
         ],
         "y0": " ",
         "yaxis": "y"
        },
        {
         "alignmentgroup": "True",
         "hovertemplate": "Seasons=2<br>Reason for absence=%{x}<br>Absenteeism time in hours=%{y}<extra></extra>",
         "legendgroup": "2",
         "marker": {
          "color": "#00cc96"
         },
         "name": "2",
         "notched": false,
         "offsetgroup": "2",
         "orientation": "v",
         "showlegend": true,
         "type": "box",
         "x": [
          19,
          23,
          23,
          19,
          27,
          18,
          27,
          23,
          28,
          27,
          27,
          27,
          27,
          27,
          27,
          27,
          27,
          27,
          18,
          18,
          27,
          23,
          27,
          27,
          23,
          22,
          23,
          1,
          11,
          28,
          23,
          28,
          22,
          11,
          1,
          28,
          23,
          23,
          23,
          25,
          18,
          23,
          23,
          19,
          28,
          19,
          19,
          17,
          22,
          13,
          13,
          14,
          13,
          11,
          1,
          26,
          13,
          6,
          8,
          28,
          23,
          14,
          13,
          23,
          13,
          14,
          26,
          28,
          28,
          19,
          23,
          19,
          23,
          13,
          23,
          26,
          3,
          26,
          26,
          28,
          28,
          28,
          27,
          7,
          22,
          28,
          23,
          27,
          27,
          10,
          26,
          27,
          22,
          27,
          23,
          23,
          11,
          27,
          27,
          10,
          27,
          27,
          18,
          19,
          28,
          28,
          28,
          22,
          22,
          22,
          28,
          22,
          0,
          21,
          18,
          12,
          12,
          25,
          25,
          13,
          25,
          10,
          18,
          27,
          18,
          27,
          27,
          13,
          27,
          27,
          13,
          23,
          1,
          27,
          28,
          27,
          27,
          28,
          27,
          19,
          27,
          7,
          27,
          27,
          25,
          13,
          23,
          27,
          12,
          27,
          27,
          13,
          27,
          25,
          25,
          27,
          7,
          27,
          23,
          25,
          27,
          27,
          25,
          27,
          23,
          25,
          25,
          12,
          27,
          27,
          27,
          25,
          27,
          25,
          19,
          13,
          27,
          27,
          27,
          10,
          13,
          27,
          7,
          27,
          23,
          25,
          27,
          23,
          27,
          23,
          27,
          0
         ],
         "x0": " ",
         "xaxis": "x",
         "y": [
          8,
          2,
          1,
          1,
          1,
          8,
          2,
          2,
          2,
          1,
          2,
          2,
          2,
          2,
          2,
          2,
          2,
          2,
          8,
          8,
          2,
          2,
          2,
          0,
          1,
          3,
          1,
          8,
          8,
          2,
          8,
          2,
          8,
          8,
          8,
          2,
          2,
          1,
          8,
          3,
          8,
          1,
          1,
          8,
          2,
          8,
          3,
          8,
          8,
          8,
          8,
          3,
          40,
          40,
          16,
          16,
          8,
          8,
          8,
          4,
          1,
          8,
          24,
          2,
          8,
          4,
          8,
          2,
          3,
          8,
          5,
          32,
          2,
          1,
          4,
          8,
          8,
          8,
          4,
          1,
          1,
          2,
          3,
          1,
          3,
          3,
          3,
          2,
          3,
          8,
          8,
          3,
          8,
          3,
          2,
          2,
          16,
          3,
          3,
          24,
          3,
          3,
          8,
          16,
          2,
          4,
          2,
          8,
          8,
          8,
          16,
          8,
          0,
          8,
          80,
          24,
          16,
          2,
          2,
          3,
          2,
          8,
          3,
          2,
          8,
          2,
          3,
          8,
          3,
          2,
          8,
          3,
          8,
          2,
          3,
          2,
          2,
          2,
          2,
          2,
          2,
          8,
          3,
          3,
          3,
          2,
          2,
          3,
          3,
          2,
          2,
          8,
          2,
          5,
          3,
          2,
          2,
          2,
          2,
          2,
          2,
          2,
          2,
          2,
          2,
          3,
          3,
          112,
          2,
          2,
          3,
          2,
          3,
          3,
          8,
          8,
          2,
          3,
          2,
          4,
          2,
          3,
          8,
          2,
          8,
          2,
          2,
          3,
          3,
          2,
          3,
          0
         ],
         "y0": " ",
         "yaxis": "y"
        },
        {
         "alignmentgroup": "True",
         "hovertemplate": "Seasons=3<br>Reason for absence=%{x}<br>Absenteeism time in hours=%{y}<extra></extra>",
         "legendgroup": "3",
         "marker": {
          "color": "#ab63fa"
         },
         "name": "3",
         "notched": false,
         "offsetgroup": "3",
         "orientation": "v",
         "showlegend": true,
         "type": "box",
         "x": [
          11,
          13,
          11,
          11,
          13,
          14,
          28,
          14,
          28,
          28,
          23,
          28,
          13,
          23,
          28,
          28,
          13,
          23,
          23,
          14,
          28,
          28,
          19,
          19,
          12,
          19,
          13,
          7,
          0,
          13,
          28,
          28,
          18,
          19,
          7,
          28,
          12,
          13,
          0,
          0,
          0,
          0,
          11,
          13,
          22,
          19,
          22,
          10,
          23,
          10,
          11,
          23,
          10,
          13,
          13,
          23,
          13,
          22,
          11,
          23,
          14,
          13,
          0,
          0,
          0,
          28,
          22,
          19,
          28,
          28,
          28,
          26,
          22,
          26,
          23,
          28,
          23,
          13,
          28,
          28,
          28,
          11,
          13,
          23,
          10,
          23,
          28,
          23,
          28,
          11,
          8,
          18,
          25,
          13,
          25,
          28,
          1,
          23,
          23,
          28,
          28,
          23,
          28,
          0,
          13,
          28,
          28,
          28,
          26,
          27,
          23,
          13,
          27,
          27,
          13,
          19,
          22,
          13,
          10,
          19,
          19,
          13,
          27,
          7,
          16,
          23,
          23,
          10,
          22,
          27,
          19,
          16,
          27,
          28,
          19,
          14,
          27,
          22,
          19,
          28,
          8,
          26,
          13,
          28,
          14,
          19,
          22,
          27,
          23,
          5,
          28,
          0,
          27,
          0,
          16,
          10,
          10,
          22,
          10,
          6,
          10,
          23,
          28,
          27,
          7,
          23,
          25,
          10,
          11,
          7,
          27,
          26,
          10,
          22,
          19,
          19,
          27,
          0,
          0,
          19,
          13,
          28,
          0
         ],
         "x0": " ",
         "xaxis": "x",
         "y": [
          8,
          1,
          8,
          16,
          3,
          16,
          2,
          3,
          1,
          1,
          1,
          1,
          24,
          1,
          2,
          4,
          24,
          1,
          3,
          8,
          1,
          8,
          56,
          8,
          24,
          8,
          16,
          3,
          0,
          8,
          2,
          1,
          8,
          8,
          4,
          2,
          1,
          24,
          0,
          0,
          0,
          0,
          1,
          24,
          8,
          8,
          8,
          24,
          4,
          8,
          8,
          4,
          8,
          8,
          16,
          1,
          80,
          8,
          2,
          2,
          3,
          8,
          0,
          0,
          0,
          8,
          8,
          8,
          2,
          4,
          3,
          4,
          4,
          4,
          8,
          8,
          1,
          120,
          8,
          4,
          4,
          2,
          16,
          2,
          8,
          3,
          4,
          1,
          3,
          2,
          3,
          8,
          3,
          8,
          2,
          1,
          8,
          3,
          3,
          3,
          2,
          4,
          4,
          0,
          40,
          24,
          3,
          4,
          8,
          3,
          8,
          24,
          3,
          3,
          2,
          104,
          8,
          8,
          8,
          8,
          8,
          8,
          2,
          24,
          2,
          3,
          2,
          2,
          8,
          2,
          8,
          3,
          2,
          4,
          8,
          2,
          2,
          8,
          3,
          2,
          3,
          8,
          1,
          2,
          8,
          64,
          8,
          2,
          2,
          3,
          1,
          0,
          2,
          0,
          1,
          48,
          8,
          8,
          8,
          3,
          8,
          2,
          2,
          2,
          8,
          2,
          8,
          8,
          1,
          8,
          3,
          8,
          8,
          8,
          24,
          8,
          2,
          0,
          0,
          3,
          2,
          2,
          0
         ],
         "y0": " ",
         "yaxis": "y"
        }
       ],
       "layout": {
        "boxmode": "group",
        "legend": {
         "title": {
          "text": "Seasons"
         },
         "tracegroupgap": 0
        },
        "template": {
         "data": {
          "bar": [
           {
            "error_x": {
             "color": "#2a3f5f"
            },
            "error_y": {
             "color": "#2a3f5f"
            },
            "marker": {
             "line": {
              "color": "#E5ECF6",
              "width": 0.5
             },
             "pattern": {
              "fillmode": "overlay",
              "size": 10,
              "solidity": 0.2
             }
            },
            "type": "bar"
           }
          ],
          "barpolar": [
           {
            "marker": {
             "line": {
              "color": "#E5ECF6",
              "width": 0.5
             },
             "pattern": {
              "fillmode": "overlay",
              "size": 10,
              "solidity": 0.2
             }
            },
            "type": "barpolar"
           }
          ],
          "carpet": [
           {
            "aaxis": {
             "endlinecolor": "#2a3f5f",
             "gridcolor": "white",
             "linecolor": "white",
             "minorgridcolor": "white",
             "startlinecolor": "#2a3f5f"
            },
            "baxis": {
             "endlinecolor": "#2a3f5f",
             "gridcolor": "white",
             "linecolor": "white",
             "minorgridcolor": "white",
             "startlinecolor": "#2a3f5f"
            },
            "type": "carpet"
           }
          ],
          "choropleth": [
           {
            "colorbar": {
             "outlinewidth": 0,
             "ticks": ""
            },
            "type": "choropleth"
           }
          ],
          "contour": [
           {
            "colorbar": {
             "outlinewidth": 0,
             "ticks": ""
            },
            "colorscale": [
             [
              0,
              "#0d0887"
             ],
             [
              0.1111111111111111,
              "#46039f"
             ],
             [
              0.2222222222222222,
              "#7201a8"
             ],
             [
              0.3333333333333333,
              "#9c179e"
             ],
             [
              0.4444444444444444,
              "#bd3786"
             ],
             [
              0.5555555555555556,
              "#d8576b"
             ],
             [
              0.6666666666666666,
              "#ed7953"
             ],
             [
              0.7777777777777778,
              "#fb9f3a"
             ],
             [
              0.8888888888888888,
              "#fdca26"
             ],
             [
              1,
              "#f0f921"
             ]
            ],
            "type": "contour"
           }
          ],
          "contourcarpet": [
           {
            "colorbar": {
             "outlinewidth": 0,
             "ticks": ""
            },
            "type": "contourcarpet"
           }
          ],
          "heatmap": [
           {
            "colorbar": {
             "outlinewidth": 0,
             "ticks": ""
            },
            "colorscale": [
             [
              0,
              "#0d0887"
             ],
             [
              0.1111111111111111,
              "#46039f"
             ],
             [
              0.2222222222222222,
              "#7201a8"
             ],
             [
              0.3333333333333333,
              "#9c179e"
             ],
             [
              0.4444444444444444,
              "#bd3786"
             ],
             [
              0.5555555555555556,
              "#d8576b"
             ],
             [
              0.6666666666666666,
              "#ed7953"
             ],
             [
              0.7777777777777778,
              "#fb9f3a"
             ],
             [
              0.8888888888888888,
              "#fdca26"
             ],
             [
              1,
              "#f0f921"
             ]
            ],
            "type": "heatmap"
           }
          ],
          "heatmapgl": [
           {
            "colorbar": {
             "outlinewidth": 0,
             "ticks": ""
            },
            "colorscale": [
             [
              0,
              "#0d0887"
             ],
             [
              0.1111111111111111,
              "#46039f"
             ],
             [
              0.2222222222222222,
              "#7201a8"
             ],
             [
              0.3333333333333333,
              "#9c179e"
             ],
             [
              0.4444444444444444,
              "#bd3786"
             ],
             [
              0.5555555555555556,
              "#d8576b"
             ],
             [
              0.6666666666666666,
              "#ed7953"
             ],
             [
              0.7777777777777778,
              "#fb9f3a"
             ],
             [
              0.8888888888888888,
              "#fdca26"
             ],
             [
              1,
              "#f0f921"
             ]
            ],
            "type": "heatmapgl"
           }
          ],
          "histogram": [
           {
            "marker": {
             "pattern": {
              "fillmode": "overlay",
              "size": 10,
              "solidity": 0.2
             }
            },
            "type": "histogram"
           }
          ],
          "histogram2d": [
           {
            "colorbar": {
             "outlinewidth": 0,
             "ticks": ""
            },
            "colorscale": [
             [
              0,
              "#0d0887"
             ],
             [
              0.1111111111111111,
              "#46039f"
             ],
             [
              0.2222222222222222,
              "#7201a8"
             ],
             [
              0.3333333333333333,
              "#9c179e"
             ],
             [
              0.4444444444444444,
              "#bd3786"
             ],
             [
              0.5555555555555556,
              "#d8576b"
             ],
             [
              0.6666666666666666,
              "#ed7953"
             ],
             [
              0.7777777777777778,
              "#fb9f3a"
             ],
             [
              0.8888888888888888,
              "#fdca26"
             ],
             [
              1,
              "#f0f921"
             ]
            ],
            "type": "histogram2d"
           }
          ],
          "histogram2dcontour": [
           {
            "colorbar": {
             "outlinewidth": 0,
             "ticks": ""
            },
            "colorscale": [
             [
              0,
              "#0d0887"
             ],
             [
              0.1111111111111111,
              "#46039f"
             ],
             [
              0.2222222222222222,
              "#7201a8"
             ],
             [
              0.3333333333333333,
              "#9c179e"
             ],
             [
              0.4444444444444444,
              "#bd3786"
             ],
             [
              0.5555555555555556,
              "#d8576b"
             ],
             [
              0.6666666666666666,
              "#ed7953"
             ],
             [
              0.7777777777777778,
              "#fb9f3a"
             ],
             [
              0.8888888888888888,
              "#fdca26"
             ],
             [
              1,
              "#f0f921"
             ]
            ],
            "type": "histogram2dcontour"
           }
          ],
          "mesh3d": [
           {
            "colorbar": {
             "outlinewidth": 0,
             "ticks": ""
            },
            "type": "mesh3d"
           }
          ],
          "parcoords": [
           {
            "line": {
             "colorbar": {
              "outlinewidth": 0,
              "ticks": ""
             }
            },
            "type": "parcoords"
           }
          ],
          "pie": [
           {
            "automargin": true,
            "type": "pie"
           }
          ],
          "scatter": [
           {
            "fillpattern": {
             "fillmode": "overlay",
             "size": 10,
             "solidity": 0.2
            },
            "type": "scatter"
           }
          ],
          "scatter3d": [
           {
            "line": {
             "colorbar": {
              "outlinewidth": 0,
              "ticks": ""
             }
            },
            "marker": {
             "colorbar": {
              "outlinewidth": 0,
              "ticks": ""
             }
            },
            "type": "scatter3d"
           }
          ],
          "scattercarpet": [
           {
            "marker": {
             "colorbar": {
              "outlinewidth": 0,
              "ticks": ""
             }
            },
            "type": "scattercarpet"
           }
          ],
          "scattergeo": [
           {
            "marker": {
             "colorbar": {
              "outlinewidth": 0,
              "ticks": ""
             }
            },
            "type": "scattergeo"
           }
          ],
          "scattergl": [
           {
            "marker": {
             "colorbar": {
              "outlinewidth": 0,
              "ticks": ""
             }
            },
            "type": "scattergl"
           }
          ],
          "scattermapbox": [
           {
            "marker": {
             "colorbar": {
              "outlinewidth": 0,
              "ticks": ""
             }
            },
            "type": "scattermapbox"
           }
          ],
          "scatterpolar": [
           {
            "marker": {
             "colorbar": {
              "outlinewidth": 0,
              "ticks": ""
             }
            },
            "type": "scatterpolar"
           }
          ],
          "scatterpolargl": [
           {
            "marker": {
             "colorbar": {
              "outlinewidth": 0,
              "ticks": ""
             }
            },
            "type": "scatterpolargl"
           }
          ],
          "scatterternary": [
           {
            "marker": {
             "colorbar": {
              "outlinewidth": 0,
              "ticks": ""
             }
            },
            "type": "scatterternary"
           }
          ],
          "surface": [
           {
            "colorbar": {
             "outlinewidth": 0,
             "ticks": ""
            },
            "colorscale": [
             [
              0,
              "#0d0887"
             ],
             [
              0.1111111111111111,
              "#46039f"
             ],
             [
              0.2222222222222222,
              "#7201a8"
             ],
             [
              0.3333333333333333,
              "#9c179e"
             ],
             [
              0.4444444444444444,
              "#bd3786"
             ],
             [
              0.5555555555555556,
              "#d8576b"
             ],
             [
              0.6666666666666666,
              "#ed7953"
             ],
             [
              0.7777777777777778,
              "#fb9f3a"
             ],
             [
              0.8888888888888888,
              "#fdca26"
             ],
             [
              1,
              "#f0f921"
             ]
            ],
            "type": "surface"
           }
          ],
          "table": [
           {
            "cells": {
             "fill": {
              "color": "#EBF0F8"
             },
             "line": {
              "color": "white"
             }
            },
            "header": {
             "fill": {
              "color": "#C8D4E3"
             },
             "line": {
              "color": "white"
             }
            },
            "type": "table"
           }
          ]
         },
         "layout": {
          "annotationdefaults": {
           "arrowcolor": "#2a3f5f",
           "arrowhead": 0,
           "arrowwidth": 1
          },
          "autotypenumbers": "strict",
          "coloraxis": {
           "colorbar": {
            "outlinewidth": 0,
            "ticks": ""
           }
          },
          "colorscale": {
           "diverging": [
            [
             0,
             "#8e0152"
            ],
            [
             0.1,
             "#c51b7d"
            ],
            [
             0.2,
             "#de77ae"
            ],
            [
             0.3,
             "#f1b6da"
            ],
            [
             0.4,
             "#fde0ef"
            ],
            [
             0.5,
             "#f7f7f7"
            ],
            [
             0.6,
             "#e6f5d0"
            ],
            [
             0.7,
             "#b8e186"
            ],
            [
             0.8,
             "#7fbc41"
            ],
            [
             0.9,
             "#4d9221"
            ],
            [
             1,
             "#276419"
            ]
           ],
           "sequential": [
            [
             0,
             "#0d0887"
            ],
            [
             0.1111111111111111,
             "#46039f"
            ],
            [
             0.2222222222222222,
             "#7201a8"
            ],
            [
             0.3333333333333333,
             "#9c179e"
            ],
            [
             0.4444444444444444,
             "#bd3786"
            ],
            [
             0.5555555555555556,
             "#d8576b"
            ],
            [
             0.6666666666666666,
             "#ed7953"
            ],
            [
             0.7777777777777778,
             "#fb9f3a"
            ],
            [
             0.8888888888888888,
             "#fdca26"
            ],
            [
             1,
             "#f0f921"
            ]
           ],
           "sequentialminus": [
            [
             0,
             "#0d0887"
            ],
            [
             0.1111111111111111,
             "#46039f"
            ],
            [
             0.2222222222222222,
             "#7201a8"
            ],
            [
             0.3333333333333333,
             "#9c179e"
            ],
            [
             0.4444444444444444,
             "#bd3786"
            ],
            [
             0.5555555555555556,
             "#d8576b"
            ],
            [
             0.6666666666666666,
             "#ed7953"
            ],
            [
             0.7777777777777778,
             "#fb9f3a"
            ],
            [
             0.8888888888888888,
             "#fdca26"
            ],
            [
             1,
             "#f0f921"
            ]
           ]
          },
          "colorway": [
           "#636efa",
           "#EF553B",
           "#00cc96",
           "#ab63fa",
           "#FFA15A",
           "#19d3f3",
           "#FF6692",
           "#B6E880",
           "#FF97FF",
           "#FECB52"
          ],
          "font": {
           "color": "#2a3f5f"
          },
          "geo": {
           "bgcolor": "white",
           "lakecolor": "white",
           "landcolor": "#E5ECF6",
           "showlakes": true,
           "showland": true,
           "subunitcolor": "white"
          },
          "hoverlabel": {
           "align": "left"
          },
          "hovermode": "closest",
          "mapbox": {
           "style": "light"
          },
          "paper_bgcolor": "white",
          "plot_bgcolor": "#E5ECF6",
          "polar": {
           "angularaxis": {
            "gridcolor": "white",
            "linecolor": "white",
            "ticks": ""
           },
           "bgcolor": "#E5ECF6",
           "radialaxis": {
            "gridcolor": "white",
            "linecolor": "white",
            "ticks": ""
           }
          },
          "scene": {
           "xaxis": {
            "backgroundcolor": "#E5ECF6",
            "gridcolor": "white",
            "gridwidth": 2,
            "linecolor": "white",
            "showbackground": true,
            "ticks": "",
            "zerolinecolor": "white"
           },
           "yaxis": {
            "backgroundcolor": "#E5ECF6",
            "gridcolor": "white",
            "gridwidth": 2,
            "linecolor": "white",
            "showbackground": true,
            "ticks": "",
            "zerolinecolor": "white"
           },
           "zaxis": {
            "backgroundcolor": "#E5ECF6",
            "gridcolor": "white",
            "gridwidth": 2,
            "linecolor": "white",
            "showbackground": true,
            "ticks": "",
            "zerolinecolor": "white"
           }
          },
          "shapedefaults": {
           "line": {
            "color": "#2a3f5f"
           }
          },
          "ternary": {
           "aaxis": {
            "gridcolor": "white",
            "linecolor": "white",
            "ticks": ""
           },
           "baxis": {
            "gridcolor": "white",
            "linecolor": "white",
            "ticks": ""
           },
           "bgcolor": "#E5ECF6",
           "caxis": {
            "gridcolor": "white",
            "linecolor": "white",
            "ticks": ""
           }
          },
          "title": {
           "x": 0.05
          },
          "xaxis": {
           "automargin": true,
           "gridcolor": "white",
           "linecolor": "white",
           "ticks": "",
           "title": {
            "standoff": 15
           },
           "zerolinecolor": "white",
           "zerolinewidth": 2
          },
          "yaxis": {
           "automargin": true,
           "gridcolor": "white",
           "linecolor": "white",
           "ticks": "",
           "title": {
            "standoff": 15
           },
           "zerolinecolor": "white",
           "zerolinewidth": 2
          }
         }
        },
        "title": {
         "text": "Absenteeism Time by Reason for Absence"
        },
        "xaxis": {
         "anchor": "y",
         "domain": [
          0,
          1
         ],
         "title": {
          "text": "Reason for absence"
         }
        },
        "yaxis": {
         "anchor": "x",
         "domain": [
          0,
          1
         ],
         "title": {
          "text": "Absenteeism time in hours"
         }
        }
       }
      }
     },
     "metadata": {},
     "output_type": "display_data"
    }
   ],
   "source": [
    "fig = px.box(absent, x='Reason for absence', y='Absenteeism time in hours',\n",
    "             title=\"Absenteeism Time by Reason for Absence\", color='Seasons')\n",
    "fig.show()\n"
   ]
  },
  {
   "cell_type": "markdown",
   "metadata": {},
   "source": [
    "# Pre Processing\n",
    "\n",
    "In order to build a good model, we need to have some understanding of the dataset using the Exploratory Data Analysis Process (EDA). For the first step, we will be looking at any necessary data cleaning."
   ]
  },
  {
   "cell_type": "code",
   "execution_count": 8,
   "metadata": {},
   "outputs": [],
   "source": [
    "#changing a float 64 to int64\n",
    "absent['Work load Average/day ']=absent['Work load Average/day '].astype('str')\n",
    "absent['Work load Average/day ']=absent['Work load Average/day '].str.replace(',', '')\n",
    "absent['Work load Average/day ']=pd.to_numeric(absent['Work load Average/day '], errors='coerce')\n"
   ]
  },
  {
   "cell_type": "code",
   "execution_count": 9,
   "metadata": {},
   "outputs": [
    {
     "data": {
      "text/plain": [
       "ID                                 False\n",
       "Reason for absence                 False\n",
       "Month of absence                   False\n",
       "Day of the week                    False\n",
       "Seasons                            False\n",
       "Transportation expense             False\n",
       "Distance from Residence to Work    False\n",
       "Service time                       False\n",
       "Age                                False\n",
       "Work load Average/day              False\n",
       "Hit target                         False\n",
       "Disciplinary failure               False\n",
       "Education                          False\n",
       "Son                                False\n",
       "Social drinker                     False\n",
       "Social smoker                      False\n",
       "Pet                                False\n",
       "Weight                             False\n",
       "Height                             False\n",
       "Body mass index                    False\n",
       "Absenteeism time in hours          False\n",
       "dtype: bool"
      ]
     },
     "execution_count": 9,
     "metadata": {},
     "output_type": "execute_result"
    }
   ],
   "source": [
    "absent.isnull().any()"
   ]
  },
  {
   "cell_type": "code",
   "execution_count": 10,
   "metadata": {},
   "outputs": [
    {
     "data": {
      "text/html": [
       "<div>\n",
       "<style scoped>\n",
       "    .dataframe tbody tr th:only-of-type {\n",
       "        vertical-align: middle;\n",
       "    }\n",
       "\n",
       "    .dataframe tbody tr th {\n",
       "        vertical-align: top;\n",
       "    }\n",
       "\n",
       "    .dataframe thead th {\n",
       "        text-align: right;\n",
       "    }\n",
       "</style>\n",
       "<table border=\"1\" class=\"dataframe\">\n",
       "  <thead>\n",
       "    <tr style=\"text-align: right;\">\n",
       "      <th></th>\n",
       "      <th>ID</th>\n",
       "      <th>Reason for absence</th>\n",
       "      <th>Month of absence</th>\n",
       "      <th>Day of the week</th>\n",
       "      <th>Seasons</th>\n",
       "      <th>Transportation expense</th>\n",
       "      <th>Distance from Residence to Work</th>\n",
       "      <th>Service time</th>\n",
       "      <th>Age</th>\n",
       "      <th>Work load Average/day</th>\n",
       "      <th>...</th>\n",
       "      <th>Disciplinary failure</th>\n",
       "      <th>Education</th>\n",
       "      <th>Son</th>\n",
       "      <th>Social drinker</th>\n",
       "      <th>Social smoker</th>\n",
       "      <th>Pet</th>\n",
       "      <th>Weight</th>\n",
       "      <th>Height</th>\n",
       "      <th>Body mass index</th>\n",
       "      <th>Absenteeism time in hours</th>\n",
       "    </tr>\n",
       "  </thead>\n",
       "  <tbody>\n",
       "    <tr>\n",
       "      <th>count</th>\n",
       "      <td>740.000000</td>\n",
       "      <td>740.000000</td>\n",
       "      <td>740.000000</td>\n",
       "      <td>740.000000</td>\n",
       "      <td>740.000000</td>\n",
       "      <td>740.000000</td>\n",
       "      <td>740.000000</td>\n",
       "      <td>740.000000</td>\n",
       "      <td>740.000000</td>\n",
       "      <td>740.000000</td>\n",
       "      <td>...</td>\n",
       "      <td>740.000000</td>\n",
       "      <td>740.000000</td>\n",
       "      <td>740.000000</td>\n",
       "      <td>740.000000</td>\n",
       "      <td>740.000000</td>\n",
       "      <td>740.000000</td>\n",
       "      <td>740.000000</td>\n",
       "      <td>740.000000</td>\n",
       "      <td>740.000000</td>\n",
       "      <td>740.000000</td>\n",
       "    </tr>\n",
       "    <tr>\n",
       "      <th>mean</th>\n",
       "      <td>18.017568</td>\n",
       "      <td>19.216216</td>\n",
       "      <td>6.324324</td>\n",
       "      <td>3.914865</td>\n",
       "      <td>2.544595</td>\n",
       "      <td>221.329730</td>\n",
       "      <td>29.631081</td>\n",
       "      <td>12.554054</td>\n",
       "      <td>36.450000</td>\n",
       "      <td>271490.235135</td>\n",
       "      <td>...</td>\n",
       "      <td>0.054054</td>\n",
       "      <td>1.291892</td>\n",
       "      <td>1.018919</td>\n",
       "      <td>0.567568</td>\n",
       "      <td>0.072973</td>\n",
       "      <td>0.745946</td>\n",
       "      <td>79.035135</td>\n",
       "      <td>172.114865</td>\n",
       "      <td>26.677027</td>\n",
       "      <td>6.924324</td>\n",
       "    </tr>\n",
       "    <tr>\n",
       "      <th>std</th>\n",
       "      <td>11.021247</td>\n",
       "      <td>8.433406</td>\n",
       "      <td>3.436287</td>\n",
       "      <td>1.421675</td>\n",
       "      <td>1.111831</td>\n",
       "      <td>66.952223</td>\n",
       "      <td>14.836788</td>\n",
       "      <td>4.384873</td>\n",
       "      <td>6.478772</td>\n",
       "      <td>39058.116188</td>\n",
       "      <td>...</td>\n",
       "      <td>0.226277</td>\n",
       "      <td>0.673238</td>\n",
       "      <td>1.098489</td>\n",
       "      <td>0.495749</td>\n",
       "      <td>0.260268</td>\n",
       "      <td>1.318258</td>\n",
       "      <td>12.883211</td>\n",
       "      <td>6.034995</td>\n",
       "      <td>4.285452</td>\n",
       "      <td>13.330998</td>\n",
       "    </tr>\n",
       "    <tr>\n",
       "      <th>min</th>\n",
       "      <td>1.000000</td>\n",
       "      <td>0.000000</td>\n",
       "      <td>0.000000</td>\n",
       "      <td>2.000000</td>\n",
       "      <td>1.000000</td>\n",
       "      <td>118.000000</td>\n",
       "      <td>5.000000</td>\n",
       "      <td>1.000000</td>\n",
       "      <td>27.000000</td>\n",
       "      <td>205917.000000</td>\n",
       "      <td>...</td>\n",
       "      <td>0.000000</td>\n",
       "      <td>1.000000</td>\n",
       "      <td>0.000000</td>\n",
       "      <td>0.000000</td>\n",
       "      <td>0.000000</td>\n",
       "      <td>0.000000</td>\n",
       "      <td>56.000000</td>\n",
       "      <td>163.000000</td>\n",
       "      <td>19.000000</td>\n",
       "      <td>0.000000</td>\n",
       "    </tr>\n",
       "    <tr>\n",
       "      <th>25%</th>\n",
       "      <td>9.000000</td>\n",
       "      <td>13.000000</td>\n",
       "      <td>3.000000</td>\n",
       "      <td>3.000000</td>\n",
       "      <td>2.000000</td>\n",
       "      <td>179.000000</td>\n",
       "      <td>16.000000</td>\n",
       "      <td>9.000000</td>\n",
       "      <td>31.000000</td>\n",
       "      <td>244387.000000</td>\n",
       "      <td>...</td>\n",
       "      <td>0.000000</td>\n",
       "      <td>1.000000</td>\n",
       "      <td>0.000000</td>\n",
       "      <td>0.000000</td>\n",
       "      <td>0.000000</td>\n",
       "      <td>0.000000</td>\n",
       "      <td>69.000000</td>\n",
       "      <td>169.000000</td>\n",
       "      <td>24.000000</td>\n",
       "      <td>2.000000</td>\n",
       "    </tr>\n",
       "    <tr>\n",
       "      <th>50%</th>\n",
       "      <td>18.000000</td>\n",
       "      <td>23.000000</td>\n",
       "      <td>6.000000</td>\n",
       "      <td>4.000000</td>\n",
       "      <td>3.000000</td>\n",
       "      <td>225.000000</td>\n",
       "      <td>26.000000</td>\n",
       "      <td>13.000000</td>\n",
       "      <td>37.000000</td>\n",
       "      <td>264249.000000</td>\n",
       "      <td>...</td>\n",
       "      <td>0.000000</td>\n",
       "      <td>1.000000</td>\n",
       "      <td>1.000000</td>\n",
       "      <td>1.000000</td>\n",
       "      <td>0.000000</td>\n",
       "      <td>0.000000</td>\n",
       "      <td>83.000000</td>\n",
       "      <td>170.000000</td>\n",
       "      <td>25.000000</td>\n",
       "      <td>3.000000</td>\n",
       "    </tr>\n",
       "    <tr>\n",
       "      <th>75%</th>\n",
       "      <td>28.000000</td>\n",
       "      <td>26.000000</td>\n",
       "      <td>9.000000</td>\n",
       "      <td>5.000000</td>\n",
       "      <td>4.000000</td>\n",
       "      <td>260.000000</td>\n",
       "      <td>50.000000</td>\n",
       "      <td>16.000000</td>\n",
       "      <td>40.000000</td>\n",
       "      <td>294217.000000</td>\n",
       "      <td>...</td>\n",
       "      <td>0.000000</td>\n",
       "      <td>1.000000</td>\n",
       "      <td>2.000000</td>\n",
       "      <td>1.000000</td>\n",
       "      <td>0.000000</td>\n",
       "      <td>1.000000</td>\n",
       "      <td>89.000000</td>\n",
       "      <td>172.000000</td>\n",
       "      <td>31.000000</td>\n",
       "      <td>8.000000</td>\n",
       "    </tr>\n",
       "    <tr>\n",
       "      <th>max</th>\n",
       "      <td>36.000000</td>\n",
       "      <td>28.000000</td>\n",
       "      <td>12.000000</td>\n",
       "      <td>6.000000</td>\n",
       "      <td>4.000000</td>\n",
       "      <td>388.000000</td>\n",
       "      <td>52.000000</td>\n",
       "      <td>29.000000</td>\n",
       "      <td>58.000000</td>\n",
       "      <td>378884.000000</td>\n",
       "      <td>...</td>\n",
       "      <td>1.000000</td>\n",
       "      <td>4.000000</td>\n",
       "      <td>4.000000</td>\n",
       "      <td>1.000000</td>\n",
       "      <td>1.000000</td>\n",
       "      <td>8.000000</td>\n",
       "      <td>108.000000</td>\n",
       "      <td>196.000000</td>\n",
       "      <td>38.000000</td>\n",
       "      <td>120.000000</td>\n",
       "    </tr>\n",
       "  </tbody>\n",
       "</table>\n",
       "<p>8 rows × 21 columns</p>\n",
       "</div>"
      ],
      "text/plain": [
       "               ID  Reason for absence  Month of absence  Day of the week  \\\n",
       "count  740.000000          740.000000        740.000000       740.000000   \n",
       "mean    18.017568           19.216216          6.324324         3.914865   \n",
       "std     11.021247            8.433406          3.436287         1.421675   \n",
       "min      1.000000            0.000000          0.000000         2.000000   \n",
       "25%      9.000000           13.000000          3.000000         3.000000   \n",
       "50%     18.000000           23.000000          6.000000         4.000000   \n",
       "75%     28.000000           26.000000          9.000000         5.000000   \n",
       "max     36.000000           28.000000         12.000000         6.000000   \n",
       "\n",
       "          Seasons  Transportation expense  Distance from Residence to Work  \\\n",
       "count  740.000000              740.000000                       740.000000   \n",
       "mean     2.544595              221.329730                        29.631081   \n",
       "std      1.111831               66.952223                        14.836788   \n",
       "min      1.000000              118.000000                         5.000000   \n",
       "25%      2.000000              179.000000                        16.000000   \n",
       "50%      3.000000              225.000000                        26.000000   \n",
       "75%      4.000000              260.000000                        50.000000   \n",
       "max      4.000000              388.000000                        52.000000   \n",
       "\n",
       "       Service time         Age  Work load Average/day   ...  \\\n",
       "count    740.000000  740.000000              740.000000  ...   \n",
       "mean      12.554054   36.450000           271490.235135  ...   \n",
       "std        4.384873    6.478772            39058.116188  ...   \n",
       "min        1.000000   27.000000           205917.000000  ...   \n",
       "25%        9.000000   31.000000           244387.000000  ...   \n",
       "50%       13.000000   37.000000           264249.000000  ...   \n",
       "75%       16.000000   40.000000           294217.000000  ...   \n",
       "max       29.000000   58.000000           378884.000000  ...   \n",
       "\n",
       "       Disciplinary failure   Education         Son  Social drinker  \\\n",
       "count            740.000000  740.000000  740.000000      740.000000   \n",
       "mean               0.054054    1.291892    1.018919        0.567568   \n",
       "std                0.226277    0.673238    1.098489        0.495749   \n",
       "min                0.000000    1.000000    0.000000        0.000000   \n",
       "25%                0.000000    1.000000    0.000000        0.000000   \n",
       "50%                0.000000    1.000000    1.000000        1.000000   \n",
       "75%                0.000000    1.000000    2.000000        1.000000   \n",
       "max                1.000000    4.000000    4.000000        1.000000   \n",
       "\n",
       "       Social smoker         Pet      Weight      Height  Body mass index  \\\n",
       "count     740.000000  740.000000  740.000000  740.000000       740.000000   \n",
       "mean        0.072973    0.745946   79.035135  172.114865        26.677027   \n",
       "std         0.260268    1.318258   12.883211    6.034995         4.285452   \n",
       "min         0.000000    0.000000   56.000000  163.000000        19.000000   \n",
       "25%         0.000000    0.000000   69.000000  169.000000        24.000000   \n",
       "50%         0.000000    0.000000   83.000000  170.000000        25.000000   \n",
       "75%         0.000000    1.000000   89.000000  172.000000        31.000000   \n",
       "max         1.000000    8.000000  108.000000  196.000000        38.000000   \n",
       "\n",
       "       Absenteeism time in hours  \n",
       "count                 740.000000  \n",
       "mean                    6.924324  \n",
       "std                    13.330998  \n",
       "min                     0.000000  \n",
       "25%                     2.000000  \n",
       "50%                     3.000000  \n",
       "75%                     8.000000  \n",
       "max                   120.000000  \n",
       "\n",
       "[8 rows x 21 columns]"
      ]
     },
     "execution_count": 10,
     "metadata": {},
     "output_type": "execute_result"
    }
   ],
   "source": [
    "absent.describe()"
   ]
  },
  {
   "cell_type": "markdown",
   "metadata": {},
   "source": [
    "* The maximum value of Absenteeism time in hours  is 9 standard deviations away from the mean!\n",
    "* The minimum values for Reason for absence and Month of absence are zero! These are considered unexpected values since 0 Month does not make sense.\n",
    "* The ID column has 36 for the maximum value meaning that all these 740 observations are split amongst 36 workers. This means that all these rows are repeated observations over time among 36 people. "
   ]
  },
  {
   "cell_type": "markdown",
   "metadata": {},
   "source": [
    "A closer look of **the Absenteeism time in hours** and **Reason for absence** columns reveals that all 0's in both Absenteeism time in hours,Month of absence and Reason for absence columns correspond to Absenteeism time in hours=0."
   ]
  },
  {
   "cell_type": "code",
   "execution_count": 11,
   "metadata": {},
   "outputs": [],
   "source": [
    "allabsents=absent[absent['Absenteeism time in hours']!=0]"
   ]
  },
  {
   "cell_type": "code",
   "execution_count": 12,
   "metadata": {},
   "outputs": [
    {
     "data": {
      "text/html": [
       "<div>\n",
       "<style scoped>\n",
       "    .dataframe tbody tr th:only-of-type {\n",
       "        vertical-align: middle;\n",
       "    }\n",
       "\n",
       "    .dataframe tbody tr th {\n",
       "        vertical-align: top;\n",
       "    }\n",
       "\n",
       "    .dataframe thead th {\n",
       "        text-align: right;\n",
       "    }\n",
       "</style>\n",
       "<table border=\"1\" class=\"dataframe\">\n",
       "  <thead>\n",
       "    <tr style=\"text-align: right;\">\n",
       "      <th></th>\n",
       "      <th>ID</th>\n",
       "      <th>Reason for absence</th>\n",
       "      <th>Month of absence</th>\n",
       "      <th>Day of the week</th>\n",
       "      <th>Seasons</th>\n",
       "      <th>Transportation expense</th>\n",
       "      <th>Distance from Residence to Work</th>\n",
       "      <th>Service time</th>\n",
       "      <th>Age</th>\n",
       "      <th>Work load Average/day</th>\n",
       "      <th>...</th>\n",
       "      <th>Disciplinary failure</th>\n",
       "      <th>Education</th>\n",
       "      <th>Son</th>\n",
       "      <th>Social drinker</th>\n",
       "      <th>Social smoker</th>\n",
       "      <th>Pet</th>\n",
       "      <th>Weight</th>\n",
       "      <th>Height</th>\n",
       "      <th>Body mass index</th>\n",
       "      <th>Absenteeism time in hours</th>\n",
       "    </tr>\n",
       "  </thead>\n",
       "  <tbody>\n",
       "    <tr>\n",
       "      <th>0</th>\n",
       "      <td>11</td>\n",
       "      <td>26</td>\n",
       "      <td>7</td>\n",
       "      <td>3</td>\n",
       "      <td>1</td>\n",
       "      <td>289</td>\n",
       "      <td>36</td>\n",
       "      <td>13</td>\n",
       "      <td>33</td>\n",
       "      <td>239554</td>\n",
       "      <td>...</td>\n",
       "      <td>0</td>\n",
       "      <td>1</td>\n",
       "      <td>2</td>\n",
       "      <td>1</td>\n",
       "      <td>0</td>\n",
       "      <td>1</td>\n",
       "      <td>90</td>\n",
       "      <td>172</td>\n",
       "      <td>30</td>\n",
       "      <td>4</td>\n",
       "    </tr>\n",
       "    <tr>\n",
       "      <th>2</th>\n",
       "      <td>3</td>\n",
       "      <td>23</td>\n",
       "      <td>7</td>\n",
       "      <td>4</td>\n",
       "      <td>1</td>\n",
       "      <td>179</td>\n",
       "      <td>51</td>\n",
       "      <td>18</td>\n",
       "      <td>38</td>\n",
       "      <td>239554</td>\n",
       "      <td>...</td>\n",
       "      <td>0</td>\n",
       "      <td>1</td>\n",
       "      <td>0</td>\n",
       "      <td>1</td>\n",
       "      <td>0</td>\n",
       "      <td>0</td>\n",
       "      <td>89</td>\n",
       "      <td>170</td>\n",
       "      <td>31</td>\n",
       "      <td>2</td>\n",
       "    </tr>\n",
       "    <tr>\n",
       "      <th>3</th>\n",
       "      <td>7</td>\n",
       "      <td>7</td>\n",
       "      <td>7</td>\n",
       "      <td>5</td>\n",
       "      <td>1</td>\n",
       "      <td>279</td>\n",
       "      <td>5</td>\n",
       "      <td>14</td>\n",
       "      <td>39</td>\n",
       "      <td>239554</td>\n",
       "      <td>...</td>\n",
       "      <td>0</td>\n",
       "      <td>1</td>\n",
       "      <td>2</td>\n",
       "      <td>1</td>\n",
       "      <td>1</td>\n",
       "      <td>0</td>\n",
       "      <td>68</td>\n",
       "      <td>168</td>\n",
       "      <td>24</td>\n",
       "      <td>4</td>\n",
       "    </tr>\n",
       "    <tr>\n",
       "      <th>4</th>\n",
       "      <td>11</td>\n",
       "      <td>23</td>\n",
       "      <td>7</td>\n",
       "      <td>5</td>\n",
       "      <td>1</td>\n",
       "      <td>289</td>\n",
       "      <td>36</td>\n",
       "      <td>13</td>\n",
       "      <td>33</td>\n",
       "      <td>239554</td>\n",
       "      <td>...</td>\n",
       "      <td>0</td>\n",
       "      <td>1</td>\n",
       "      <td>2</td>\n",
       "      <td>1</td>\n",
       "      <td>0</td>\n",
       "      <td>1</td>\n",
       "      <td>90</td>\n",
       "      <td>172</td>\n",
       "      <td>30</td>\n",
       "      <td>2</td>\n",
       "    </tr>\n",
       "    <tr>\n",
       "      <th>5</th>\n",
       "      <td>3</td>\n",
       "      <td>23</td>\n",
       "      <td>7</td>\n",
       "      <td>6</td>\n",
       "      <td>1</td>\n",
       "      <td>179</td>\n",
       "      <td>51</td>\n",
       "      <td>18</td>\n",
       "      <td>38</td>\n",
       "      <td>239554</td>\n",
       "      <td>...</td>\n",
       "      <td>0</td>\n",
       "      <td>1</td>\n",
       "      <td>0</td>\n",
       "      <td>1</td>\n",
       "      <td>0</td>\n",
       "      <td>0</td>\n",
       "      <td>89</td>\n",
       "      <td>170</td>\n",
       "      <td>31</td>\n",
       "      <td>2</td>\n",
       "    </tr>\n",
       "    <tr>\n",
       "      <th>...</th>\n",
       "      <td>...</td>\n",
       "      <td>...</td>\n",
       "      <td>...</td>\n",
       "      <td>...</td>\n",
       "      <td>...</td>\n",
       "      <td>...</td>\n",
       "      <td>...</td>\n",
       "      <td>...</td>\n",
       "      <td>...</td>\n",
       "      <td>...</td>\n",
       "      <td>...</td>\n",
       "      <td>...</td>\n",
       "      <td>...</td>\n",
       "      <td>...</td>\n",
       "      <td>...</td>\n",
       "      <td>...</td>\n",
       "      <td>...</td>\n",
       "      <td>...</td>\n",
       "      <td>...</td>\n",
       "      <td>...</td>\n",
       "      <td>...</td>\n",
       "    </tr>\n",
       "    <tr>\n",
       "      <th>732</th>\n",
       "      <td>10</td>\n",
       "      <td>22</td>\n",
       "      <td>7</td>\n",
       "      <td>4</td>\n",
       "      <td>1</td>\n",
       "      <td>361</td>\n",
       "      <td>52</td>\n",
       "      <td>3</td>\n",
       "      <td>28</td>\n",
       "      <td>264604</td>\n",
       "      <td>...</td>\n",
       "      <td>0</td>\n",
       "      <td>1</td>\n",
       "      <td>1</td>\n",
       "      <td>1</td>\n",
       "      <td>0</td>\n",
       "      <td>4</td>\n",
       "      <td>80</td>\n",
       "      <td>172</td>\n",
       "      <td>27</td>\n",
       "      <td>8</td>\n",
       "    </tr>\n",
       "    <tr>\n",
       "      <th>733</th>\n",
       "      <td>28</td>\n",
       "      <td>22</td>\n",
       "      <td>7</td>\n",
       "      <td>4</td>\n",
       "      <td>1</td>\n",
       "      <td>225</td>\n",
       "      <td>26</td>\n",
       "      <td>9</td>\n",
       "      <td>28</td>\n",
       "      <td>264604</td>\n",
       "      <td>...</td>\n",
       "      <td>0</td>\n",
       "      <td>1</td>\n",
       "      <td>1</td>\n",
       "      <td>0</td>\n",
       "      <td>0</td>\n",
       "      <td>2</td>\n",
       "      <td>69</td>\n",
       "      <td>169</td>\n",
       "      <td>24</td>\n",
       "      <td>8</td>\n",
       "    </tr>\n",
       "    <tr>\n",
       "      <th>734</th>\n",
       "      <td>13</td>\n",
       "      <td>13</td>\n",
       "      <td>7</td>\n",
       "      <td>2</td>\n",
       "      <td>1</td>\n",
       "      <td>369</td>\n",
       "      <td>17</td>\n",
       "      <td>12</td>\n",
       "      <td>31</td>\n",
       "      <td>264604</td>\n",
       "      <td>...</td>\n",
       "      <td>0</td>\n",
       "      <td>1</td>\n",
       "      <td>3</td>\n",
       "      <td>1</td>\n",
       "      <td>0</td>\n",
       "      <td>0</td>\n",
       "      <td>70</td>\n",
       "      <td>169</td>\n",
       "      <td>25</td>\n",
       "      <td>80</td>\n",
       "    </tr>\n",
       "    <tr>\n",
       "      <th>735</th>\n",
       "      <td>11</td>\n",
       "      <td>14</td>\n",
       "      <td>7</td>\n",
       "      <td>3</td>\n",
       "      <td>1</td>\n",
       "      <td>289</td>\n",
       "      <td>36</td>\n",
       "      <td>13</td>\n",
       "      <td>33</td>\n",
       "      <td>264604</td>\n",
       "      <td>...</td>\n",
       "      <td>0</td>\n",
       "      <td>1</td>\n",
       "      <td>2</td>\n",
       "      <td>1</td>\n",
       "      <td>0</td>\n",
       "      <td>1</td>\n",
       "      <td>90</td>\n",
       "      <td>172</td>\n",
       "      <td>30</td>\n",
       "      <td>8</td>\n",
       "    </tr>\n",
       "    <tr>\n",
       "      <th>736</th>\n",
       "      <td>1</td>\n",
       "      <td>11</td>\n",
       "      <td>7</td>\n",
       "      <td>3</td>\n",
       "      <td>1</td>\n",
       "      <td>235</td>\n",
       "      <td>11</td>\n",
       "      <td>14</td>\n",
       "      <td>37</td>\n",
       "      <td>264604</td>\n",
       "      <td>...</td>\n",
       "      <td>0</td>\n",
       "      <td>3</td>\n",
       "      <td>1</td>\n",
       "      <td>0</td>\n",
       "      <td>0</td>\n",
       "      <td>1</td>\n",
       "      <td>88</td>\n",
       "      <td>172</td>\n",
       "      <td>29</td>\n",
       "      <td>4</td>\n",
       "    </tr>\n",
       "  </tbody>\n",
       "</table>\n",
       "<p>696 rows × 21 columns</p>\n",
       "</div>"
      ],
      "text/plain": [
       "     ID  Reason for absence  Month of absence  Day of the week  Seasons  \\\n",
       "0    11                  26                 7                3        1   \n",
       "2     3                  23                 7                4        1   \n",
       "3     7                   7                 7                5        1   \n",
       "4    11                  23                 7                5        1   \n",
       "5     3                  23                 7                6        1   \n",
       "..   ..                 ...               ...              ...      ...   \n",
       "732  10                  22                 7                4        1   \n",
       "733  28                  22                 7                4        1   \n",
       "734  13                  13                 7                2        1   \n",
       "735  11                  14                 7                3        1   \n",
       "736   1                  11                 7                3        1   \n",
       "\n",
       "     Transportation expense  Distance from Residence to Work  Service time  \\\n",
       "0                       289                               36            13   \n",
       "2                       179                               51            18   \n",
       "3                       279                                5            14   \n",
       "4                       289                               36            13   \n",
       "5                       179                               51            18   \n",
       "..                      ...                              ...           ...   \n",
       "732                     361                               52             3   \n",
       "733                     225                               26             9   \n",
       "734                     369                               17            12   \n",
       "735                     289                               36            13   \n",
       "736                     235                               11            14   \n",
       "\n",
       "     Age  Work load Average/day   ...  Disciplinary failure  Education  Son  \\\n",
       "0     33                  239554  ...                     0          1    2   \n",
       "2     38                  239554  ...                     0          1    0   \n",
       "3     39                  239554  ...                     0          1    2   \n",
       "4     33                  239554  ...                     0          1    2   \n",
       "5     38                  239554  ...                     0          1    0   \n",
       "..   ...                     ...  ...                   ...        ...  ...   \n",
       "732   28                  264604  ...                     0          1    1   \n",
       "733   28                  264604  ...                     0          1    1   \n",
       "734   31                  264604  ...                     0          1    3   \n",
       "735   33                  264604  ...                     0          1    2   \n",
       "736   37                  264604  ...                     0          3    1   \n",
       "\n",
       "     Social drinker  Social smoker  Pet  Weight  Height  Body mass index  \\\n",
       "0                 1              0    1      90     172               30   \n",
       "2                 1              0    0      89     170               31   \n",
       "3                 1              1    0      68     168               24   \n",
       "4                 1              0    1      90     172               30   \n",
       "5                 1              0    0      89     170               31   \n",
       "..              ...            ...  ...     ...     ...              ...   \n",
       "732               1              0    4      80     172               27   \n",
       "733               0              0    2      69     169               24   \n",
       "734               1              0    0      70     169               25   \n",
       "735               1              0    1      90     172               30   \n",
       "736               0              0    1      88     172               29   \n",
       "\n",
       "     Absenteeism time in hours  \n",
       "0                            4  \n",
       "2                            2  \n",
       "3                            4  \n",
       "4                            2  \n",
       "5                            2  \n",
       "..                         ...  \n",
       "732                          8  \n",
       "733                          8  \n",
       "734                         80  \n",
       "735                          8  \n",
       "736                          4  \n",
       "\n",
       "[696 rows x 21 columns]"
      ]
     },
     "execution_count": 12,
     "metadata": {},
     "output_type": "execute_result"
    }
   ],
   "source": [
    "allabsents"
   ]
  },
  {
   "cell_type": "code",
   "execution_count": 13,
   "metadata": {},
   "outputs": [
    {
     "data": {
      "text/plain": [
       "0    696\n",
       "Name: Disciplinary failure, dtype: int64"
      ]
     },
     "execution_count": 13,
     "metadata": {},
     "output_type": "execute_result"
    }
   ],
   "source": [
    "disciplinary_values = allabsents['Disciplinary failure'].value_counts()\n",
    "disciplinary_values"
   ]
  },
  {
   "cell_type": "markdown",
   "metadata": {},
   "source": [
    "Doing so also takes out all the **Disciplinary failure==1** leaving us with only Disciplinary failure==0. This means that this feature is no longer needed for the analysis.\n",
    "\n",
    "The rest of the analysis will be looking at the non zero values of Absenteeism with a new dataset called **allabsents**"
   ]
  },
  {
   "cell_type": "code",
   "execution_count": 14,
   "metadata": {},
   "outputs": [
    {
     "data": {
      "text/plain": [
       "33"
      ]
     },
     "execution_count": 14,
     "metadata": {},
     "output_type": "execute_result"
    }
   ],
   "source": [
    "allabsents=allabsents.drop(['Disciplinary failure'],axis=1)\n",
    "len(allabsents.ID.unique())"
   ]
  },
  {
   "cell_type": "markdown",
   "metadata": {},
   "source": [
    "Since there are 33 ID's, I wanted to put together a dataframe where all of them"
   ]
  },
  {
   "cell_type": "code",
   "execution_count": 15,
   "metadata": {},
   "outputs": [
    {
     "data": {
      "text/html": [
       "<div>\n",
       "<style scoped>\n",
       "    .dataframe tbody tr th:only-of-type {\n",
       "        vertical-align: middle;\n",
       "    }\n",
       "\n",
       "    .dataframe tbody tr th {\n",
       "        vertical-align: top;\n",
       "    }\n",
       "\n",
       "    .dataframe thead th {\n",
       "        text-align: right;\n",
       "    }\n",
       "</style>\n",
       "<table border=\"1\" class=\"dataframe\">\n",
       "  <thead>\n",
       "    <tr style=\"text-align: right;\">\n",
       "      <th></th>\n",
       "      <th>Absenteeism time in hours</th>\n",
       "      <th>Hit target</th>\n",
       "      <th>Work load Average/day</th>\n",
       "      <th>Age</th>\n",
       "      <th>Transportation expense</th>\n",
       "      <th>Service time</th>\n",
       "      <th>Height</th>\n",
       "      <th>Body mass index</th>\n",
       "      <th>Weight</th>\n",
       "      <th>Social drinker</th>\n",
       "      <th>Social smoker</th>\n",
       "      <th>Distance from Residence to Work</th>\n",
       "      <th>Reason_1</th>\n",
       "      <th>Reason_3</th>\n",
       "      <th>Reason_4</th>\n",
       "    </tr>\n",
       "    <tr>\n",
       "      <th>ID</th>\n",
       "      <th></th>\n",
       "      <th></th>\n",
       "      <th></th>\n",
       "      <th></th>\n",
       "      <th></th>\n",
       "      <th></th>\n",
       "      <th></th>\n",
       "      <th></th>\n",
       "      <th></th>\n",
       "      <th></th>\n",
       "      <th></th>\n",
       "      <th></th>\n",
       "      <th></th>\n",
       "      <th></th>\n",
       "      <th></th>\n",
       "    </tr>\n",
       "  </thead>\n",
       "  <tbody>\n",
       "    <tr>\n",
       "      <th>1</th>\n",
       "      <td>121</td>\n",
       "      <td>95.045455</td>\n",
       "      <td>263735.727273</td>\n",
       "      <td>37.0</td>\n",
       "      <td>235.0</td>\n",
       "      <td>14.0</td>\n",
       "      <td>172.0</td>\n",
       "      <td>29.0</td>\n",
       "      <td>88.0</td>\n",
       "      <td>0.0</td>\n",
       "      <td>0.0</td>\n",
       "      <td>11.0</td>\n",
       "      <td>1</td>\n",
       "      <td>0</td>\n",
       "      <td>0</td>\n",
       "    </tr>\n",
       "    <tr>\n",
       "      <th>2</th>\n",
       "      <td>25</td>\n",
       "      <td>92.000000</td>\n",
       "      <td>212010.250000</td>\n",
       "      <td>48.0</td>\n",
       "      <td>235.0</td>\n",
       "      <td>12.0</td>\n",
       "      <td>163.0</td>\n",
       "      <td>33.0</td>\n",
       "      <td>88.0</td>\n",
       "      <td>0.0</td>\n",
       "      <td>1.0</td>\n",
       "      <td>29.0</td>\n",
       "      <td>0</td>\n",
       "      <td>0</td>\n",
       "      <td>0</td>\n",
       "    </tr>\n",
       "    <tr>\n",
       "      <th>3</th>\n",
       "      <td>482</td>\n",
       "      <td>95.071429</td>\n",
       "      <td>262248.437500</td>\n",
       "      <td>38.0</td>\n",
       "      <td>179.0</td>\n",
       "      <td>18.0</td>\n",
       "      <td>170.0</td>\n",
       "      <td>31.0</td>\n",
       "      <td>89.0</td>\n",
       "      <td>1.0</td>\n",
       "      <td>0.0</td>\n",
       "      <td>51.0</td>\n",
       "      <td>0</td>\n",
       "      <td>0</td>\n",
       "      <td>0</td>\n",
       "    </tr>\n",
       "    <tr>\n",
       "      <th>5</th>\n",
       "      <td>104</td>\n",
       "      <td>93.428571</td>\n",
       "      <td>262812.500000</td>\n",
       "      <td>43.0</td>\n",
       "      <td>235.0</td>\n",
       "      <td>13.0</td>\n",
       "      <td>167.0</td>\n",
       "      <td>38.0</td>\n",
       "      <td>106.0</td>\n",
       "      <td>1.0</td>\n",
       "      <td>0.0</td>\n",
       "      <td>20.0</td>\n",
       "      <td>0</td>\n",
       "      <td>0</td>\n",
       "      <td>0</td>\n",
       "    </tr>\n",
       "    <tr>\n",
       "      <th>6</th>\n",
       "      <td>72</td>\n",
       "      <td>94.875000</td>\n",
       "      <td>274829.000000</td>\n",
       "      <td>33.0</td>\n",
       "      <td>189.0</td>\n",
       "      <td>13.0</td>\n",
       "      <td>167.0</td>\n",
       "      <td>25.0</td>\n",
       "      <td>69.0</td>\n",
       "      <td>0.0</td>\n",
       "      <td>0.0</td>\n",
       "      <td>29.0</td>\n",
       "      <td>0</td>\n",
       "      <td>0</td>\n",
       "      <td>0</td>\n",
       "    </tr>\n",
       "  </tbody>\n",
       "</table>\n",
       "</div>"
      ],
      "text/plain": [
       "    Absenteeism time in hours  Hit target  Work load Average/day    Age  \\\n",
       "ID                                                                        \n",
       "1                         121   95.045455           263735.727273  37.0   \n",
       "2                          25   92.000000           212010.250000  48.0   \n",
       "3                         482   95.071429           262248.437500  38.0   \n",
       "5                         104   93.428571           262812.500000  43.0   \n",
       "6                          72   94.875000           274829.000000  33.0   \n",
       "\n",
       "    Transportation expense  Service time  Height  Body mass index  Weight  \\\n",
       "ID                                                                          \n",
       "1                    235.0          14.0   172.0             29.0    88.0   \n",
       "2                    235.0          12.0   163.0             33.0    88.0   \n",
       "3                    179.0          18.0   170.0             31.0    89.0   \n",
       "5                    235.0          13.0   167.0             38.0   106.0   \n",
       "6                    189.0          13.0   167.0             25.0    69.0   \n",
       "\n",
       "    Social drinker  Social smoker  Distance from Residence to Work  Reason_1  \\\n",
       "ID                                                                             \n",
       "1              0.0            0.0                             11.0         1   \n",
       "2              0.0            1.0                             29.0         0   \n",
       "3              1.0            0.0                             51.0         0   \n",
       "5              1.0            0.0                             20.0         0   \n",
       "6              0.0            0.0                             29.0         0   \n",
       "\n",
       "    Reason_3  Reason_4  \n",
       "ID                      \n",
       "1          0         0  \n",
       "2          0         0  \n",
       "3          0         0  \n",
       "5          0         0  \n",
       "6          0         0  "
      ]
     },
     "execution_count": 15,
     "metadata": {},
     "output_type": "execute_result"
    }
   ],
   "source": [
    "# Extract unique IDs and sort them\n",
    "unique_ids = sorted(allabsents['ID'].unique())\n",
    "\n",
    "# One-hot encode categorical features\n",
    "reasons = pd.get_dummies(allabsents['Reason for absence'], prefix='Reason')\n",
    "months = pd.get_dummies(allabsents['Month of absence'], prefix='Month')\n",
    "days = pd.get_dummies(allabsents['Day of the week'], prefix='day')\n",
    "seasons = pd.get_dummies(allabsents['Seasons'], prefix='Season')\n",
    "\n",
    "# Concatenate one-hot encoded features with necessary columns\n",
    "all_features = pd.concat([allabsents[['ID', 'Absenteeism time in hours']], reasons, months, days, seasons], axis=1)\n",
    "\n",
    "# Function to aggregate one-hot encoded columns by ID\n",
    "def aggregate_by_id(df, id_column, feature_columns):\n",
    "    return df.groupby(id_column)[feature_columns].sum()\n",
    "\n",
    "# Aggregate features\n",
    "reason_aggregates = aggregate_by_id(all_features, 'ID', reasons.columns)\n",
    "month_aggregates = aggregate_by_id(all_features, 'ID', months.columns)\n",
    "day_aggregates = aggregate_by_id(all_features, 'ID', days.columns)\n",
    "season_aggregates = aggregate_by_id(all_features, 'ID', seasons.columns)\n",
    "\n",
    "# Combine aggregated data with other metrics\n",
    "summary = (\n",
    "    allabsents.groupby('ID')\n",
    "    .agg({\n",
    "        'Absenteeism time in hours': 'sum',\n",
    "        'Hit target': 'mean',\n",
    "        'Work load Average/day ': 'mean',\n",
    "        'Age': 'mean',\n",
    "        'Transportation expense': 'mean',\n",
    "        'Service time': 'mean',\n",
    "        'Height': 'mean',\n",
    "        'Body mass index': 'mean',\n",
    "        'Weight': 'mean',\n",
    "        'Social drinker': 'mean',\n",
    "        'Social smoker': 'mean',\n",
    "        'Education': 'mean',\n",
    "        'Pet': 'mean',\n",
    "        'Distance from Residence to Work': 'mean',\n",
    "    })\n",
    ")\n",
    "\n",
    "# Combine all aggregated data into a single DataFrame\n",
    "final_data = pd.concat([summary, reason_aggregates, month_aggregates, day_aggregates, season_aggregates], axis=1)\n",
    "\n",
    "# Display the first 5 rows of selected columns\n",
    "selected_columns = [\n",
    "    'Absenteeism time in hours', 'Hit target', 'Work load Average/day ', 'Age',\n",
    "    'Transportation expense', 'Service time', 'Height', 'Body mass index', 'Weight',\n",
    "    'Social drinker', 'Social smoker', 'Distance from Residence to Work', 'Reason_1', 'Reason_3', 'Reason_4'\n",
    "]\n",
    "final_data[selected_columns].head()\n"
   ]
  },
  {
   "cell_type": "code",
   "execution_count": 16,
   "metadata": {},
   "outputs": [
    {
     "data": {
      "text/plain": [
       "Index(['Absenteeism time in hours', 'Hit target', 'Work load Average/day ',\n",
       "       'Age', 'Transportation expense', 'Service time', 'Height',\n",
       "       'Body mass index', 'Weight', 'Social drinker', 'Social smoker',\n",
       "       'Education', 'Pet', 'Distance from Residence to Work', 'Reason_1',\n",
       "       'Reason_2', 'Reason_3', 'Reason_4', 'Reason_5', 'Reason_6', 'Reason_7',\n",
       "       'Reason_8', 'Reason_9', 'Reason_10', 'Reason_11', 'Reason_12',\n",
       "       'Reason_13', 'Reason_14', 'Reason_15', 'Reason_16', 'Reason_17',\n",
       "       'Reason_18', 'Reason_19', 'Reason_21', 'Reason_22', 'Reason_23',\n",
       "       'Reason_24', 'Reason_25', 'Reason_26', 'Reason_27', 'Reason_28',\n",
       "       'Month_1', 'Month_2', 'Month_3', 'Month_4', 'Month_5', 'Month_6',\n",
       "       'Month_7', 'Month_8', 'Month_9', 'Month_10', 'Month_11', 'Month_12',\n",
       "       'day_2', 'day_3', 'day_4', 'day_5', 'day_6', 'Season_1', 'Season_2',\n",
       "       'Season_3', 'Season_4'],\n",
       "      dtype='object')"
      ]
     },
     "execution_count": 16,
     "metadata": {},
     "output_type": "execute_result"
    }
   ],
   "source": [
    "final_data.columns"
   ]
  },
  {
   "cell_type": "code",
   "execution_count": 17,
   "metadata": {},
   "outputs": [
    {
     "data": {
      "text/html": [
       "<div>\n",
       "<style scoped>\n",
       "    .dataframe tbody tr th:only-of-type {\n",
       "        vertical-align: middle;\n",
       "    }\n",
       "\n",
       "    .dataframe tbody tr th {\n",
       "        vertical-align: top;\n",
       "    }\n",
       "\n",
       "    .dataframe thead th {\n",
       "        text-align: right;\n",
       "    }\n",
       "</style>\n",
       "<table border=\"1\" class=\"dataframe\">\n",
       "  <thead>\n",
       "    <tr style=\"text-align: right;\">\n",
       "      <th></th>\n",
       "      <th>Absenteeism time in hours</th>\n",
       "      <th>Hit target</th>\n",
       "      <th>Work load Average/day</th>\n",
       "      <th>Age</th>\n",
       "      <th>Transportation expense</th>\n",
       "      <th>Service time</th>\n",
       "      <th>Height</th>\n",
       "      <th>Body mass index</th>\n",
       "      <th>Weight</th>\n",
       "      <th>Social drinker</th>\n",
       "      <th>...</th>\n",
       "      <th>Month_12</th>\n",
       "      <th>day_2</th>\n",
       "      <th>day_3</th>\n",
       "      <th>day_4</th>\n",
       "      <th>day_5</th>\n",
       "      <th>day_6</th>\n",
       "      <th>Season_1</th>\n",
       "      <th>Season_2</th>\n",
       "      <th>Season_3</th>\n",
       "      <th>Season_4</th>\n",
       "    </tr>\n",
       "  </thead>\n",
       "  <tbody>\n",
       "    <tr>\n",
       "      <th>count</th>\n",
       "      <td>33.000000</td>\n",
       "      <td>33.000000</td>\n",
       "      <td>33.000000</td>\n",
       "      <td>33.000000</td>\n",
       "      <td>33.000000</td>\n",
       "      <td>33.000000</td>\n",
       "      <td>33.000000</td>\n",
       "      <td>33.000000</td>\n",
       "      <td>33.000000</td>\n",
       "      <td>33.000000</td>\n",
       "      <td>...</td>\n",
       "      <td>33.000000</td>\n",
       "      <td>33.000000</td>\n",
       "      <td>33.000000</td>\n",
       "      <td>33.000000</td>\n",
       "      <td>33.000000</td>\n",
       "      <td>33.000000</td>\n",
       "      <td>33.000000</td>\n",
       "      <td>33.000000</td>\n",
       "      <td>33.000000</td>\n",
       "      <td>33.000000</td>\n",
       "    </tr>\n",
       "    <tr>\n",
       "      <th>mean</th>\n",
       "      <td>155.272727</td>\n",
       "      <td>94.912499</td>\n",
       "      <td>269788.417144</td>\n",
       "      <td>37.818182</td>\n",
       "      <td>242.848485</td>\n",
       "      <td>12.272727</td>\n",
       "      <td>173.181818</td>\n",
       "      <td>25.969697</td>\n",
       "      <td>77.787879</td>\n",
       "      <td>0.515152</td>\n",
       "      <td>...</td>\n",
       "      <td>1.484848</td>\n",
       "      <td>4.666667</td>\n",
       "      <td>4.272727</td>\n",
       "      <td>4.393939</td>\n",
       "      <td>3.575758</td>\n",
       "      <td>4.181818</td>\n",
       "      <td>4.969697</td>\n",
       "      <td>5.727273</td>\n",
       "      <td>5.121212</td>\n",
       "      <td>5.272727</td>\n",
       "    </tr>\n",
       "    <tr>\n",
       "      <th>std</th>\n",
       "      <td>148.538983</td>\n",
       "      <td>1.594758</td>\n",
       "      <td>20243.159030</td>\n",
       "      <td>7.840020</td>\n",
       "      <td>73.501752</td>\n",
       "      <td>5.535526</td>\n",
       "      <td>6.564367</td>\n",
       "      <td>4.447505</td>\n",
       "      <td>13.242351</td>\n",
       "      <td>0.507519</td>\n",
       "      <td>...</td>\n",
       "      <td>2.386436</td>\n",
       "      <td>5.354126</td>\n",
       "      <td>5.299014</td>\n",
       "      <td>6.209566</td>\n",
       "      <td>4.451336</td>\n",
       "      <td>6.074818</td>\n",
       "      <td>5.193053</td>\n",
       "      <td>9.210296</td>\n",
       "      <td>5.242599</td>\n",
       "      <td>7.089926</td>\n",
       "    </tr>\n",
       "    <tr>\n",
       "      <th>min</th>\n",
       "      <td>6.000000</td>\n",
       "      <td>92.000000</td>\n",
       "      <td>212010.250000</td>\n",
       "      <td>27.000000</td>\n",
       "      <td>118.000000</td>\n",
       "      <td>1.000000</td>\n",
       "      <td>163.000000</td>\n",
       "      <td>19.000000</td>\n",
       "      <td>56.000000</td>\n",
       "      <td>0.000000</td>\n",
       "      <td>...</td>\n",
       "      <td>0.000000</td>\n",
       "      <td>0.000000</td>\n",
       "      <td>0.000000</td>\n",
       "      <td>0.000000</td>\n",
       "      <td>0.000000</td>\n",
       "      <td>0.000000</td>\n",
       "      <td>0.000000</td>\n",
       "      <td>0.000000</td>\n",
       "      <td>0.000000</td>\n",
       "      <td>0.000000</td>\n",
       "    </tr>\n",
       "    <tr>\n",
       "      <th>25%</th>\n",
       "      <td>30.000000</td>\n",
       "      <td>93.921053</td>\n",
       "      <td>258870.250000</td>\n",
       "      <td>32.000000</td>\n",
       "      <td>184.000000</td>\n",
       "      <td>9.000000</td>\n",
       "      <td>169.000000</td>\n",
       "      <td>23.000000</td>\n",
       "      <td>68.000000</td>\n",
       "      <td>0.000000</td>\n",
       "      <td>...</td>\n",
       "      <td>0.000000</td>\n",
       "      <td>1.000000</td>\n",
       "      <td>1.000000</td>\n",
       "      <td>1.000000</td>\n",
       "      <td>1.000000</td>\n",
       "      <td>0.000000</td>\n",
       "      <td>2.000000</td>\n",
       "      <td>1.000000</td>\n",
       "      <td>1.000000</td>\n",
       "      <td>0.000000</td>\n",
       "    </tr>\n",
       "    <tr>\n",
       "      <th>50%</th>\n",
       "      <td>104.000000</td>\n",
       "      <td>94.934783</td>\n",
       "      <td>267709.256410</td>\n",
       "      <td>37.000000</td>\n",
       "      <td>235.000000</td>\n",
       "      <td>12.000000</td>\n",
       "      <td>172.000000</td>\n",
       "      <td>25.000000</td>\n",
       "      <td>75.000000</td>\n",
       "      <td>1.000000</td>\n",
       "      <td>...</td>\n",
       "      <td>1.000000</td>\n",
       "      <td>3.000000</td>\n",
       "      <td>3.000000</td>\n",
       "      <td>2.000000</td>\n",
       "      <td>2.000000</td>\n",
       "      <td>2.000000</td>\n",
       "      <td>3.000000</td>\n",
       "      <td>3.000000</td>\n",
       "      <td>4.000000</td>\n",
       "      <td>3.000000</td>\n",
       "    </tr>\n",
       "    <tr>\n",
       "      <th>75%</th>\n",
       "      <td>254.000000</td>\n",
       "      <td>95.689655</td>\n",
       "      <td>281090.942857</td>\n",
       "      <td>43.000000</td>\n",
       "      <td>289.000000</td>\n",
       "      <td>14.000000</td>\n",
       "      <td>178.000000</td>\n",
       "      <td>28.000000</td>\n",
       "      <td>88.000000</td>\n",
       "      <td>1.000000</td>\n",
       "      <td>...</td>\n",
       "      <td>2.000000</td>\n",
       "      <td>6.000000</td>\n",
       "      <td>6.000000</td>\n",
       "      <td>4.000000</td>\n",
       "      <td>3.000000</td>\n",
       "      <td>5.000000</td>\n",
       "      <td>7.000000</td>\n",
       "      <td>7.000000</td>\n",
       "      <td>7.000000</td>\n",
       "      <td>7.000000</td>\n",
       "    </tr>\n",
       "    <tr>\n",
       "      <th>max</th>\n",
       "      <td>482.000000</td>\n",
       "      <td>99.000000</td>\n",
       "      <td>309128.200000</td>\n",
       "      <td>58.000000</td>\n",
       "      <td>388.000000</td>\n",
       "      <td>29.000000</td>\n",
       "      <td>196.000000</td>\n",
       "      <td>38.000000</td>\n",
       "      <td>108.000000</td>\n",
       "      <td>1.000000</td>\n",
       "      <td>...</td>\n",
       "      <td>11.000000</td>\n",
       "      <td>27.000000</td>\n",
       "      <td>20.000000</td>\n",
       "      <td>29.000000</td>\n",
       "      <td>18.000000</td>\n",
       "      <td>27.000000</td>\n",
       "      <td>23.000000</td>\n",
       "      <td>48.000000</td>\n",
       "      <td>18.000000</td>\n",
       "      <td>30.000000</td>\n",
       "    </tr>\n",
       "  </tbody>\n",
       "</table>\n",
       "<p>8 rows × 62 columns</p>\n",
       "</div>"
      ],
      "text/plain": [
       "       Absenteeism time in hours  Hit target  Work load Average/day   \\\n",
       "count                  33.000000   33.000000               33.000000   \n",
       "mean                  155.272727   94.912499           269788.417144   \n",
       "std                   148.538983    1.594758            20243.159030   \n",
       "min                     6.000000   92.000000           212010.250000   \n",
       "25%                    30.000000   93.921053           258870.250000   \n",
       "50%                   104.000000   94.934783           267709.256410   \n",
       "75%                   254.000000   95.689655           281090.942857   \n",
       "max                   482.000000   99.000000           309128.200000   \n",
       "\n",
       "             Age  Transportation expense  Service time      Height  \\\n",
       "count  33.000000               33.000000     33.000000   33.000000   \n",
       "mean   37.818182              242.848485     12.272727  173.181818   \n",
       "std     7.840020               73.501752      5.535526    6.564367   \n",
       "min    27.000000              118.000000      1.000000  163.000000   \n",
       "25%    32.000000              184.000000      9.000000  169.000000   \n",
       "50%    37.000000              235.000000     12.000000  172.000000   \n",
       "75%    43.000000              289.000000     14.000000  178.000000   \n",
       "max    58.000000              388.000000     29.000000  196.000000   \n",
       "\n",
       "       Body mass index      Weight  Social drinker  ...   Month_12      day_2  \\\n",
       "count        33.000000   33.000000       33.000000  ...  33.000000  33.000000   \n",
       "mean         25.969697   77.787879        0.515152  ...   1.484848   4.666667   \n",
       "std           4.447505   13.242351        0.507519  ...   2.386436   5.354126   \n",
       "min          19.000000   56.000000        0.000000  ...   0.000000   0.000000   \n",
       "25%          23.000000   68.000000        0.000000  ...   0.000000   1.000000   \n",
       "50%          25.000000   75.000000        1.000000  ...   1.000000   3.000000   \n",
       "75%          28.000000   88.000000        1.000000  ...   2.000000   6.000000   \n",
       "max          38.000000  108.000000        1.000000  ...  11.000000  27.000000   \n",
       "\n",
       "           day_3      day_4      day_5      day_6   Season_1   Season_2  \\\n",
       "count  33.000000  33.000000  33.000000  33.000000  33.000000  33.000000   \n",
       "mean    4.272727   4.393939   3.575758   4.181818   4.969697   5.727273   \n",
       "std     5.299014   6.209566   4.451336   6.074818   5.193053   9.210296   \n",
       "min     0.000000   0.000000   0.000000   0.000000   0.000000   0.000000   \n",
       "25%     1.000000   1.000000   1.000000   0.000000   2.000000   1.000000   \n",
       "50%     3.000000   2.000000   2.000000   2.000000   3.000000   3.000000   \n",
       "75%     6.000000   4.000000   3.000000   5.000000   7.000000   7.000000   \n",
       "max    20.000000  29.000000  18.000000  27.000000  23.000000  48.000000   \n",
       "\n",
       "        Season_3   Season_4  \n",
       "count  33.000000  33.000000  \n",
       "mean    5.121212   5.272727  \n",
       "std     5.242599   7.089926  \n",
       "min     0.000000   0.000000  \n",
       "25%     1.000000   0.000000  \n",
       "50%     4.000000   3.000000  \n",
       "75%     7.000000   7.000000  \n",
       "max    18.000000  30.000000  \n",
       "\n",
       "[8 rows x 62 columns]"
      ]
     },
     "execution_count": 17,
     "metadata": {},
     "output_type": "execute_result"
    }
   ],
   "source": [
    "final_data.describe()"
   ]
  },
  {
   "cell_type": "code",
   "execution_count": 18,
   "metadata": {},
   "outputs": [
    {
     "data": {
      "text/plain": [
       "62"
      ]
     },
     "execution_count": 18,
     "metadata": {},
     "output_type": "execute_result"
    }
   ],
   "source": [
    "len(final_data.columns)"
   ]
  },
  {
   "cell_type": "markdown",
   "metadata": {},
   "source": [
    "Let us take a quick look at some of the columns correlation. "
   ]
  },
  {
   "cell_type": "code",
   "execution_count": 19,
   "metadata": {},
   "outputs": [
    {
     "data": {
      "image/png": "[encoded data removed]",
      "text/plain": [
       "<Figure size 900x900 with 2 Axes>"
      ]
     },
     "metadata": {},
     "output_type": "display_data"
    }
   ],
   "source": [
    "def correlation_heatmap(li):\n",
    "    correlations = li.corr()\n",
    "\n",
    "    fig, ax = plt.subplots(figsize=(9,9))\n",
    "    sns.heatmap(correlations, vmax=1.0, center=0, fmt='.2f',\n",
    "                square=True, linewidths=.5, annot=True, cbar_kws={\"shrink\": .70})\n",
    "    plt.show()\n",
    "    \n",
    "correlation_heatmap(final_data[['Age','Weight','Transportation expense' ,'Body mass index','Distance from Residence to Work','Service time','Height','Work load Average/day ','Hit target','Absenteeism time in hours']])"
   ]
  },
  {
   "cell_type": "code",
   "execution_count": 20,
   "metadata": {},
   "outputs": [
    {
     "data": {
      "text/plain": [
       "Absenteeism time in hours          1.000000\n",
       "Height                             0.147385\n",
       "Son                                0.127683\n",
       "Age                                0.086038\n",
       "Social drinker                     0.073874\n",
       "Transportation expense             0.040808\n",
       "Month of absence                   0.033875\n",
       "Work load Average/day              0.030206\n",
       "Weight                             0.028674\n",
       "Service time                       0.019654\n",
       "Seasons                            0.012429\n",
       "Hit target                         0.009171\n",
       "Social smoker                      0.005242\n",
       "ID                                -0.017577\n",
       "Pet                               -0.022864\n",
       "Body mass index                   -0.039468\n",
       "Education                         -0.056083\n",
       "Distance from Residence to Work   -0.099886\n",
       "Day of the week                   -0.130839\n",
       "Reason for absence                -0.300813\n",
       "Name: Absenteeism time in hours, dtype: float64"
      ]
     },
     "execution_count": 20,
     "metadata": {},
     "output_type": "execute_result"
    }
   ],
   "source": [
    "corr_with_target = allabsents.corr()['Absenteeism time in hours'].sort_values(ascending=False)\n",
    "corr_with_target"
   ]
  },
  {
   "cell_type": "code",
   "execution_count": 21,
   "metadata": {},
   "outputs": [
    {
     "data": {
      "image/png": "[encoded data removed]",
      "text/plain": [
       "<Figure size 1250x1250 with 30 Axes>"
      ]
     },
     "metadata": {},
     "output_type": "display_data"
    }
   ],
   "source": [
    "top_features = corr_with_target.index[:5]\n",
    "sns.pairplot(allabsents[top_features])\n",
    "plt.show()"
   ]
  },
  {
   "cell_type": "markdown",
   "metadata": {},
   "source": [
    "# PCA "
   ]
  },
  {
   "cell_type": "code",
   "execution_count": 22,
   "metadata": {},
   "outputs": [
    {
     "data": {
      "text/plain": [
       "[<matplotlib.lines.Line2D at 0x1fb20818390>]"
      ]
     },
     "execution_count": 22,
     "metadata": {},
     "output_type": "execute_result"
    },
    {
     "data": {
      "image/png": "[encoded data removed]",
      "text/plain": [
       "<Figure size 640x480 with 1 Axes>"
      ]
     },
     "metadata": {},
     "output_type": "display_data"
    }
   ],
   "source": [
    "d=StandardScaler().fit_transform(final_data)\n",
    "rt = PCA(n_components=20)\n",
    "covar_matrix=rt.fit_transform(d)\n",
    "var=np.cumsum(np.round(rt.explained_variance_ratio_, decimals=3)*100) #cumulative sum of variance explained with [n] features\n",
    "plt.ylabel('% Variance Explained')\n",
    "plt.xlabel('Number of Features')\n",
    "plt.title('PCA Analysis')\n",
    "plt.ylim(30,100.5)\n",
    "plt.style.context('seaborn-whitegrid')\n",
    "\n",
    "\n",
    "plt.plot(var)"
   ]
  },
  {
   "cell_type": "markdown",
   "metadata": {},
   "source": [
    "It looks like we would need 20 principal components out of 62 columns to explain 95% of the explained variance."
   ]
  },
  {
   "cell_type": "code",
   "execution_count": 23,
   "metadata": {},
   "outputs": [
    {
     "data": {
      "image/png": "[encoded data removed]",
      "text/plain": [
       "<Figure size 640x480 with 1 Axes>"
      ]
     },
     "metadata": {},
     "output_type": "display_data"
    }
   ],
   "source": [
    "#PCA\n",
    "pca_reducer=PCA(n_components=20)\n",
    "reduced_data=pca_reducer.fit_transform(d)\n",
    "Sum_of_squared_distances = []\n",
    "K = range(1,26)\n",
    "for k in K:\n",
    "    km = KMeans(n_clusters=k)\n",
    "    km = km.fit(reduced_data)\n",
    "    Sum_of_squared_distances.append(km.inertia_)\n",
    "    \n",
    "plt.plot(K, Sum_of_squared_distances, 'bx-')\n",
    "plt.xlabel('K')\n",
    "plt.ylabel('Sum_of_squared_distances')\n",
    "plt.title('Elbow Method For Optimal k')\n",
    "plt.show()"
   ]
  },
  {
   "cell_type": "markdown",
   "metadata": {},
   "source": [
    "From this above result, we would need to use between 15 to 20 clusters. Since we only have 33 customer IDs, we can see how the clustering method will not be able to find distinct groups employees. \n",
    "\n",
    "* For the rest of the project,we will assume there are 740 unique ID's instead of 33. "
   ]
  },
  {
   "cell_type": "code",
   "execution_count": 24,
   "metadata": {},
   "outputs": [
    {
     "data": {
      "image/png": "[encoded data removed]",
      "text/plain": [
       "<Figure size 1200x1200 with 9 Axes>"
      ]
     },
     "metadata": {},
     "output_type": "display_data"
    }
   ],
   "source": [
    "# List of columns to plot\n",
    "col = ['Age', 'Weight', 'Transportation expense', 'Body mass index', \n",
    "       'Distance from Residence to Work', 'Service time', 'Height', \n",
    "       'Work load Average/day ', 'Hit target']\n",
    "\n",
    "# Convert data to long format\n",
    "data = allabsents[col].melt(var_name=\"Feature\", value_name=\"Value\")\n",
    "\n",
    "# Use Seaborn's FacetGrid\n",
    "g = sns.FacetGrid(data, col=\"Feature\", col_wrap=3, height=4, sharex=False, sharey=False)\n",
    "g.map(sns.histplot, \"Value\", kde=True)\n",
    "\n",
    "# Add titles and adjust layout\n",
    "g.set_titles(\"{col_name}\")\n",
    "g.set_axis_labels(\"Value\", \"Frequency\")\n",
    "plt.tight_layout()\n",
    "plt.show()"
   ]
  },
  {
   "cell_type": "code",
   "execution_count": 25,
   "metadata": {},
   "outputs": [
    {
     "name": "stderr",
     "output_type": "stream",
     "text": [
      "c:\\Users\\USER\\AppData\\Local\\Programs\\Python\\Python311\\Lib\\site-packages\\seaborn\\axisgrid.py:718: UserWarning:\n",
      "\n",
      "Using the boxplot function without specifying `order` is likely to produce an incorrect plot.\n",
      "\n"
     ]
    },
    {
     "data": {
      "image/png": "[encoded data removed]",
      "text/plain": [
       "<Figure size 1200x1200 with 9 Axes>"
      ]
     },
     "metadata": {},
     "output_type": "display_data"
    }
   ],
   "source": [
    "# Transform data to long format\n",
    "data = allabsents[col].melt(var_name=\"Feature\", value_name=\"Value\")\n",
    "\n",
    "# Create a FacetGrid for boxplots\n",
    "g = sns.FacetGrid(data, col=\"Feature\", col_wrap=3, height=4, sharex=False, sharey=False)\n",
    "g.map(sns.boxplot, \"Value\", orient=\"h\")\n",
    "\n",
    "# Customize the plot\n",
    "g.set_titles(\"{col_name}\")\n",
    "g.set_axis_labels(\"Value\", \"\")\n",
    "plt.tight_layout()\n",
    "plt.show()"
   ]
  },
  {
   "cell_type": "code",
   "execution_count": 26,
   "metadata": {},
   "outputs": [
    {
     "data": {
      "text/plain": [
       "<Axes: xlabel='Absenteeism time in hours', ylabel='count'>"
      ]
     },
     "execution_count": 26,
     "metadata": {},
     "output_type": "execute_result"
    },
    {
     "data": {
      "image/png": "[encoded data removed]",
      "text/plain": [
       "<Figure size 640x480 with 1 Axes>"
      ]
     },
     "metadata": {},
     "output_type": "display_data"
    }
   ],
   "source": [
    "sns.countplot(x='Absenteeism time in hours',data=allabsents)"
   ]
  },
  {
   "cell_type": "markdown",
   "metadata": {},
   "source": [
    "After that, a statistical focus looks at the dynamics of employees according to Age, Service time and Absenteeism time in hours\n",
    "​\n",
    "* Most workers are in between their late 20's and early 40's. On top of that, most employees have between 10 to 18 years of service time.\n",
    "​\n",
    "It is worth noticing a few characteristics of the Absenteeism time in hours column: \n",
    "\n",
    "    * The plot is more skewed to the right where most values are less than 80 hrs of absence. In fact, **61% of employees have been absent for less than 8hrs** and **29% of them absent for exactly 8hrs**. Hence **91% of Absenteeism time in hours is explained by ony 8 or less hours of absenteeism**.\n",
    "    * Because of its specific values that are clearly not continuous, we deduce that these are categorical values meaning that we will be using classification for modelling "
   ]
  }
 ],
 "metadata": {
  "kernelspec": {
   "display_name": "Python 3",
   "language": "python",
   "name": "python3"
  },
  "language_info": {
   "codemirror_mode": {
    "name": "ipython",
    "version": 3
   },
   "file_extension": ".py",
   "mimetype": "text/x-python",
   "name": "python",
   "nbconvert_exporter": "python",
   "pygments_lexer": "ipython3",
   "version": "3.11.0"
  }
 },
 "nbformat": 4,
 "nbformat_minor": 2
}
