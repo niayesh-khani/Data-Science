{
 "cells": [
  {
   "cell_type": "markdown",
   "metadata": {},
   "source": [
    "Importing necessary libraries:"
   ]
  },
  {
   "cell_type": "code",
   "execution_count": 29,
   "metadata": {},
   "outputs": [],
   "source": [
    "import pandas as pd\n",
    "import matplotlib.pyplot as plt\n",
    "import seaborn as sns"
   ]
  },
  {
   "cell_type": "markdown",
   "metadata": {},
   "source": [
    "pd.read_ is used for loading the data into the code.\n",
    "<br/>\n",
    "use pd.read_csv() to load the data and store it into the 'df' variable:"
   ]
  },
  {
   "cell_type": "code",
   "execution_count": 30,
   "metadata": {},
   "outputs": [],
   "source": [
    "df = pd.read_csv('sample.csv')"
   ]
  },
  {
   "cell_type": "markdown",
   "metadata": {},
   "source": [
    "use df.head(n) to see a few rows of your data:"
   ]
  },
  {
   "cell_type": "code",
   "execution_count": 37,
   "metadata": {},
   "outputs": [
    {
     "data": {
      "text/html": [
       "<div>\n",
       "<style scoped>\n",
       "    .dataframe tbody tr th:only-of-type {\n",
       "        vertical-align: middle;\n",
       "    }\n",
       "\n",
       "    .dataframe tbody tr th {\n",
       "        vertical-align: top;\n",
       "    }\n",
       "\n",
       "    .dataframe thead th {\n",
       "        text-align: right;\n",
       "    }\n",
       "</style>\n",
       "<table border=\"1\" class=\"dataframe\">\n",
       "  <thead>\n",
       "    <tr style=\"text-align: right;\">\n",
       "      <th></th>\n",
       "      <th>ID</th>\n",
       "      <th>Calories Burn</th>\n",
       "      <th>Dream Weight</th>\n",
       "      <th>Actual Weight</th>\n",
       "      <th>Age</th>\n",
       "      <th>Duration</th>\n",
       "      <th>Heart Rate</th>\n",
       "      <th>BMI</th>\n",
       "      <th>Exercise Intensity</th>\n",
       "    </tr>\n",
       "  </thead>\n",
       "  <tbody>\n",
       "    <tr>\n",
       "      <th>0</th>\n",
       "      <td>1</td>\n",
       "      <td>286.959851</td>\n",
       "      <td>91.892531</td>\n",
       "      <td>96.301115</td>\n",
       "      <td>45</td>\n",
       "      <td>37</td>\n",
       "      <td>170</td>\n",
       "      <td>29.426275</td>\n",
       "      <td>5</td>\n",
       "    </tr>\n",
       "    <tr>\n",
       "      <th>1</th>\n",
       "      <td>2</td>\n",
       "      <td>343.453036</td>\n",
       "      <td>64.165097</td>\n",
       "      <td>61.104668</td>\n",
       "      <td>25</td>\n",
       "      <td>43</td>\n",
       "      <td>142</td>\n",
       "      <td>21.286346</td>\n",
       "      <td>5</td>\n",
       "    </tr>\n",
       "    <tr>\n",
       "      <th>2</th>\n",
       "      <td>3</td>\n",
       "      <td>261.223465</td>\n",
       "      <td>70.846224</td>\n",
       "      <td>71.766724</td>\n",
       "      <td>20</td>\n",
       "      <td>20</td>\n",
       "      <td>148</td>\n",
       "      <td>27.899592</td>\n",
       "      <td>4</td>\n",
       "    </tr>\n",
       "    <tr>\n",
       "      <th>3</th>\n",
       "      <td>4</td>\n",
       "      <td>127.183858</td>\n",
       "      <td>79.477008</td>\n",
       "      <td>82.984456</td>\n",
       "      <td>33</td>\n",
       "      <td>39</td>\n",
       "      <td>170</td>\n",
       "      <td>33.729552</td>\n",
       "      <td>10</td>\n",
       "    </tr>\n",
       "    <tr>\n",
       "      <th>4</th>\n",
       "      <td>5</td>\n",
       "      <td>416.318374</td>\n",
       "      <td>89.960226</td>\n",
       "      <td>85.643174</td>\n",
       "      <td>29</td>\n",
       "      <td>34</td>\n",
       "      <td>118</td>\n",
       "      <td>23.286113</td>\n",
       "      <td>3</td>\n",
       "    </tr>\n",
       "  </tbody>\n",
       "</table>\n",
       "</div>"
      ],
      "text/plain": [
       "   ID  Calories Burn  Dream Weight  Actual Weight  Age  Duration  Heart Rate  \\\n",
       "0   1     286.959851     91.892531      96.301115   45        37         170   \n",
       "1   2     343.453036     64.165097      61.104668   25        43         142   \n",
       "2   3     261.223465     70.846224      71.766724   20        20         148   \n",
       "3   4     127.183858     79.477008      82.984456   33        39         170   \n",
       "4   5     416.318374     89.960226      85.643174   29        34         118   \n",
       "\n",
       "         BMI  Exercise Intensity  \n",
       "0  29.426275                   5  \n",
       "1  21.286346                   5  \n",
       "2  27.899592                   4  \n",
       "3  33.729552                  10  \n",
       "4  23.286113                   3  "
      ]
     },
     "execution_count": 37,
     "metadata": {},
     "output_type": "execute_result"
    }
   ],
   "source": [
    "df.head()"
   ]
  },
  {
   "cell_type": "markdown",
   "metadata": {},
   "source": [
    "The KDE plot is a technique that allows for non-parametric estimation of the probability density function of a random variable. Its primary use is to visually represent the distribution of a dataset, as well as to evaluate the assumptions made by parametric models and to uncover patterns and trends in the data.\n",
    "\n",
    "\n",
    "You can plot a column of the dataframe using the following command in seaborn:\n",
    "```\n",
    "sns.kdeplot(df['column1'])\n",
    "plt.show()\n",
    "```\n",
    "or mutiple columns using:\n",
    "```\n",
    "sns.kdeplot(df[['column1', 'column2', 'column3']])\n",
    "```"
   ]
  },
  {
   "cell_type": "code",
   "execution_count": 32,
   "metadata": {},
   "outputs": [
    {
     "data": {
      "image/png": "[encoded data removed]",
      "text/plain": [
       "<Figure size 640x480 with 1 Axes>"
      ]
     },
     "metadata": {},
     "output_type": "display_data"
    }
   ],
   "source": [
    "# Draw kdeplot for the 'Calories Burn' column: \n",
    "sns.kdeplot(df['Calories Burn'])\n",
    "plt.title(\"KDE Plot of Calories Burned\")\n",
    "plt.xlabel(\"Calories Burned\")\n",
    "plt.show()"
   ]
  },
  {
   "cell_type": "markdown",
   "metadata": {},
   "source": [
    "A histogram is a statistical graph that represents the distribution of a continuous dataset through plotted bars, each representing a particular category or class interval. The bar height reflects the frequency or count of data points within each group.\n",
    "search about:\n",
    "* how to use histplot in seaborn and matplotlib,\n",
    "* what is the usuage of the 'bins' parameter,\n",
    "* plot and compare the following columns:\n",
    "\n",
    "1. Dream Weight VS Actual Weight\n",
    "\n",
    "Do you see any limits?"
   ]
  },
  {
   "cell_type": "code",
   "execution_count": 33,
   "metadata": {},
   "outputs": [
    {
     "data": {
      "image/png": "[encoded data removed]",
      "text/plain": [
       "<Figure size 1000x500 with 1 Axes>"
      ]
     },
     "metadata": {},
     "output_type": "display_data"
    }
   ],
   "source": [
    "plt.figure(figsize=(10, 5))\n",
    "sns.histplot(df['Dream Weight'], color=\"cyan\", label=\"Dream Weight\", bins=20)\n",
    "sns.histplot(df['Actual Weight'], color=\"red\", label=\"Actual Weight\", bins=20)\n",
    "plt.title(\"Dream Weight vs. Actual Weight\")\n",
    "plt.xlabel(\"Weight\")\n",
    "plt.legend()\n",
    "plt.show()"
   ]
  },
  {
   "cell_type": "markdown",
   "metadata": {},
   "source": [
    "There is a method for dataframes in pandas called .corr\n",
    "<br/>\n",
    "This method calculates the correlation matrix for all columns.\n",
    "<br/>\n",
    "search about different values for 'method' parameter in df.corr and use them."
   ]
  },
  {
   "cell_type": "code",
   "execution_count": 34,
   "metadata": {},
   "outputs": [
    {
     "name": "stdout",
     "output_type": "stream",
     "text": [
      "Pearson Correlation:\n",
      "                           ID  Calories Burn  Dream Weight  Actual Weight  \\\n",
      "ID                  1.000000      -0.017108     -0.001532      -0.001108   \n",
      "Calories Burn      -0.017108       1.000000      0.012749       0.010444   \n",
      "Dream Weight       -0.001532       0.012749      1.000000       0.981377   \n",
      "Actual Weight      -0.001108       0.010444      0.981377       1.000000   \n",
      "Age                 0.009428      -0.001113      0.006689       0.003368   \n",
      "Duration            0.032130       0.021793      0.016116       0.020490   \n",
      "Heart Rate          0.007062      -0.035889     -0.001855      -0.002543   \n",
      "BMI                 0.003625       0.012602      0.002237      -0.003703   \n",
      "Exercise Intensity -0.004103       0.010819      0.000087      -0.002670   \n",
      "\n",
      "                         Age  Duration  Heart Rate       BMI  \\\n",
      "ID                  0.009428  0.032130    0.007062  0.003625   \n",
      "Calories Burn      -0.001113  0.021793   -0.035889  0.012602   \n",
      "Dream Weight        0.006689  0.016116   -0.001855  0.002237   \n",
      "Actual Weight       0.003368  0.020490   -0.002543 -0.003703   \n",
      "Age                 1.000000 -0.006567   -0.008939 -0.002915   \n",
      "Duration           -0.006567  1.000000    0.014941  0.020203   \n",
      "Heart Rate         -0.008939  0.014941    1.000000  0.015555   \n",
      "BMI                -0.002915  0.020203    0.015555  1.000000   \n",
      "Exercise Intensity  0.005565  0.023195   -0.004510 -0.020881   \n",
      "\n",
      "                    Exercise Intensity  \n",
      "ID                           -0.004103  \n",
      "Calories Burn                 0.010819  \n",
      "Dream Weight                  0.000087  \n",
      "Actual Weight                -0.002670  \n",
      "Age                           0.005565  \n",
      "Duration                      0.023195  \n",
      "Heart Rate                   -0.004510  \n",
      "BMI                          -0.020881  \n",
      "Exercise Intensity            1.000000  \n",
      "Kendall Correlation:\n",
      "                           ID  Calories Burn  Dream Weight  Actual Weight  \\\n",
      "ID                  1.000000      -0.011487     -0.001133      -0.001143   \n",
      "Calories Burn      -0.011487       1.000000      0.007947       0.006680   \n",
      "Dream Weight       -0.001133       0.007947      1.000000       0.875449   \n",
      "Actual Weight      -0.001143       0.006680      0.875449       1.000000   \n",
      "Age                 0.005884      -0.000145      0.004405       0.002358   \n",
      "Duration            0.021634       0.014629      0.010710       0.013658   \n",
      "Heart Rate          0.004484      -0.023931     -0.000659      -0.001105   \n",
      "BMI                 0.002055       0.008455      0.001327      -0.002156   \n",
      "Exercise Intensity -0.002696       0.007602     -0.000115      -0.001949   \n",
      "\n",
      "                         Age  Duration  Heart Rate       BMI  \\\n",
      "ID                  0.005884  0.021634    0.004484  0.002055   \n",
      "Calories Burn      -0.000145  0.014629   -0.023931  0.008455   \n",
      "Dream Weight        0.004405  0.010710   -0.000659  0.001327   \n",
      "Actual Weight       0.002358  0.013658   -0.001105 -0.002156   \n",
      "Age                 1.000000 -0.004234   -0.005997 -0.001844   \n",
      "Duration           -0.004234  1.000000    0.010296  0.013859   \n",
      "Heart Rate         -0.005997  0.010296    1.000000  0.010663   \n",
      "BMI                -0.001844  0.013859    0.010663  1.000000   \n",
      "Exercise Intensity  0.004623  0.016639   -0.003300 -0.014774   \n",
      "\n",
      "                    Exercise Intensity  \n",
      "ID                           -0.002696  \n",
      "Calories Burn                 0.007602  \n",
      "Dream Weight                 -0.000115  \n",
      "Actual Weight                -0.001949  \n",
      "Age                           0.004623  \n",
      "Duration                      0.016639  \n",
      "Heart Rate                   -0.003300  \n",
      "BMI                          -0.014774  \n",
      "Exercise Intensity            1.000000  \n",
      "Spearman Correlation:\n",
      "                           ID  Calories Burn  Dream Weight  Actual Weight  \\\n",
      "ID                  1.000000      -0.017209     -0.001781      -0.001568   \n",
      "Calories Burn      -0.017209       1.000000      0.012212       0.010197   \n",
      "Dream Weight       -0.001781       0.012212      1.000000       0.982181   \n",
      "Actual Weight      -0.001568       0.010197      0.982181       1.000000   \n",
      "Age                 0.008983      -0.000442      0.006468       0.003453   \n",
      "Duration            0.032274       0.021783      0.015873       0.020332   \n",
      "Heart Rate          0.006990      -0.035599     -0.001032      -0.001812   \n",
      "BMI                 0.003146       0.012587      0.001970      -0.003168   \n",
      "Exercise Intensity -0.004004       0.010869      0.000099      -0.002620   \n",
      "\n",
      "                         Age  Duration  Heart Rate       BMI  \\\n",
      "ID                  0.008983  0.032274    0.006990  0.003146   \n",
      "Calories Burn      -0.000442  0.021783   -0.035599  0.012587   \n",
      "Dream Weight        0.006468  0.015873   -0.001032  0.001970   \n",
      "Actual Weight       0.003453  0.020332   -0.001812 -0.003168   \n",
      "Age                 1.000000 -0.006229   -0.008587 -0.002861   \n",
      "Duration           -0.006229  1.000000    0.015226  0.020352   \n",
      "Heart Rate         -0.008587  0.015226    1.000000  0.015756   \n",
      "BMI                -0.002861  0.020352    0.015756  1.000000   \n",
      "Exercise Intensity  0.006412  0.023383   -0.004833 -0.021039   \n",
      "\n",
      "                    Exercise Intensity  \n",
      "ID                           -0.004004  \n",
      "Calories Burn                 0.010869  \n",
      "Dream Weight                  0.000099  \n",
      "Actual Weight                -0.002620  \n",
      "Age                           0.006412  \n",
      "Duration                      0.023383  \n",
      "Heart Rate                   -0.004833  \n",
      "BMI                          -0.021039  \n",
      "Exercise Intensity            1.000000  \n"
     ]
    },
    {
     "name": "stderr",
     "output_type": "stream",
     "text": [
      "C:\\Users\\USER\\AppData\\Local\\Temp\\ipykernel_17520\\3657009.py:2: FutureWarning: The default value of numeric_only in DataFrame.corr is deprecated. In a future version, it will default to False. Select only valid columns or specify the value of numeric_only to silence this warning.\n",
      "  print(\"Pearson Correlation:\\n\", df.corr(method='pearson'))\n",
      "C:\\Users\\USER\\AppData\\Local\\Temp\\ipykernel_17520\\3657009.py:5: FutureWarning: The default value of numeric_only in DataFrame.corr is deprecated. In a future version, it will default to False. Select only valid columns or specify the value of numeric_only to silence this warning.\n",
      "  print(\"Kendall Correlation:\\n\", df.corr(method='kendall'))\n",
      "C:\\Users\\USER\\AppData\\Local\\Temp\\ipykernel_17520\\3657009.py:8: FutureWarning: The default value of numeric_only in DataFrame.corr is deprecated. In a future version, it will default to False. Select only valid columns or specify the value of numeric_only to silence this warning.\n",
      "  print(\"Spearman Correlation:\\n\", df.corr(method='spearman'))\n"
     ]
    }
   ],
   "source": [
    "# Pearson correlation\n",
    "print(\"Pearson Correlation:\\n\", df.corr(method='pearson'))\n",
    "\n",
    "# Kendall correlation\n",
    "print(\"Kendall Correlation:\\n\", df.corr(method='kendall'))\n",
    "\n",
    "# Spearman correlation\n",
    "print(\"Spearman Correlation:\\n\", df.corr(method='spearman'))"
   ]
  },
  {
   "cell_type": "markdown",
   "metadata": {},
   "source": [
    "Oops!\n",
    "<br/>\n",
    "As you can see we can not use correlation matrix for categorical columns.\n",
    "<br/>\n",
    "We can use it just for numerical columns.\n",
    "<br/>\n",
    "df.drop() is used for removing a column/row from the dataframe.\n",
    "<br/>\n",
    "search about:\n",
    "* What is axis parameter,\n",
    "* How to drop multiple columns from the dataframe,\n",
    "* What is inplace parameter.\n",
    "<br/>\n",
    "\n",
    "try again "
   ]
  },
  {
   "cell_type": "code",
   "execution_count": 35,
   "metadata": {},
   "outputs": [
    {
     "name": "stdout",
     "output_type": "stream",
     "text": [
      "Numerical Dataframe:\n",
      "    ID  Calories Burn  Dream Weight  Actual Weight  Age  Duration  Heart Rate  \\\n",
      "0   1     286.959851     91.892531      96.301115   45        37         170   \n",
      "1   2     343.453036     64.165097      61.104668   25        43         142   \n",
      "2   3     261.223465     70.846224      71.766724   20        20         148   \n",
      "3   4     127.183858     79.477008      82.984456   33        39         170   \n",
      "4   5     416.318374     89.960226      85.643174   29        34         118   \n",
      "\n",
      "         BMI  Exercise Intensity  \n",
      "0  29.426275                   5  \n",
      "1  21.286346                   5  \n",
      "2  27.899592                   4  \n",
      "3  33.729552                  10  \n",
      "4  23.286113                   3  \n"
     ]
    }
   ],
   "source": [
    "# Replace 'Category1' and 'Category2' with the actual categorical column names in your data\n",
    "df.drop(['Exercise', 'Gender', 'Weather Conditions'], axis=1, inplace=True)\n",
    "\n",
    "# Verify that the dataframe only has numerical columns left\n",
    "print(\"Numerical Dataframe:\\n\", df.head())"
   ]
  },
  {
   "cell_type": "code",
   "execution_count": 36,
   "metadata": {},
   "outputs": [
    {
     "name": "stdout",
     "output_type": "stream",
     "text": [
      "Pearson Correlation:\n",
      "                           ID  Calories Burn  Dream Weight  Actual Weight  \\\n",
      "ID                  1.000000      -0.017108     -0.001532      -0.001108   \n",
      "Calories Burn      -0.017108       1.000000      0.012749       0.010444   \n",
      "Dream Weight       -0.001532       0.012749      1.000000       0.981377   \n",
      "Actual Weight      -0.001108       0.010444      0.981377       1.000000   \n",
      "Age                 0.009428      -0.001113      0.006689       0.003368   \n",
      "Duration            0.032130       0.021793      0.016116       0.020490   \n",
      "Heart Rate          0.007062      -0.035889     -0.001855      -0.002543   \n",
      "BMI                 0.003625       0.012602      0.002237      -0.003703   \n",
      "Exercise Intensity -0.004103       0.010819      0.000087      -0.002670   \n",
      "\n",
      "                         Age  Duration  Heart Rate       BMI  \\\n",
      "ID                  0.009428  0.032130    0.007062  0.003625   \n",
      "Calories Burn      -0.001113  0.021793   -0.035889  0.012602   \n",
      "Dream Weight        0.006689  0.016116   -0.001855  0.002237   \n",
      "Actual Weight       0.003368  0.020490   -0.002543 -0.003703   \n",
      "Age                 1.000000 -0.006567   -0.008939 -0.002915   \n",
      "Duration           -0.006567  1.000000    0.014941  0.020203   \n",
      "Heart Rate         -0.008939  0.014941    1.000000  0.015555   \n",
      "BMI                -0.002915  0.020203    0.015555  1.000000   \n",
      "Exercise Intensity  0.005565  0.023195   -0.004510 -0.020881   \n",
      "\n",
      "                    Exercise Intensity  \n",
      "ID                           -0.004103  \n",
      "Calories Burn                 0.010819  \n",
      "Dream Weight                  0.000087  \n",
      "Actual Weight                -0.002670  \n",
      "Age                           0.005565  \n",
      "Duration                      0.023195  \n",
      "Heart Rate                   -0.004510  \n",
      "BMI                          -0.020881  \n",
      "Exercise Intensity            1.000000  \n",
      "Kendall Correlation:\n",
      "                           ID  Calories Burn  Dream Weight  Actual Weight  \\\n",
      "ID                  1.000000      -0.011487     -0.001133      -0.001143   \n",
      "Calories Burn      -0.011487       1.000000      0.007947       0.006680   \n",
      "Dream Weight       -0.001133       0.007947      1.000000       0.875449   \n",
      "Actual Weight      -0.001143       0.006680      0.875449       1.000000   \n",
      "Age                 0.005884      -0.000145      0.004405       0.002358   \n",
      "Duration            0.021634       0.014629      0.010710       0.013658   \n",
      "Heart Rate          0.004484      -0.023931     -0.000659      -0.001105   \n",
      "BMI                 0.002055       0.008455      0.001327      -0.002156   \n",
      "Exercise Intensity -0.002696       0.007602     -0.000115      -0.001949   \n",
      "\n",
      "                         Age  Duration  Heart Rate       BMI  \\\n",
      "ID                  0.005884  0.021634    0.004484  0.002055   \n",
      "Calories Burn      -0.000145  0.014629   -0.023931  0.008455   \n",
      "Dream Weight        0.004405  0.010710   -0.000659  0.001327   \n",
      "Actual Weight       0.002358  0.013658   -0.001105 -0.002156   \n",
      "Age                 1.000000 -0.004234   -0.005997 -0.001844   \n",
      "Duration           -0.004234  1.000000    0.010296  0.013859   \n",
      "Heart Rate         -0.005997  0.010296    1.000000  0.010663   \n",
      "BMI                -0.001844  0.013859    0.010663  1.000000   \n",
      "Exercise Intensity  0.004623  0.016639   -0.003300 -0.014774   \n",
      "\n",
      "                    Exercise Intensity  \n",
      "ID                           -0.002696  \n",
      "Calories Burn                 0.007602  \n",
      "Dream Weight                 -0.000115  \n",
      "Actual Weight                -0.001949  \n",
      "Age                           0.004623  \n",
      "Duration                      0.016639  \n",
      "Heart Rate                   -0.003300  \n",
      "BMI                          -0.014774  \n",
      "Exercise Intensity            1.000000  \n",
      "Spearman Correlation:\n",
      "                           ID  Calories Burn  Dream Weight  Actual Weight  \\\n",
      "ID                  1.000000      -0.017209     -0.001781      -0.001568   \n",
      "Calories Burn      -0.017209       1.000000      0.012212       0.010197   \n",
      "Dream Weight       -0.001781       0.012212      1.000000       0.982181   \n",
      "Actual Weight      -0.001568       0.010197      0.982181       1.000000   \n",
      "Age                 0.008983      -0.000442      0.006468       0.003453   \n",
      "Duration            0.032274       0.021783      0.015873       0.020332   \n",
      "Heart Rate          0.006990      -0.035599     -0.001032      -0.001812   \n",
      "BMI                 0.003146       0.012587      0.001970      -0.003168   \n",
      "Exercise Intensity -0.004004       0.010869      0.000099      -0.002620   \n",
      "\n",
      "                         Age  Duration  Heart Rate       BMI  \\\n",
      "ID                  0.008983  0.032274    0.006990  0.003146   \n",
      "Calories Burn      -0.000442  0.021783   -0.035599  0.012587   \n",
      "Dream Weight        0.006468  0.015873   -0.001032  0.001970   \n",
      "Actual Weight       0.003453  0.020332   -0.001812 -0.003168   \n",
      "Age                 1.000000 -0.006229   -0.008587 -0.002861   \n",
      "Duration           -0.006229  1.000000    0.015226  0.020352   \n",
      "Heart Rate         -0.008587  0.015226    1.000000  0.015756   \n",
      "BMI                -0.002861  0.020352    0.015756  1.000000   \n",
      "Exercise Intensity  0.006412  0.023383   -0.004833 -0.021039   \n",
      "\n",
      "                    Exercise Intensity  \n",
      "ID                           -0.004004  \n",
      "Calories Burn                 0.010869  \n",
      "Dream Weight                  0.000099  \n",
      "Actual Weight                -0.002620  \n",
      "Age                           0.006412  \n",
      "Duration                      0.023383  \n",
      "Heart Rate                   -0.004833  \n",
      "BMI                          -0.021039  \n",
      "Exercise Intensity            1.000000  \n"
     ]
    }
   ],
   "source": [
    "# Pearson correlation\n",
    "print(\"Pearson Correlation:\\n\", df.corr(method='pearson'))\n",
    "\n",
    "# Kendall correlation\n",
    "print(\"Kendall Correlation:\\n\", df.corr(method='kendall'))\n",
    "\n",
    "# Spearman correlation\n",
    "print(\"Spearman Correlation:\\n\", df.corr(method='spearman'))"
   ]
  },
  {
   "cell_type": "markdown",
   "metadata": {},
   "source": [
    "### Thanks!"
   ]
  }
 ],
 "metadata": {
  "kernelspec": {
   "display_name": "Python 3",
   "language": "python",
   "name": "python3"
  },
  "language_info": {
   "codemirror_mode": {
    "name": "ipython",
    "version": 3
   },
   "file_extension": ".py",
   "mimetype": "text/x-python",
   "name": "python",
   "nbconvert_exporter": "python",
   "pygments_lexer": "ipython3",
   "version": "3.11.0"
  }
 },
 "nbformat": 4,
 "nbformat_minor": 2
}
