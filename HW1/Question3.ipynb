{
 "cells": [
  {
   "cell_type": "markdown",
   "metadata": {},
   "source": [
    "### Import Libraries"
   ]
  },
  {
   "cell_type": "code",
   "execution_count": 1,
   "metadata": {},
   "outputs": [],
   "source": [
    "import pandas as pd\n",
    "import numpy as np\n",
    "from sklearn.metrics.pairwise import cosine_similarity\n",
    "from scipy.spatial.distance import correlation\n",
    "import random\n",
    "import matplotlib.pyplot as plt\n",
    "import seaborn as sns"
   ]
  },
  {
   "cell_type": "markdown",
   "metadata": {},
   "source": [
    "### Load Data"
   ]
  },
  {
   "cell_type": "code",
   "execution_count": 2,
   "metadata": {},
   "outputs": [
    {
     "data": {
      "text/html": [
       "<div>\n",
       "<style scoped>\n",
       "    .dataframe tbody tr th:only-of-type {\n",
       "        vertical-align: middle;\n",
       "    }\n",
       "\n",
       "    .dataframe tbody tr th {\n",
       "        vertical-align: top;\n",
       "    }\n",
       "\n",
       "    .dataframe thead th {\n",
       "        text-align: right;\n",
       "    }\n",
       "</style>\n",
       "<table border=\"1\" class=\"dataframe\">\n",
       "  <thead>\n",
       "    <tr style=\"text-align: right;\">\n",
       "      <th></th>\n",
       "      <th>User-ID</th>\n",
       "      <th>ISBN</th>\n",
       "      <th>Book-Rating</th>\n",
       "    </tr>\n",
       "  </thead>\n",
       "  <tbody>\n",
       "    <tr>\n",
       "      <th>0</th>\n",
       "      <td>276725</td>\n",
       "      <td>034545104X</td>\n",
       "      <td>0</td>\n",
       "    </tr>\n",
       "    <tr>\n",
       "      <th>1</th>\n",
       "      <td>276726</td>\n",
       "      <td>0155061224</td>\n",
       "      <td>5</td>\n",
       "    </tr>\n",
       "    <tr>\n",
       "      <th>2</th>\n",
       "      <td>276727</td>\n",
       "      <td>0446520802</td>\n",
       "      <td>0</td>\n",
       "    </tr>\n",
       "    <tr>\n",
       "      <th>3</th>\n",
       "      <td>276729</td>\n",
       "      <td>052165615X</td>\n",
       "      <td>3</td>\n",
       "    </tr>\n",
       "    <tr>\n",
       "      <th>4</th>\n",
       "      <td>276729</td>\n",
       "      <td>0521795028</td>\n",
       "      <td>6</td>\n",
       "    </tr>\n",
       "  </tbody>\n",
       "</table>\n",
       "</div>"
      ],
      "text/plain": [
       "   User-ID        ISBN  Book-Rating\n",
       "0   276725  034545104X            0\n",
       "1   276726  0155061224            5\n",
       "2   276727  0446520802            0\n",
       "3   276729  052165615X            3\n",
       "4   276729  0521795028            6"
      ]
     },
     "execution_count": 2,
     "metadata": {},
     "output_type": "execute_result"
    }
   ],
   "source": [
    "# Load the dataset\n",
    "df = pd.read_csv('book_ratings.csv', encoding='ISO-8859-1', sep=';')\n",
    "df.head()"
   ]
  },
  {
   "cell_type": "markdown",
   "metadata": {},
   "source": [
    "#### Because of the large size of dataset, i take a smaller subset of the data."
   ]
  },
  {
   "cell_type": "code",
   "execution_count": 3,
   "metadata": {},
   "outputs": [
    {
     "name": "stdout",
     "output_type": "stream",
     "text": [
      "\n",
      "Dataset shape: (57489, 3)\n"
     ]
    },
    {
     "data": {
      "text/html": [
       "<div>\n",
       "<style scoped>\n",
       "    .dataframe tbody tr th:only-of-type {\n",
       "        vertical-align: middle;\n",
       "    }\n",
       "\n",
       "    .dataframe tbody tr th {\n",
       "        vertical-align: top;\n",
       "    }\n",
       "\n",
       "    .dataframe thead th {\n",
       "        text-align: right;\n",
       "    }\n",
       "</style>\n",
       "<table border=\"1\" class=\"dataframe\">\n",
       "  <thead>\n",
       "    <tr style=\"text-align: right;\">\n",
       "      <th></th>\n",
       "      <th>User-ID</th>\n",
       "      <th>ISBN</th>\n",
       "      <th>Book-Rating</th>\n",
       "    </tr>\n",
       "  </thead>\n",
       "  <tbody>\n",
       "    <tr>\n",
       "      <th>323188</th>\n",
       "      <td>76798</td>\n",
       "      <td>2070213951</td>\n",
       "      <td>0</td>\n",
       "    </tr>\n",
       "    <tr>\n",
       "      <th>97807</th>\n",
       "      <td>22281</td>\n",
       "      <td>8401461170</td>\n",
       "      <td>10</td>\n",
       "    </tr>\n",
       "    <tr>\n",
       "      <th>1044825</th>\n",
       "      <td>249939</td>\n",
       "      <td>0441003745</td>\n",
       "      <td>8</td>\n",
       "    </tr>\n",
       "    <tr>\n",
       "      <th>475573</th>\n",
       "      <td>113904</td>\n",
       "      <td>0670815616</td>\n",
       "      <td>0</td>\n",
       "    </tr>\n",
       "    <tr>\n",
       "      <th>799887</th>\n",
       "      <td>194151</td>\n",
       "      <td>0399144315</td>\n",
       "      <td>7</td>\n",
       "    </tr>\n",
       "  </tbody>\n",
       "</table>\n",
       "</div>"
      ],
      "text/plain": [
       "         User-ID        ISBN  Book-Rating\n",
       "323188     76798  2070213951            0\n",
       "97807      22281  8401461170           10\n",
       "1044825   249939  0441003745            8\n",
       "475573    113904  0670815616            0\n",
       "799887    194151  0399144315            7"
      ]
     },
     "execution_count": 3,
     "metadata": {},
     "output_type": "execute_result"
    }
   ],
   "source": [
    "df_sample = df.sample(frac=0.05, random_state=1)  # Take a random 5% sample\n",
    "print(\"\\nDataset shape:\", df_sample.shape)\n",
    "df_sample.head()"
   ]
  },
  {
   "cell_type": "markdown",
   "metadata": {},
   "source": [
    "### Create a Rating Matrix (Scoring Matrix)\n",
    "Transform the data into a user-item matrix, where rows represent users and columns represent books."
   ]
  },
  {
   "cell_type": "code",
   "execution_count": 4,
   "metadata": {},
   "outputs": [
    {
     "data": {
      "text/html": [
       "<div>\n",
       "<style scoped>\n",
       "    .dataframe tbody tr th:only-of-type {\n",
       "        vertical-align: middle;\n",
       "    }\n",
       "\n",
       "    .dataframe tbody tr th {\n",
       "        vertical-align: top;\n",
       "    }\n",
       "\n",
       "    .dataframe thead th {\n",
       "        text-align: right;\n",
       "    }\n",
       "</style>\n",
       "<table border=\"1\" class=\"dataframe\">\n",
       "  <thead>\n",
       "    <tr style=\"text-align: right;\">\n",
       "      <th>ISBN</th>\n",
       "      <th>0586045007</th>\n",
       "      <th>0 7322 6794 3</th>\n",
       "      <th>00000000</th>\n",
       "      <th>000000000000</th>\n",
       "      <th>0000000008573</th>\n",
       "      <th>0000014427</th>\n",
       "      <th>0000018030</th>\n",
       "      <th>000060193395</th>\n",
       "      <th>0001046624</th>\n",
       "      <th>0001372564</th>\n",
       "      <th>...</th>\n",
       "      <th>O67697O753</th>\n",
       "      <th>O770109853</th>\n",
       "      <th>O878391045</th>\n",
       "      <th>Q912838027</th>\n",
       "      <th>SBN425037452</th>\n",
       "      <th>SELBSTVERLAG</th>\n",
       "      <th>TERESA155</th>\n",
       "      <th>XXXXXXXXXX</th>\n",
       "      <th>\\8887517452\\\"\"</th>\n",
       "      <th>\\8888809228\\\"\"</th>\n",
       "    </tr>\n",
       "    <tr>\n",
       "      <th>User-ID</th>\n",
       "      <th></th>\n",
       "      <th></th>\n",
       "      <th></th>\n",
       "      <th></th>\n",
       "      <th></th>\n",
       "      <th></th>\n",
       "      <th></th>\n",
       "      <th></th>\n",
       "      <th></th>\n",
       "      <th></th>\n",
       "      <th></th>\n",
       "      <th></th>\n",
       "      <th></th>\n",
       "      <th></th>\n",
       "      <th></th>\n",
       "      <th></th>\n",
       "      <th></th>\n",
       "      <th></th>\n",
       "      <th></th>\n",
       "      <th></th>\n",
       "      <th></th>\n",
       "    </tr>\n",
       "  </thead>\n",
       "  <tbody>\n",
       "    <tr>\n",
       "      <th>8</th>\n",
       "      <td>0.000000</td>\n",
       "      <td>0.000000</td>\n",
       "      <td>0.000000</td>\n",
       "      <td>0.000000</td>\n",
       "      <td>0.000000</td>\n",
       "      <td>0.000000</td>\n",
       "      <td>0.000000</td>\n",
       "      <td>0.000000</td>\n",
       "      <td>0.000000</td>\n",
       "      <td>0.000000</td>\n",
       "      <td>...</td>\n",
       "      <td>0.000000</td>\n",
       "      <td>0.000000</td>\n",
       "      <td>0.000000</td>\n",
       "      <td>0.000000</td>\n",
       "      <td>0.000000</td>\n",
       "      <td>0.000000</td>\n",
       "      <td>0.000000</td>\n",
       "      <td>0.000000</td>\n",
       "      <td>0.000000</td>\n",
       "      <td>0.000000</td>\n",
       "    </tr>\n",
       "    <tr>\n",
       "      <th>75</th>\n",
       "      <td>5.000000</td>\n",
       "      <td>5.000000</td>\n",
       "      <td>5.000000</td>\n",
       "      <td>5.000000</td>\n",
       "      <td>5.000000</td>\n",
       "      <td>5.000000</td>\n",
       "      <td>5.000000</td>\n",
       "      <td>5.000000</td>\n",
       "      <td>5.000000</td>\n",
       "      <td>5.000000</td>\n",
       "      <td>...</td>\n",
       "      <td>5.000000</td>\n",
       "      <td>5.000000</td>\n",
       "      <td>5.000000</td>\n",
       "      <td>5.000000</td>\n",
       "      <td>5.000000</td>\n",
       "      <td>5.000000</td>\n",
       "      <td>5.000000</td>\n",
       "      <td>5.000000</td>\n",
       "      <td>5.000000</td>\n",
       "      <td>5.000000</td>\n",
       "    </tr>\n",
       "    <tr>\n",
       "      <th>83</th>\n",
       "      <td>7.000000</td>\n",
       "      <td>7.000000</td>\n",
       "      <td>7.000000</td>\n",
       "      <td>7.000000</td>\n",
       "      <td>7.000000</td>\n",
       "      <td>7.000000</td>\n",
       "      <td>7.000000</td>\n",
       "      <td>7.000000</td>\n",
       "      <td>7.000000</td>\n",
       "      <td>7.000000</td>\n",
       "      <td>...</td>\n",
       "      <td>7.000000</td>\n",
       "      <td>7.000000</td>\n",
       "      <td>7.000000</td>\n",
       "      <td>7.000000</td>\n",
       "      <td>7.000000</td>\n",
       "      <td>7.000000</td>\n",
       "      <td>7.000000</td>\n",
       "      <td>7.000000</td>\n",
       "      <td>7.000000</td>\n",
       "      <td>7.000000</td>\n",
       "    </tr>\n",
       "    <tr>\n",
       "      <th>139</th>\n",
       "      <td>0.000000</td>\n",
       "      <td>0.000000</td>\n",
       "      <td>0.000000</td>\n",
       "      <td>0.000000</td>\n",
       "      <td>0.000000</td>\n",
       "      <td>0.000000</td>\n",
       "      <td>0.000000</td>\n",
       "      <td>0.000000</td>\n",
       "      <td>0.000000</td>\n",
       "      <td>0.000000</td>\n",
       "      <td>...</td>\n",
       "      <td>0.000000</td>\n",
       "      <td>0.000000</td>\n",
       "      <td>0.000000</td>\n",
       "      <td>0.000000</td>\n",
       "      <td>0.000000</td>\n",
       "      <td>0.000000</td>\n",
       "      <td>0.000000</td>\n",
       "      <td>0.000000</td>\n",
       "      <td>0.000000</td>\n",
       "      <td>0.000000</td>\n",
       "    </tr>\n",
       "    <tr>\n",
       "      <th>183</th>\n",
       "      <td>7.666667</td>\n",
       "      <td>7.666667</td>\n",
       "      <td>7.666667</td>\n",
       "      <td>7.666667</td>\n",
       "      <td>7.666667</td>\n",
       "      <td>7.666667</td>\n",
       "      <td>7.666667</td>\n",
       "      <td>7.666667</td>\n",
       "      <td>7.666667</td>\n",
       "      <td>7.666667</td>\n",
       "      <td>...</td>\n",
       "      <td>7.666667</td>\n",
       "      <td>7.666667</td>\n",
       "      <td>7.666667</td>\n",
       "      <td>7.666667</td>\n",
       "      <td>7.666667</td>\n",
       "      <td>7.666667</td>\n",
       "      <td>7.666667</td>\n",
       "      <td>7.666667</td>\n",
       "      <td>7.666667</td>\n",
       "      <td>7.666667</td>\n",
       "    </tr>\n",
       "  </tbody>\n",
       "</table>\n",
       "<p>5 rows × 40582 columns</p>\n",
       "</div>"
      ],
      "text/plain": [
       "ISBN      0586045007  0 7322 6794 3  00000000  000000000000  0000000008573  \\\n",
       "User-ID                                                                      \n",
       "8           0.000000       0.000000  0.000000      0.000000       0.000000   \n",
       "75          5.000000       5.000000  5.000000      5.000000       5.000000   \n",
       "83          7.000000       7.000000  7.000000      7.000000       7.000000   \n",
       "139         0.000000       0.000000  0.000000      0.000000       0.000000   \n",
       "183         7.666667       7.666667  7.666667      7.666667       7.666667   \n",
       "\n",
       "ISBN     0000014427  0000018030  000060193395  0001046624  0001372564  ...  \\\n",
       "User-ID                                                                ...   \n",
       "8          0.000000    0.000000      0.000000    0.000000    0.000000  ...   \n",
       "75         5.000000    5.000000      5.000000    5.000000    5.000000  ...   \n",
       "83         7.000000    7.000000      7.000000    7.000000    7.000000  ...   \n",
       "139        0.000000    0.000000      0.000000    0.000000    0.000000  ...   \n",
       "183        7.666667    7.666667      7.666667    7.666667    7.666667  ...   \n",
       "\n",
       "ISBN     O67697O753  O770109853  O878391045  Q912838027  SBN425037452  \\\n",
       "User-ID                                                                 \n",
       "8          0.000000    0.000000    0.000000    0.000000      0.000000   \n",
       "75         5.000000    5.000000    5.000000    5.000000      5.000000   \n",
       "83         7.000000    7.000000    7.000000    7.000000      7.000000   \n",
       "139        0.000000    0.000000    0.000000    0.000000      0.000000   \n",
       "183        7.666667    7.666667    7.666667    7.666667      7.666667   \n",
       "\n",
       "ISBN     SELBSTVERLAG  TERESA155  XXXXXXXXXX  \\8887517452\\\"\"  \\8888809228\\\"\"  \n",
       "User-ID                                                                       \n",
       "8            0.000000   0.000000    0.000000        0.000000        0.000000  \n",
       "75           5.000000   5.000000    5.000000        5.000000        5.000000  \n",
       "83           7.000000   7.000000    7.000000        7.000000        7.000000  \n",
       "139          0.000000   0.000000    0.000000        0.000000        0.000000  \n",
       "183          7.666667   7.666667    7.666667        7.666667        7.666667  \n",
       "\n",
       "[5 rows x 40582 columns]"
      ]
     },
     "execution_count": 4,
     "metadata": {},
     "output_type": "execute_result"
    }
   ],
   "source": [
    "# Create a pivot table with users as rows, books as columns, and ratings as values\n",
    "rating_matrix = df_sample.pivot(index='User-ID', columns='ISBN', values='Book-Rating')\n",
    "# Fill NaN values with average of ratings\n",
    "rating_matrix_filled = rating_matrix.apply(lambda row: row.fillna(row.mean()), axis=1)\n",
    "rating_matrix_filled.head()"
   ]
  },
  {
   "cell_type": "markdown",
   "metadata": {},
   "source": [
    "### Analyze the Dataset"
   ]
  },
  {
   "cell_type": "code",
   "execution_count": 5,
   "metadata": {},
   "outputs": [
    {
     "data": {
      "text/plain": [
       "User-ID         int64\n",
       "ISBN           object\n",
       "Book-Rating     int64\n",
       "dtype: object"
      ]
     },
     "execution_count": 5,
     "metadata": {},
     "output_type": "execute_result"
    }
   ],
   "source": [
    "df_sample.dtypes"
   ]
  },
  {
   "cell_type": "code",
   "execution_count": 6,
   "metadata": {},
   "outputs": [
    {
     "name": "stdout",
     "output_type": "stream",
     "text": [
      "Number of users: 17757\n",
      "Number of books: 40582\n",
      "Rating distribution:\n",
      "0     35937\n",
      "8      5228\n",
      "10     3893\n",
      "7      3850\n",
      "9      3313\n",
      "5      2491\n",
      "6      1832\n",
      "4       440\n",
      "3       281\n",
      "2       143\n",
      "1        81\n",
      "Name: Book-Rating, dtype: int64\n"
     ]
    },
    {
     "name": "stderr",
     "output_type": "stream",
     "text": [
      "C:\\Users\\USER\\AppData\\Local\\Temp\\ipykernel_8660\\2199334521.py:14: FutureWarning: \n",
      "\n",
      "Passing `palette` without assigning `hue` is deprecated and will be removed in v0.14.0. Assign the `x` variable to `hue` and set `legend=False` for the same effect.\n",
      "\n",
      "  sns.countplot(data=df_sample, x='Book-Rating', palette=\"viridis\")\n"
     ]
    },
    {
     "data": {
      "image/png": "[encoded data removed]",
      "text/plain": [
       "<Figure size 1000x600 with 1 Axes>"
      ]
     },
     "metadata": {},
     "output_type": "display_data"
    }
   ],
   "source": [
    "# Number of unique users and books\n",
    "num_users = df_sample['User-ID'].nunique()\n",
    "num_books = df_sample['ISBN'].nunique()\n",
    "print(f'Number of users: {num_users}')\n",
    "print(f'Number of books: {num_books}')\n",
    "\n",
    "# Rating distribution\n",
    "rating_counts = df_sample['Book-Rating'].value_counts()\n",
    "print('Rating distribution:')\n",
    "print(rating_counts)\n",
    "\n",
    "# Plot the rating distribution\n",
    "plt.figure(figsize=(10, 6))\n",
    "sns.countplot(data=df_sample, x='Book-Rating', palette=\"viridis\")\n",
    "plt.title('Distribution of Book Ratings')\n",
    "plt.xlabel('Rating')\n",
    "plt.ylabel('Count')\n",
    "plt.show()"
   ]
  },
  {
   "cell_type": "markdown",
   "metadata": {},
   "source": [
    "### Calculate Similarity between Users by Pearson Correlation\n",
    "It was successful bc the runtime was over an hour so i used cosine similiraity!"
   ]
  },
  {
   "cell_type": "code",
   "execution_count": 7,
   "metadata": {},
   "outputs": [],
   "source": [
    "# Calculate Pearson correlation between users\n",
    "# cor_user_similarity = rating_matrix_filled.T.corr(method='pearson')\n",
    "# core_user_similarity_df = pd.DataFrame(cor_user_similarity, index=rating_matrix_filled.index, columns=rating_matrix_filled.index)"
   ]
  },
  {
   "cell_type": "markdown",
   "metadata": {},
   "source": [
    "### Calculate Similarity between Users by Cosine Similarity"
   ]
  },
  {
   "cell_type": "code",
   "execution_count": 8,
   "metadata": {},
   "outputs": [],
   "source": [
    "# Calculate cosine similarity between users\n",
    "user_similarity = cosine_similarity(rating_matrix_filled)\n",
    "user_similarity_df = pd.DataFrame(user_similarity, index=rating_matrix_filled.index, columns=rating_matrix_filled.index)"
   ]
  },
  {
   "cell_type": "code",
   "execution_count": 27,
   "metadata": {},
   "outputs": [],
   "source": [
    "def recommend_books(user_id, rating_matrix, user_similarity_df, n_recommendations=5):\n",
    "    # Get the similarity scores for the given user with all other users\n",
    "    user_similarities = user_similarity_df[user_id]\n",
    "    \n",
    "    # Get ratings of similar users\n",
    "    similar_user_ratings = rating_matrix.mul(user_similarities, axis=0)\n",
    "    \n",
    "    # Sum the weighted ratings and normalize by the sum of similarities\n",
    "    weighted_scores = similar_user_ratings.sum(axis=0) / (user_similarities.sum() + 1e-8)\n",
    "    \n",
    "    # Filter out books the user has already rated\n",
    "    rated_books = rating_matrix.loc[user_id][rating_matrix.loc[user_id] > 0].index\n",
    "    recommendations = weighted_scores.drop(index=rated_books).nlargest(n_recommendations)\n",
    "    \n",
    "    return recommendations.index.tolist()"
   ]
  },
  {
   "cell_type": "code",
   "execution_count": 28,
   "metadata": {},
   "outputs": [
    {
     "name": "stdout",
     "output_type": "stream",
     "text": [
      "Testing recommendations for Random User ID: 67840\n",
      "Recommended books for User 67840: ['0446611778', '0451179803', '0060217863', '0689835825', '0836280660']\n"
     ]
    }
   ],
   "source": [
    "# Choose a random user ID from the sample data\n",
    "random_user_id = df_sample['User-ID'].iloc[random.randint(0, rating_matrix.shape[0])]\n",
    "print(f\"Testing recommendations for Random User ID: {random_user_id}\")\n",
    "\n",
    "# Get recommended books for the randomly selected user\n",
    "recommended_books = recommend_books(random_user_id, rating_matrix_filled, user_similarity_df)\n",
    "print(f\"Recommended books for User {random_user_id}: {recommended_books}\")\n"
   ]
  }
 ],
 "metadata": {
  "kernelspec": {
   "display_name": "Python 3",
   "language": "python",
   "name": "python3"
  },
  "language_info": {
   "codemirror_mode": {
    "name": "ipython",
    "version": 3
   },
   "file_extension": ".py",
   "mimetype": "text/x-python",
   "name": "python",
   "nbconvert_exporter": "python",
   "pygments_lexer": "ipython3",
   "version": "3.11.0"
  }
 },
 "nbformat": 4,
 "nbformat_minor": 2
}
