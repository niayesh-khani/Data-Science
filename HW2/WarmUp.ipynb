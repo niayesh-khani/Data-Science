{
 "cells": [
  {
   "cell_type": "markdown",
   "metadata": {
    "id": "MeOPBMMQZObd"
   },
   "source": [
    "# Numpy\n"
   ]
  },
  {
   "cell_type": "markdown",
   "metadata": {
    "id": "H64uE4GfbHTa"
   },
   "source": [
    "### 1. Please import Numpy\n"
   ]
  },
  {
   "cell_type": "code",
   "execution_count": 1,
   "metadata": {
    "id": "R4QE7Cu8bLHw"
   },
   "outputs": [],
   "source": [
    "import numpy as np"
   ]
  },
  {
   "cell_type": "markdown",
   "metadata": {
    "id": "FVsWYR9oZSRS"
   },
   "source": [
    "### 2. Create an array of 10 zeros\n"
   ]
  },
  {
   "cell_type": "code",
   "execution_count": 4,
   "metadata": {
    "colab": {
     "base_uri": "https://localhost:8080/"
    },
    "id": "W_hfC513ZQlC",
    "outputId": "a2b6ec75-93c5-4601-9c88-babe40ffb4e8"
   },
   "outputs": [
    {
     "data": {
      "text/plain": [
       "array([0., 0., 0., 0., 0., 0., 0., 0., 0., 0.])"
      ]
     },
     "execution_count": 4,
     "metadata": {},
     "output_type": "execute_result"
    }
   ],
   "source": [
    "zeros_array = np.zeros(10)\n",
    "zeros_array"
   ]
  },
  {
   "cell_type": "markdown",
   "metadata": {
    "id": "kAty0Vr4bZrm"
   },
   "source": [
    "### 3. Create an array of even numbers between 12 and 52\n"
   ]
  },
  {
   "cell_type": "code",
   "execution_count": 5,
   "metadata": {
    "colab": {
     "base_uri": "https://localhost:8080/"
    },
    "id": "7IbnmkIIZN5p",
    "outputId": "93d6b4c2-5a1b-4d95-cb95-ac5c2a2ffd8e"
   },
   "outputs": [
    {
     "data": {
      "text/plain": [
       "array([12, 14, 16, 18, 20, 22, 24, 26, 28, 30, 32, 34, 36, 38, 40, 42, 44,\n",
       "       46, 48, 50, 52])"
      ]
     },
     "execution_count": 5,
     "metadata": {},
     "output_type": "execute_result"
    }
   ],
   "source": [
    "even_numbers = np.arange(12, 53, 2)\n",
    "even_numbers"
   ]
  },
  {
   "cell_type": "markdown",
   "metadata": {
    "id": "yXVZ34wXbiMD"
   },
   "source": [
    "### 4. Create a 3x3 matrix with values from 5 to 13\n"
   ]
  },
  {
   "cell_type": "code",
   "execution_count": 6,
   "metadata": {
    "colab": {
     "base_uri": "https://localhost:8080/"
    },
    "id": "WzYQaFlGZGxx",
    "outputId": "08a217fc-ce6a-4ac9-ca06-33f7da52ca58"
   },
   "outputs": [
    {
     "data": {
      "text/plain": [
       "array([[ 5,  6,  7],\n",
       "       [ 8,  9, 10],\n",
       "       [11, 12, 13]])"
      ]
     },
     "execution_count": 6,
     "metadata": {},
     "output_type": "execute_result"
    }
   ],
   "source": [
    "matrix_3x3 = np.arange(5, 14).reshape(3, 3)\n",
    "matrix_3x3"
   ]
  },
  {
   "cell_type": "markdown",
   "metadata": {
    "id": "H_Sw6n4ZbrCU"
   },
   "source": [
    "### 5. Create a 3x3 diagonal matrix with values 4, 8, and 12 on the diagonal\n"
   ]
  },
  {
   "cell_type": "code",
   "execution_count": 7,
   "metadata": {
    "colab": {
     "base_uri": "https://localhost:8080/"
    },
    "id": "7GQJr3rNbodL",
    "outputId": "1a002ba5-3403-430d-84ee-60ab4773b9c6"
   },
   "outputs": [
    {
     "data": {
      "text/plain": [
       "array([[ 4,  0,  0],\n",
       "       [ 0,  8,  0],\n",
       "       [ 0,  0, 12]])"
      ]
     },
     "execution_count": 7,
     "metadata": {},
     "output_type": "execute_result"
    }
   ],
   "source": [
    "diagonal_matrix = np.diag([4, 8, 12])\n",
    "diagonal_matrix"
   ]
  },
  {
   "cell_type": "markdown",
   "metadata": {
    "id": "ewhBcdMLbxgs"
   },
   "source": [
    "### 6. Create a 3x3 matrix with random values\n"
   ]
  },
  {
   "cell_type": "code",
   "execution_count": 9,
   "metadata": {
    "colab": {
     "base_uri": "https://localhost:8080/"
    },
    "id": "Lwlxw8NjbvoT",
    "outputId": "499f7205-8c1f-41d4-b90c-f3cda91fba14"
   },
   "outputs": [
    {
     "data": {
      "text/plain": [
       "array([[0.91552491, 0.93087625, 0.57216293],\n",
       "       [0.00756754, 0.77647312, 0.94061362],\n",
       "       [0.5865992 , 0.29553967, 0.8822094 ]])"
      ]
     },
     "execution_count": 9,
     "metadata": {},
     "output_type": "execute_result"
    }
   ],
   "source": [
    "random_matrix = np.random.rand(3, 3)\n",
    "random_matrix"
   ]
  },
  {
   "cell_type": "markdown",
   "metadata": {
    "id": "gDUiYOJeb3wY"
   },
   "source": [
    "### 7. Create a 3x3 matrix with normally distributed random values centered around 0\n"
   ]
  },
  {
   "cell_type": "code",
   "execution_count": 10,
   "metadata": {
    "colab": {
     "base_uri": "https://localhost:8080/"
    },
    "id": "zAHfk8w1b1Qb",
    "outputId": "2370b56b-713d-4b5b-de61-f419752ebc4c"
   },
   "outputs": [
    {
     "data": {
      "text/plain": [
       "array([[-0.91351748,  0.21644234,  0.0896773 ],\n",
       "       [-0.20423322,  0.11968444,  1.37176909],\n",
       "       [ 0.2278785 , -0.74539529,  0.84683695]])"
      ]
     },
     "execution_count": 10,
     "metadata": {},
     "output_type": "execute_result"
    }
   ],
   "source": [
    "normal_matrix = np.random.randn(3, 3)\n",
    "normal_matrix"
   ]
  },
  {
   "cell_type": "markdown",
   "metadata": {
    "id": "zOZPcoQKb-SX"
   },
   "source": [
    "### 8. Create a 4x4 matrix named mat and extract specified sections\n"
   ]
  },
  {
   "cell_type": "code",
   "execution_count": 13,
   "metadata": {
    "colab": {
     "base_uri": "https://localhost:8080/"
    },
    "id": "AKt5KhdSb8t1",
    "outputId": "ff20751f-971e-4659-955c-f50307cef948"
   },
   "outputs": [
    {
     "data": {
      "text/plain": [
       "array([[ 0,  1,  2,  3],\n",
       "       [ 4,  5,  6,  7],\n",
       "       [ 8,  9, 10, 11],\n",
       "       [12, 13, 14, 15]])"
      ]
     },
     "execution_count": 13,
     "metadata": {},
     "output_type": "execute_result"
    }
   ],
   "source": [
    "mat = np.arange(0, 16).reshape(4, 4)\n",
    "mat"
   ]
  },
  {
   "cell_type": "markdown",
   "metadata": {
    "id": "uWMGZJWAcD7c"
   },
   "source": [
    "##### 8.1 Extract the first row of the matrix\n"
   ]
  },
  {
   "cell_type": "code",
   "execution_count": 14,
   "metadata": {
    "colab": {
     "base_uri": "https://localhost:8080/"
    },
    "id": "PciIlcztcB14",
    "outputId": "d8bb20c6-2963-4d03-d792-bacfa2ca022c"
   },
   "outputs": [
    {
     "data": {
      "text/plain": [
       "array([0, 1, 2, 3])"
      ]
     },
     "execution_count": 14,
     "metadata": {},
     "output_type": "execute_result"
    }
   ],
   "source": [
    "first_row = mat[0, :]\n",
    "first_row"
   ]
  },
  {
   "cell_type": "markdown",
   "metadata": {
    "id": "BiD-GDcVcJxZ"
   },
   "source": [
    "##### 8.2 Extract the third column of the matrix\n"
   ]
  },
  {
   "cell_type": "code",
   "execution_count": 15,
   "metadata": {
    "colab": {
     "base_uri": "https://localhost:8080/"
    },
    "id": "jgwRBlOXcIIT",
    "outputId": "37bdcab8-04ae-4c01-fe2a-90cc03b60d7c"
   },
   "outputs": [
    {
     "data": {
      "text/plain": [
       "array([ 2,  6, 10, 14])"
      ]
     },
     "execution_count": 15,
     "metadata": {},
     "output_type": "execute_result"
    }
   ],
   "source": [
    "third_column = mat[:, 2]\n",
    "third_column"
   ]
  },
  {
   "cell_type": "markdown",
   "metadata": {
    "id": "clYDbxc-cQFQ"
   },
   "source": [
    "##### 8.3 Extract a 2x2 sub-matrix from the top-left corner\n"
   ]
  },
  {
   "cell_type": "code",
   "execution_count": 16,
   "metadata": {
    "colab": {
     "base_uri": "https://localhost:8080/"
    },
    "id": "EYZqK6XEcOjd",
    "outputId": "5be1dad2-27d3-4fca-cf9f-3f249905f774"
   },
   "outputs": [
    {
     "data": {
      "text/plain": [
       "array([[0, 1],\n",
       "       [4, 5]])"
      ]
     },
     "execution_count": 16,
     "metadata": {},
     "output_type": "execute_result"
    }
   ],
   "source": [
    "top_left_2x2 = mat[:2, :2]\n",
    "top_left_2x2"
   ]
  },
  {
   "cell_type": "markdown",
   "metadata": {
    "id": "2KW21W8McVjK"
   },
   "source": [
    "# Pandas\n"
   ]
  },
  {
   "cell_type": "markdown",
   "metadata": {
    "id": "PuPSR7c_L-e_"
   },
   "source": [
    "#### 1. Reading the File and Displaying Basic Information\n",
    "\n",
    "Question: <br/>\n",
    "Load the dataset from yektanet.csv into a DataFrame named df. Then, use the info and describe methods to display basic information and statistical summaries. Explain what each output tells you about the dataset.\n"
   ]
  },
  {
   "cell_type": "code",
   "execution_count": 20,
   "metadata": {},
   "outputs": [],
   "source": [
    "import pandas as pd"
   ]
  },
  {
   "cell_type": "code",
   "execution_count": 21,
   "metadata": {},
   "outputs": [
    {
     "name": "stdout",
     "output_type": "stream",
     "text": [
      "<class 'pandas.core.frame.DataFrame'>\n",
      "RangeIndex: 219619 entries, 0 to 219618\n",
      "Data columns (total 3 columns):\n",
      " #   Column       Non-Null Count   Dtype \n",
      "---  ------       --------------   ----- \n",
      " 0   keywords     219619 non-null  object\n",
      " 1   segments     219619 non-null  object\n",
      " 2   visit count  219619 non-null  int64 \n",
      "dtypes: int64(1), object(2)\n",
      "memory usage: 5.0+ MB\n"
     ]
    },
    {
     "data": {
      "text/html": [
       "<div>\n",
       "<style scoped>\n",
       "    .dataframe tbody tr th:only-of-type {\n",
       "        vertical-align: middle;\n",
       "    }\n",
       "\n",
       "    .dataframe tbody tr th {\n",
       "        vertical-align: top;\n",
       "    }\n",
       "\n",
       "    .dataframe thead th {\n",
       "        text-align: right;\n",
       "    }\n",
       "</style>\n",
       "<table border=\"1\" class=\"dataframe\">\n",
       "  <thead>\n",
       "    <tr style=\"text-align: right;\">\n",
       "      <th></th>\n",
       "      <th>visit count</th>\n",
       "    </tr>\n",
       "  </thead>\n",
       "  <tbody>\n",
       "    <tr>\n",
       "      <th>count</th>\n",
       "      <td>219619.000000</td>\n",
       "    </tr>\n",
       "    <tr>\n",
       "      <th>mean</th>\n",
       "      <td>498.717916</td>\n",
       "    </tr>\n",
       "    <tr>\n",
       "      <th>std</th>\n",
       "      <td>288.371056</td>\n",
       "    </tr>\n",
       "    <tr>\n",
       "      <th>min</th>\n",
       "      <td>0.000000</td>\n",
       "    </tr>\n",
       "    <tr>\n",
       "      <th>25%</th>\n",
       "      <td>250.000000</td>\n",
       "    </tr>\n",
       "    <tr>\n",
       "      <th>50%</th>\n",
       "      <td>498.000000</td>\n",
       "    </tr>\n",
       "    <tr>\n",
       "      <th>75%</th>\n",
       "      <td>748.000000</td>\n",
       "    </tr>\n",
       "    <tr>\n",
       "      <th>max</th>\n",
       "      <td>999.000000</td>\n",
       "    </tr>\n",
       "  </tbody>\n",
       "</table>\n",
       "</div>"
      ],
      "text/plain": [
       "         visit count\n",
       "count  219619.000000\n",
       "mean      498.717916\n",
       "std       288.371056\n",
       "min         0.000000\n",
       "25%       250.000000\n",
       "50%       498.000000\n",
       "75%       748.000000\n",
       "max       999.000000"
      ]
     },
     "execution_count": 21,
     "metadata": {},
     "output_type": "execute_result"
    }
   ],
   "source": [
    "df = pd.read_csv('yektanet.csv')\n",
    "df.info()\n",
    "df.describe()"
   ]
  },
  {
   "cell_type": "markdown",
   "metadata": {},
   "source": [
    "#### Explanation: \n",
    "df.info() provides an overview of the dataset's structure, including column names, non-null counts and data types, which helps identify missing values or data types.<br/><br/>\n",
    "df.describe() gives summary statistics for numerical columns, showing measures like mean, standard deviation, min, max, etc., which help understand data distribution."
   ]
  },
  {
   "cell_type": "markdown",
   "metadata": {
    "id": "IHrW0dQERH4f"
   },
   "source": [
    "#### 2. Accessing Data with iloc and loc\n",
    "\n",
    "Question:<br/>\n",
    "\n",
    "- Using iloc, select rows 10 to 20 and the first two columns.\n",
    "- Using loc, display rows 15 to 25 and the columns keywords and visit count.\n"
   ]
  },
  {
   "cell_type": "code",
   "execution_count": 26,
   "metadata": {
    "colab": {
     "base_uri": "https://localhost:8080/",
     "height": 394
    },
    "id": "cz7zvKIKRHkj",
    "outputId": "dbec5706-455a-4960-f099-07342b03a108"
   },
   "outputs": [
    {
     "data": {
      "text/html": [
       "<div>\n",
       "<style scoped>\n",
       "    .dataframe tbody tr th:only-of-type {\n",
       "        vertical-align: middle;\n",
       "    }\n",
       "\n",
       "    .dataframe tbody tr th {\n",
       "        vertical-align: top;\n",
       "    }\n",
       "\n",
       "    .dataframe thead th {\n",
       "        text-align: right;\n",
       "    }\n",
       "</style>\n",
       "<table border=\"1\" class=\"dataframe\">\n",
       "  <thead>\n",
       "    <tr style=\"text-align: right;\">\n",
       "      <th></th>\n",
       "      <th>keywords</th>\n",
       "      <th>segments</th>\n",
       "    </tr>\n",
       "  </thead>\n",
       "  <tbody>\n",
       "    <tr>\n",
       "      <th>10</th>\n",
       "      <td>['نتایج زنده', 'نتایج', 'زنده']</td>\n",
       "      <td>['maleSegment', 'varzeshi']</td>\n",
       "    </tr>\n",
       "    <tr>\n",
       "      <th>11</th>\n",
       "      <td>['ریزش', 'تزریق', 'مو']</td>\n",
       "      <td>['femaleSegment']</td>\n",
       "    </tr>\n",
       "    <tr>\n",
       "      <th>12</th>\n",
       "      <td>['هنرمند', 'ببر', 'مرا']</td>\n",
       "      <td>['maleSegment']</td>\n",
       "    </tr>\n",
       "    <tr>\n",
       "      <th>13</th>\n",
       "      <td>['لیگ برتر', 'برتر', 'لیگ']</td>\n",
       "      <td>['sarmayegozari', 'maleSegment']</td>\n",
       "    </tr>\n",
       "    <tr>\n",
       "      <th>14</th>\n",
       "      <td>['اورجینال', 'علی', 'آهنگ']</td>\n",
       "      <td>['femaleSegment']</td>\n",
       "    </tr>\n",
       "    <tr>\n",
       "      <th>15</th>\n",
       "      <td>['شام', 'لیست', 'متنوع', 'غذاهای']</td>\n",
       "      <td>['femaleSegment']</td>\n",
       "    </tr>\n",
       "    <tr>\n",
       "      <th>16</th>\n",
       "      <td>['نتایج زنده', 'نتایج', 'زنده']</td>\n",
       "      <td>['maleSegment']</td>\n",
       "    </tr>\n",
       "    <tr>\n",
       "      <th>17</th>\n",
       "      <td>['سود', 'محاسبه', 'بانکی', 'آنلاین', 'بلند']</td>\n",
       "      <td>['maleSegment']</td>\n",
       "    </tr>\n",
       "    <tr>\n",
       "      <th>18</th>\n",
       "      <td>['نتایج زنده', 'نتایج', 'زنده']</td>\n",
       "      <td>['maleSegment']</td>\n",
       "    </tr>\n",
       "    <tr>\n",
       "      <th>19</th>\n",
       "      <td>['نوت']</td>\n",
       "      <td>['maleSegment']</td>\n",
       "    </tr>\n",
       "    <tr>\n",
       "      <th>20</th>\n",
       "      <td>['نتایج زنده', 'نتایج', 'زنده']</td>\n",
       "      <td>['maleSegment']</td>\n",
       "    </tr>\n",
       "  </tbody>\n",
       "</table>\n",
       "</div>"
      ],
      "text/plain": [
       "                                        keywords  \\\n",
       "10               ['نتایج زنده', 'نتایج', 'زنده']   \n",
       "11                       ['ریزش', 'تزریق', 'مو']   \n",
       "12                      ['هنرمند', 'ببر', 'مرا']   \n",
       "13                   ['لیگ برتر', 'برتر', 'لیگ']   \n",
       "14                   ['اورجینال', 'علی', 'آهنگ']   \n",
       "15            ['شام', 'لیست', 'متنوع', 'غذاهای']   \n",
       "16               ['نتایج زنده', 'نتایج', 'زنده']   \n",
       "17  ['سود', 'محاسبه', 'بانکی', 'آنلاین', 'بلند']   \n",
       "18               ['نتایج زنده', 'نتایج', 'زنده']   \n",
       "19                                       ['نوت']   \n",
       "20               ['نتایج زنده', 'نتایج', 'زنده']   \n",
       "\n",
       "                            segments  \n",
       "10       ['maleSegment', 'varzeshi']  \n",
       "11                 ['femaleSegment']  \n",
       "12                   ['maleSegment']  \n",
       "13  ['sarmayegozari', 'maleSegment']  \n",
       "14                 ['femaleSegment']  \n",
       "15                 ['femaleSegment']  \n",
       "16                   ['maleSegment']  \n",
       "17                   ['maleSegment']  \n",
       "18                   ['maleSegment']  \n",
       "19                   ['maleSegment']  \n",
       "20                   ['maleSegment']  "
      ]
     },
     "execution_count": 26,
     "metadata": {},
     "output_type": "execute_result"
    }
   ],
   "source": [
    "iloc_selection = df.iloc[10:21, :2]\n",
    "iloc_selection"
   ]
  },
  {
   "cell_type": "code",
   "execution_count": 27,
   "metadata": {},
   "outputs": [
    {
     "data": {
      "text/html": [
       "<div>\n",
       "<style scoped>\n",
       "    .dataframe tbody tr th:only-of-type {\n",
       "        vertical-align: middle;\n",
       "    }\n",
       "\n",
       "    .dataframe tbody tr th {\n",
       "        vertical-align: top;\n",
       "    }\n",
       "\n",
       "    .dataframe thead th {\n",
       "        text-align: right;\n",
       "    }\n",
       "</style>\n",
       "<table border=\"1\" class=\"dataframe\">\n",
       "  <thead>\n",
       "    <tr style=\"text-align: right;\">\n",
       "      <th></th>\n",
       "      <th>keywords</th>\n",
       "      <th>visit count</th>\n",
       "    </tr>\n",
       "  </thead>\n",
       "  <tbody>\n",
       "    <tr>\n",
       "      <th>15</th>\n",
       "      <td>['شام', 'لیست', 'متنوع', 'غذاهای']</td>\n",
       "      <td>243</td>\n",
       "    </tr>\n",
       "    <tr>\n",
       "      <th>16</th>\n",
       "      <td>['نتایج زنده', 'نتایج', 'زنده']</td>\n",
       "      <td>324</td>\n",
       "    </tr>\n",
       "    <tr>\n",
       "      <th>17</th>\n",
       "      <td>['سود', 'محاسبه', 'بانکی', 'آنلاین', 'بلند']</td>\n",
       "      <td>810</td>\n",
       "    </tr>\n",
       "    <tr>\n",
       "      <th>18</th>\n",
       "      <td>['نتایج زنده', 'نتایج', 'زنده']</td>\n",
       "      <td>436</td>\n",
       "    </tr>\n",
       "    <tr>\n",
       "      <th>19</th>\n",
       "      <td>['نوت']</td>\n",
       "      <td>138</td>\n",
       "    </tr>\n",
       "    <tr>\n",
       "      <th>20</th>\n",
       "      <td>['نتایج زنده', 'نتایج', 'زنده']</td>\n",
       "      <td>479</td>\n",
       "    </tr>\n",
       "    <tr>\n",
       "      <th>21</th>\n",
       "      <td>['پریود', 'ویدئو', 'تاثیر']</td>\n",
       "      <td>525</td>\n",
       "    </tr>\n",
       "    <tr>\n",
       "      <th>22</th>\n",
       "      <td>['انگلیسی', 'کوتاه', 'متن']</td>\n",
       "      <td>404</td>\n",
       "    </tr>\n",
       "    <tr>\n",
       "      <th>23</th>\n",
       "      <td>['رمان', 'انجمن']</td>\n",
       "      <td>809</td>\n",
       "    </tr>\n",
       "    <tr>\n",
       "      <th>24</th>\n",
       "      <td>['رنگ']</td>\n",
       "      <td>900</td>\n",
       "    </tr>\n",
       "    <tr>\n",
       "      <th>25</th>\n",
       "      <td>['نتایج زنده', 'نتایج', 'زنده']</td>\n",
       "      <td>607</td>\n",
       "    </tr>\n",
       "  </tbody>\n",
       "</table>\n",
       "</div>"
      ],
      "text/plain": [
       "                                        keywords  visit count\n",
       "15            ['شام', 'لیست', 'متنوع', 'غذاهای']          243\n",
       "16               ['نتایج زنده', 'نتایج', 'زنده']          324\n",
       "17  ['سود', 'محاسبه', 'بانکی', 'آنلاین', 'بلند']          810\n",
       "18               ['نتایج زنده', 'نتایج', 'زنده']          436\n",
       "19                                       ['نوت']          138\n",
       "20               ['نتایج زنده', 'نتایج', 'زنده']          479\n",
       "21                   ['پریود', 'ویدئو', 'تاثیر']          525\n",
       "22                   ['انگلیسی', 'کوتاه', 'متن']          404\n",
       "23                             ['رمان', 'انجمن']          809\n",
       "24                                       ['رنگ']          900\n",
       "25               ['نتایج زنده', 'نتایج', 'زنده']          607"
      ]
     },
     "execution_count": 27,
     "metadata": {},
     "output_type": "execute_result"
    }
   ],
   "source": [
    "loc_selection = df.loc[15:25, ['keywords', 'visit count']]\n",
    "loc_selection"
   ]
  },
  {
   "cell_type": "markdown",
   "metadata": {
    "id": "xmmRqesVSApI"
   },
   "source": [
    "#### 3. 3. Storing and Dropping the segments Column from the DataFrame\n",
    "\n",
    "Question: <br/>\n",
    "First, store the segments column in a variable named segments. Then, remove the segments column from the df DataFrame.\n"
   ]
  },
  {
   "cell_type": "code",
   "execution_count": 31,
   "metadata": {
    "colab": {
     "base_uri": "https://localhost:8080/",
     "height": 206
    },
    "id": "3OwrBIWFRHSu",
    "outputId": "021f4840-d161-40d4-cc0f-2825437eb4fb"
   },
   "outputs": [
    {
     "data": {
      "text/html": [
       "<div>\n",
       "<style scoped>\n",
       "    .dataframe tbody tr th:only-of-type {\n",
       "        vertical-align: middle;\n",
       "    }\n",
       "\n",
       "    .dataframe tbody tr th {\n",
       "        vertical-align: top;\n",
       "    }\n",
       "\n",
       "    .dataframe thead th {\n",
       "        text-align: right;\n",
       "    }\n",
       "</style>\n",
       "<table border=\"1\" class=\"dataframe\">\n",
       "  <thead>\n",
       "    <tr style=\"text-align: right;\">\n",
       "      <th></th>\n",
       "      <th>keywords</th>\n",
       "      <th>visit count</th>\n",
       "    </tr>\n",
       "  </thead>\n",
       "  <tbody>\n",
       "    <tr>\n",
       "      <th>0</th>\n",
       "      <td>['باران', 'پروفایل']</td>\n",
       "      <td>127</td>\n",
       "    </tr>\n",
       "    <tr>\n",
       "      <th>1</th>\n",
       "      <td>['نتایج زنده', 'نتایج', 'زنده']</td>\n",
       "      <td>822</td>\n",
       "    </tr>\n",
       "    <tr>\n",
       "      <th>2</th>\n",
       "      <td>['معنی فارسی', 'معنی', 'فارسی', 'فارسی معنی']</td>\n",
       "      <td>726</td>\n",
       "    </tr>\n",
       "    <tr>\n",
       "      <th>3</th>\n",
       "      <td>['نتایج زنده', 'نتایج', 'زنده']</td>\n",
       "      <td>307</td>\n",
       "    </tr>\n",
       "    <tr>\n",
       "      <th>4</th>\n",
       "      <td>['نتایج زنده', 'نتایج', 'زنده']</td>\n",
       "      <td>778</td>\n",
       "    </tr>\n",
       "  </tbody>\n",
       "</table>\n",
       "</div>"
      ],
      "text/plain": [
       "                                        keywords  visit count\n",
       "0                           ['باران', 'پروفایل']          127\n",
       "1                ['نتایج زنده', 'نتایج', 'زنده']          822\n",
       "2  ['معنی فارسی', 'معنی', 'فارسی', 'فارسی معنی']          726\n",
       "3                ['نتایج زنده', 'نتایج', 'زنده']          307\n",
       "4                ['نتایج زنده', 'نتایج', 'زنده']          778"
      ]
     },
     "execution_count": 31,
     "metadata": {},
     "output_type": "execute_result"
    }
   ],
   "source": [
    "segments = df['segments']\n",
    "df = df.drop(columns='segments')\n",
    "df.head()"
   ]
  },
  {
   "cell_type": "markdown",
   "metadata": {
    "id": "n7cXMDejSIpj"
   },
   "source": [
    "#### 4. Creating Another DataFrame Using the segments Column and Concatenating It with the Main DataFrame\n",
    "\n",
    "Question: <br/>\n",
    "Use the segments column (which you previously stored in the segments variable) to create a new DataFrame called df_extra with columns keywords and segments. Then, concatenate df_extra with the main df DataFrame along the columns (axis=1).\n"
   ]
  },
  {
   "cell_type": "code",
   "execution_count": 35,
   "metadata": {
    "colab": {
     "base_uri": "https://localhost:8080/",
     "height": 206
    },
    "id": "bJol7knlRHQN",
    "outputId": "4c7b709e-86dd-40e4-c413-0374eb9bbf48"
   },
   "outputs": [
    {
     "data": {
      "text/html": [
       "<div>\n",
       "<style scoped>\n",
       "    .dataframe tbody tr th:only-of-type {\n",
       "        vertical-align: middle;\n",
       "    }\n",
       "\n",
       "    .dataframe tbody tr th {\n",
       "        vertical-align: top;\n",
       "    }\n",
       "\n",
       "    .dataframe thead th {\n",
       "        text-align: right;\n",
       "    }\n",
       "</style>\n",
       "<table border=\"1\" class=\"dataframe\">\n",
       "  <thead>\n",
       "    <tr style=\"text-align: right;\">\n",
       "      <th></th>\n",
       "      <th>keywords</th>\n",
       "      <th>visit count</th>\n",
       "      <th>segments</th>\n",
       "    </tr>\n",
       "  </thead>\n",
       "  <tbody>\n",
       "    <tr>\n",
       "      <th>0</th>\n",
       "      <td>['باران', 'پروفایل']</td>\n",
       "      <td>127</td>\n",
       "      <td>['khanevadehvakhanedari', 'salamat', 'moosighi...</td>\n",
       "    </tr>\n",
       "    <tr>\n",
       "      <th>1</th>\n",
       "      <td>['نتایج زنده', 'نتایج', 'زنده']</td>\n",
       "      <td>822</td>\n",
       "      <td>['maleSegment']</td>\n",
       "    </tr>\n",
       "    <tr>\n",
       "      <th>2</th>\n",
       "      <td>['معنی فارسی', 'معنی', 'فارسی', 'فارسی معنی']</td>\n",
       "      <td>726</td>\n",
       "      <td>['femaleSegment']</td>\n",
       "    </tr>\n",
       "    <tr>\n",
       "      <th>3</th>\n",
       "      <td>['نتایج زنده', 'نتایج', 'زنده']</td>\n",
       "      <td>307</td>\n",
       "      <td>['maleSegment']</td>\n",
       "    </tr>\n",
       "    <tr>\n",
       "      <th>4</th>\n",
       "      <td>['نتایج زنده', 'نتایج', 'زنده']</td>\n",
       "      <td>778</td>\n",
       "      <td>['maleSegment']</td>\n",
       "    </tr>\n",
       "  </tbody>\n",
       "</table>\n",
       "</div>"
      ],
      "text/plain": [
       "                                        keywords  visit count  \\\n",
       "0                           ['باران', 'پروفایل']          127   \n",
       "1                ['نتایج زنده', 'نتایج', 'زنده']          822   \n",
       "2  ['معنی فارسی', 'معنی', 'فارسی', 'فارسی معنی']          726   \n",
       "3                ['نتایج زنده', 'نتایج', 'زنده']          307   \n",
       "4                ['نتایج زنده', 'نتایج', 'زنده']          778   \n",
       "\n",
       "                                            segments  \n",
       "0  ['khanevadehvakhanedari', 'salamat', 'moosighi...  \n",
       "1                                    ['maleSegment']  \n",
       "2                                  ['femaleSegment']  \n",
       "3                                    ['maleSegment']  \n",
       "4                                    ['maleSegment']  "
      ]
     },
     "execution_count": 35,
     "metadata": {},
     "output_type": "execute_result"
    }
   ],
   "source": [
    "df_extra = pd.DataFrame({'segments': segments})\n",
    "df_combined = pd.concat([df, df_extra], axis=1)\n",
    "df_combined.head()"
   ]
  },
  {
   "cell_type": "markdown",
   "metadata": {
    "id": "aQfaLnfFPjR0"
   },
   "source": [
    "#### 5. Filter the keywords that include more than 1400 websites:\n",
    "\n",
    "Use groupby and the .filter() function to create a list of keywords that appear more than 1400 times in the DataFrame. Store the result in a variable called filtered_df.<br/>\n",
    "Hint: First, use groupby for the keywords, then use len to check the count.\n"
   ]
  },
  {
   "cell_type": "code",
   "execution_count": 38,
   "metadata": {
    "colab": {
     "base_uri": "https://localhost:8080/",
     "height": 206
    },
    "id": "QtLlhUHFMond",
    "outputId": "edf075ee-d05a-45fa-b0b2-1f54394119b8"
   },
   "outputs": [
    {
     "data": {
      "text/html": [
       "<div>\n",
       "<style scoped>\n",
       "    .dataframe tbody tr th:only-of-type {\n",
       "        vertical-align: middle;\n",
       "    }\n",
       "\n",
       "    .dataframe tbody tr th {\n",
       "        vertical-align: top;\n",
       "    }\n",
       "\n",
       "    .dataframe thead th {\n",
       "        text-align: right;\n",
       "    }\n",
       "</style>\n",
       "<table border=\"1\" class=\"dataframe\">\n",
       "  <thead>\n",
       "    <tr style=\"text-align: right;\">\n",
       "      <th></th>\n",
       "      <th>keywords</th>\n",
       "      <th>visit count</th>\n",
       "      <th>segments</th>\n",
       "    </tr>\n",
       "  </thead>\n",
       "  <tbody>\n",
       "    <tr>\n",
       "      <th>1</th>\n",
       "      <td>['نتایج زنده', 'نتایج', 'زنده']</td>\n",
       "      <td>822</td>\n",
       "      <td>['maleSegment']</td>\n",
       "    </tr>\n",
       "    <tr>\n",
       "      <th>3</th>\n",
       "      <td>['نتایج زنده', 'نتایج', 'زنده']</td>\n",
       "      <td>307</td>\n",
       "      <td>['maleSegment']</td>\n",
       "    </tr>\n",
       "    <tr>\n",
       "      <th>4</th>\n",
       "      <td>['نتایج زنده', 'نتایج', 'زنده']</td>\n",
       "      <td>778</td>\n",
       "      <td>['maleSegment']</td>\n",
       "    </tr>\n",
       "    <tr>\n",
       "      <th>10</th>\n",
       "      <td>['نتایج زنده', 'نتایج', 'زنده']</td>\n",
       "      <td>418</td>\n",
       "      <td>['maleSegment', 'varzeshi']</td>\n",
       "    </tr>\n",
       "    <tr>\n",
       "      <th>16</th>\n",
       "      <td>['نتایج زنده', 'نتایج', 'زنده']</td>\n",
       "      <td>324</td>\n",
       "      <td>['maleSegment']</td>\n",
       "    </tr>\n",
       "  </tbody>\n",
       "</table>\n",
       "</div>"
      ],
      "text/plain": [
       "                           keywords  visit count                     segments\n",
       "1   ['نتایج زنده', 'نتایج', 'زنده']          822              ['maleSegment']\n",
       "3   ['نتایج زنده', 'نتایج', 'زنده']          307              ['maleSegment']\n",
       "4   ['نتایج زنده', 'نتایج', 'زنده']          778              ['maleSegment']\n",
       "10  ['نتایج زنده', 'نتایج', 'زنده']          418  ['maleSegment', 'varzeshi']\n",
       "16  ['نتایج زنده', 'نتایج', 'زنده']          324              ['maleSegment']"
      ]
     },
     "execution_count": 38,
     "metadata": {},
     "output_type": "execute_result"
    }
   ],
   "source": [
    "filtered_df = df_combined.groupby('keywords').filter(lambda x: len(x) > 1400)\n",
    "filtered_df.head()"
   ]
  },
  {
   "cell_type": "markdown",
   "metadata": {
    "id": "AbeKAtYIPyDq"
   },
   "source": [
    "#### 6. Add a popularity column to filtered_df:\n",
    "\n",
    "Add a column called popularity to filtered_df, which represents the percentage of each website's visit count relative to the total visit count for that keyword.<br/>\n",
    "Hint: After grouping by keywords, use the .transform() function on the visit count column to calculate the percentage of each website’s visit count relative to the total visit count of its keyword group, and then multiply by 100.\n"
   ]
  },
  {
   "cell_type": "code",
   "execution_count": 40,
   "metadata": {
    "colab": {
     "base_uri": "https://localhost:8080/",
     "height": 206
    },
    "id": "1PGO5oK-PJs0",
    "outputId": "cd7fe21b-663f-4692-e9f2-c9902a07e8b4"
   },
   "outputs": [
    {
     "data": {
      "text/html": [
       "<div>\n",
       "<style scoped>\n",
       "    .dataframe tbody tr th:only-of-type {\n",
       "        vertical-align: middle;\n",
       "    }\n",
       "\n",
       "    .dataframe tbody tr th {\n",
       "        vertical-align: top;\n",
       "    }\n",
       "\n",
       "    .dataframe thead th {\n",
       "        text-align: right;\n",
       "    }\n",
       "</style>\n",
       "<table border=\"1\" class=\"dataframe\">\n",
       "  <thead>\n",
       "    <tr style=\"text-align: right;\">\n",
       "      <th></th>\n",
       "      <th>keywords</th>\n",
       "      <th>visit count</th>\n",
       "      <th>segments</th>\n",
       "      <th>popularity</th>\n",
       "    </tr>\n",
       "  </thead>\n",
       "  <tbody>\n",
       "    <tr>\n",
       "      <th>1</th>\n",
       "      <td>['نتایج زنده', 'نتایج', 'زنده']</td>\n",
       "      <td>822</td>\n",
       "      <td>['maleSegment']</td>\n",
       "      <td>0.016966</td>\n",
       "    </tr>\n",
       "    <tr>\n",
       "      <th>3</th>\n",
       "      <td>['نتایج زنده', 'نتایج', 'زنده']</td>\n",
       "      <td>307</td>\n",
       "      <td>['maleSegment']</td>\n",
       "      <td>0.006337</td>\n",
       "    </tr>\n",
       "    <tr>\n",
       "      <th>4</th>\n",
       "      <td>['نتایج زنده', 'نتایج', 'زنده']</td>\n",
       "      <td>778</td>\n",
       "      <td>['maleSegment']</td>\n",
       "      <td>0.016058</td>\n",
       "    </tr>\n",
       "    <tr>\n",
       "      <th>10</th>\n",
       "      <td>['نتایج زنده', 'نتایج', 'زنده']</td>\n",
       "      <td>418</td>\n",
       "      <td>['maleSegment', 'varzeshi']</td>\n",
       "      <td>0.008628</td>\n",
       "    </tr>\n",
       "    <tr>\n",
       "      <th>16</th>\n",
       "      <td>['نتایج زنده', 'نتایج', 'زنده']</td>\n",
       "      <td>324</td>\n",
       "      <td>['maleSegment']</td>\n",
       "      <td>0.006687</td>\n",
       "    </tr>\n",
       "  </tbody>\n",
       "</table>\n",
       "</div>"
      ],
      "text/plain": [
       "                           keywords  visit count                     segments  \\\n",
       "1   ['نتایج زنده', 'نتایج', 'زنده']          822              ['maleSegment']   \n",
       "3   ['نتایج زنده', 'نتایج', 'زنده']          307              ['maleSegment']   \n",
       "4   ['نتایج زنده', 'نتایج', 'زنده']          778              ['maleSegment']   \n",
       "10  ['نتایج زنده', 'نتایج', 'زنده']          418  ['maleSegment', 'varzeshi']   \n",
       "16  ['نتایج زنده', 'نتایج', 'زنده']          324              ['maleSegment']   \n",
       "\n",
       "    popularity  \n",
       "1     0.016966  \n",
       "3     0.006337  \n",
       "4     0.016058  \n",
       "10    0.008628  \n",
       "16    0.006687  "
      ]
     },
     "execution_count": 40,
     "metadata": {},
     "output_type": "execute_result"
    }
   ],
   "source": [
    "filtered_df['popularity'] = filtered_df.groupby('keywords')['visit count'].transform(lambda x: (x / x.sum()) * 100)\n",
    "filtered_df.head()"
   ]
  }
 ],
 "metadata": {
  "colab": {
   "provenance": []
  },
  "kernelspec": {
   "display_name": "Python 3",
   "name": "python3"
  },
  "language_info": {
   "codemirror_mode": {
    "name": "ipython",
    "version": 3
   },
   "file_extension": ".py",
   "mimetype": "text/x-python",
   "name": "python",
   "nbconvert_exporter": "python",
   "pygments_lexer": "ipython3",
   "version": "3.11.0"
  }
 },
 "nbformat": 4,
 "nbformat_minor": 0
}
